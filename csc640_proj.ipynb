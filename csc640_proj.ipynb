{
 "cells": [
  {
   "cell_type": "markdown",
   "metadata": {},
   "source": [
    "## this gets the data into csv format"
   ]
  },
  {
   "cell_type": "code",
   "execution_count": 1,
   "metadata": {},
   "outputs": [],
   "source": [
    "import warnings\n",
    "warnings.simplefilter(action='ignore', category=FutureWarning)\n",
    "warnings.filterwarnings(\"ignore\")\n",
    "import pandas as pd\n",
    "import numpy as np"
   ]
  },
  {
   "cell_type": "code",
   "execution_count": 2,
   "metadata": {},
   "outputs": [],
   "source": [
    "#this is commented out because it takes forever and I will just provide the filtered files. \n",
    "#however it is good to see how we did this\n",
    "\n",
    "#open('filtered_data\\q1_commit_messages_filtered.txt','w',encoding=\"utf8\").writelines(line.replace('][',' ||| ').replace('] = ', ' ||| ').replace('commit_log[','') for line in open('raw_data\\q1_commit_messages.txt',encoding=\"utf8\") if 'commit_log' in line)\n",
    "#open('filtered_data\\q2_commit_dates_epoch_timestamp_filtered.txt','w',encoding=\"utf8\").writelines(line.replace('][',' ||| ').replace('] = ', ' ||| ').replace('commit_log[','') for line in open('raw_data\\q2_commit_dates_epoch_timestamp.txt',encoding=\"utf8\") if 'commit_log' in line)\n",
    "#open('filtered_data\\q3_author_names_filtered.txt','w',encoding=\"utf8\").writelines(line.replace('][',' ||| ').replace('] = ', ' ||| ').replace('commit_log[','') for line in open('raw_data\\q3_author_names.txt',encoding=\"utf8\") if 'commit_log' in line)\n",
    "#open('filtered_data\\q4_committer_names_filtered.txt','w',encoding=\"utf8\").writelines(line.replace('][',' ||| ').replace('] = ', ' ||| ').replace('commit_log[','') for line in open('raw_data\\q4_committer_names.txt',encoding=\"utf8\") if 'commit_log' in line)\n",
    "#open('filtered_data\\q5_all_changed_files_filtered.txt','w',encoding=\"utf8\").writelines(line.replace('][',' ||| ').replace('] = ', ' ||| ').replace('commit_log[','') for line in open('raw_data\\q5_all_changed_files.txt',encoding=\"utf8\") if 'commit_log' in line)\n",
    "#open('filtered_data\\q6_deleted_files_filtered.txt','w',encoding=\"utf8\").writelines(line.replace('][',' ||| ').replace('] = ', ' ||| ').replace('commit_log[','') for line in open('raw_data\\q6_deleted_files.txt',encoding=\"utf8\") if 'commit_log' in line)\n",
    "#open('filtered_data\\q7_added_files_filtered.txt','w',encoding=\"utf8\").writelines(line.replace('][',' ||| ').replace('] = ', ' ||| ').replace('commit_log[','') for line in open('raw_data\\q7_added_files.txt',encoding=\"utf8\") if 'commit_log' in line)\n",
    "#open('filtered_data\\q8_modified_files_filtered.txt','w',encoding=\"utf8\").writelines(line.replace('][',' ||| ').replace('] = ', ' ||| ').replace('commit_log[','') for line in open('raw_data\\q8_modified_files.txt',encoding=\"utf8\") if 'commit_log' in line)\n",
    "#open('filtered_data\\q10_commit_count_by_project_filtered.txt','w',encoding=\"utf8\").writelines(line.replace('][',' ||| ').replace('] = ', ' ||| ').replace('commit_log[','') for line in open('raw_data\\q10_commit_count_by_project.txt',encoding=\"utf8\") if 'commit_log' in line)"
   ]
  },
  {
   "cell_type": "markdown",
   "metadata": {},
   "source": [
    "## here we bring the filtered files in and merge the first set into one dataframe"
   ]
  },
  {
   "cell_type": "code",
   "execution_count": 3,
   "metadata": {
    "scrolled": true
   },
   "outputs": [],
   "source": [
    "messages = pd.read_csv('filtered_data/q1_commit_messages_filtered.txt', usecols=[0,1,2], sep='\\|\\|\\|', names=['project_id','commit_id','message'])\n",
    "timestamps = pd.read_csv('filtered_data/q2_commit_dates_epoch_timestamp_filtered.txt', usecols=[0,1,2], sep='\\|\\|\\|', names=['project_id','commit_id','timestamp'])\n",
    "authors = pd.read_csv('filtered_data/q3_author_names_filtered.txt', usecols=[0,1,2], sep='\\|\\|\\|', names=['project_id','author_name','commit_id'])\n",
    "committers = pd.read_csv('filtered_data/q4_committer_names_filtered.txt', usecols=[0,1,2], sep='\\|\\|\\|', names=['project_id','commit_id','committer_name'])"
   ]
  },
  {
   "cell_type": "code",
   "execution_count": 4,
   "metadata": {},
   "outputs": [],
   "source": [
    "#merge all the message related files together\n",
    "merge1 = pd.merge(messages,timestamps, on=['project_id','commit_id'])\n",
    "merge2 = pd.merge(merge1, authors, on=['project_id','commit_id'])\n",
    "merged_data = pd.merge(merge2,committers, on=['project_id','commit_id'])"
   ]
  },
  {
   "cell_type": "code",
   "execution_count": 5,
   "metadata": {},
   "outputs": [],
   "source": [
    "#drop any rows that dont have a message because we dont need them\n",
    "merged_data.dropna(subset=['message'], inplace=True)"
   ]
  },
  {
   "cell_type": "code",
   "execution_count": 6,
   "metadata": {
    "scrolled": true
   },
   "outputs": [],
   "source": [
    "#spit out all the messages to a file alone for processing by sentistrength\n",
    "merged_data.message.to_csv('sentistrength_run/messages_only.csv', header=False, index=False)"
   ]
  },
  {
   "cell_type": "markdown",
   "metadata": {},
   "source": [
    "## here, we manually run the sentistrength tool on the messages_only file, which produces the messages_only_results file which we can then merge with the main dataframe"
   ]
  },
  {
   "cell_type": "code",
   "execution_count": 7,
   "metadata": {},
   "outputs": [],
   "source": [
    "#bring the strengths data in from the sentistrength results file\n",
    "strengths = pd.read_csv('sentistrength_run/messages_only_results.txt', usecols=[1,2], sep='\\t', dtype=str, names=['positive_strength','negative_strength'])"
   ]
  },
  {
   "cell_type": "code",
   "execution_count": 8,
   "metadata": {},
   "outputs": [],
   "source": [
    "#merge the strengths with the main dataframe\n",
    "merged_data.reset_index(drop=True, inplace=True)\n",
    "commit_messages_final = pd.concat([merged_data,strengths],axis=1)"
   ]
  },
  {
   "cell_type": "markdown",
   "metadata": {},
   "source": [
    "## done with commit messages, moving on to changed files"
   ]
  },
  {
   "cell_type": "code",
   "execution_count": 9,
   "metadata": {},
   "outputs": [],
   "source": [
    "#Bring in all the file related stuff\n",
    "all_changes = pd.read_csv('filtered_data/q5_all_changed_files_filtered.txt', usecols=[0,1], sep='\\|\\|\\|', names=['commit_id','filepath'])\n",
    "deletes = pd.read_csv('filtered_data/q6_deleted_files_filtered.txt', usecols=[0,1], sep='\\|\\|\\|', names=['commit_id','filepath'])\n",
    "adds = pd.read_csv('filtered_data/q7_added_files_filtered.txt', usecols=[0,1], sep='\\|\\|\\|', names=['commit_id','filepath'])\n",
    "modifies = pd.read_csv('filtered_data/q8_modified_files_filtered.txt', usecols=[0,1], sep='\\|\\|\\|', names=['commit_id','filepath'])"
   ]
  },
  {
   "cell_type": "code",
   "execution_count": 10,
   "metadata": {},
   "outputs": [],
   "source": [
    "#tag the deletes\n",
    "merge_deletes = pd.merge(all_changes, deletes, on=['commit_id','filepath'], how='left', indicator='modif')\n",
    "merge_deletes['modif'] = np.where(merge_deletes.modif == 'both', 'Delete', '')"
   ]
  },
  {
   "cell_type": "code",
   "execution_count": 11,
   "metadata": {},
   "outputs": [],
   "source": [
    "#tag the adds\n",
    "merge_adds = pd.merge(all_changes, adds, on=['commit_id','filepath'], how='left', indicator='modif')\n",
    "merge_adds['modif'] = np.where(merge_adds.modif == 'both', 'Add', '')"
   ]
  },
  {
   "cell_type": "code",
   "execution_count": 12,
   "metadata": {},
   "outputs": [],
   "source": [
    "#tag the modifies\n",
    "merge_modifies = pd.merge(all_changes, modifies, on=['commit_id','filepath'], how='left', indicator='modif')\n",
    "merge_modifies['modif'] = np.where(merge_modifies.modif == 'both', 'Modify', '')"
   ]
  },
  {
   "cell_type": "code",
   "execution_count": 13,
   "metadata": {},
   "outputs": [],
   "source": [
    "#merge the deletes and adds tag frames together\n",
    "temp_files_merge = pd.merge(merge_deletes, merge_adds, on=['commit_id','filepath'])"
   ]
  },
  {
   "cell_type": "code",
   "execution_count": 14,
   "metadata": {},
   "outputs": [],
   "source": [
    "#squash down the columns in the delete/add frame so the tags are in the same column\n",
    "temp_files_merge['modif'] = temp_files_merge['modif_x'].where(temp_files_merge['modif_x'] != '', temp_files_merge['modif_y'])\n",
    "temp_files_merge = temp_files_merge.drop(['modif_x','modif_y'],axis=1)"
   ]
  },
  {
   "cell_type": "code",
   "execution_count": 15,
   "metadata": {},
   "outputs": [],
   "source": [
    "#merge the delete/add frame and the modify frame together\n",
    "temp_files_merge2 = pd.merge(temp_files_merge, merge_modifies, on=['commit_id','filepath'])"
   ]
  },
  {
   "cell_type": "code",
   "execution_count": 16,
   "metadata": {},
   "outputs": [],
   "source": [
    "#squash down the columns in the final frame so the all tags are in the same column\n",
    "temp_files_merge2['modification'] = temp_files_merge2['modif_x'].where(temp_files_merge2['modif_x'] != '', temp_files_merge2['modif_y'])\n",
    "files_changed_final = temp_files_merge2.drop(['modif_x','modif_y'],axis=1)"
   ]
  },
  {
   "cell_type": "markdown",
   "metadata": {},
   "source": [
    "##  here are the final pandas dataframes:"
   ]
  },
  {
   "cell_type": "code",
   "execution_count": 17,
   "metadata": {},
   "outputs": [
    {
     "data": {
      "text/html": [
       "<div>\n",
       "<style scoped>\n",
       "    .dataframe tbody tr th:only-of-type {\n",
       "        vertical-align: middle;\n",
       "    }\n",
       "\n",
       "    .dataframe tbody tr th {\n",
       "        vertical-align: top;\n",
       "    }\n",
       "\n",
       "    .dataframe thead th {\n",
       "        text-align: right;\n",
       "    }\n",
       "</style>\n",
       "<table border=\"1\" class=\"dataframe\">\n",
       "  <thead>\n",
       "    <tr style=\"text-align: right;\">\n",
       "      <th></th>\n",
       "      <th>project_id</th>\n",
       "      <th>commit_id</th>\n",
       "      <th>message</th>\n",
       "      <th>timestamp</th>\n",
       "      <th>author_name</th>\n",
       "      <th>committer_name</th>\n",
       "      <th>positive_strength</th>\n",
       "      <th>negative_strength</th>\n",
       "    </tr>\n",
       "  </thead>\n",
       "  <tbody>\n",
       "    <tr>\n",
       "      <th>0</th>\n",
       "      <td>10000244</td>\n",
       "      <td>0515c7d89f97bf7f1e488ac39dcc8fe1ee79f605</td>\n",
       "      <td>photo in progress</td>\n",
       "      <td>1368287540000000</td>\n",
       "      <td>syhw</td>\n",
       "      <td>syhw</td>\n",
       "      <td>1</td>\n",
       "      <td>-1</td>\n",
       "    </tr>\n",
       "    <tr>\n",
       "      <th>1</th>\n",
       "      <td>10000244</td>\n",
       "      <td>07abeaf9bd85eb77f0774607161a7ccb3ed8dff3</td>\n",
       "      <td>stashing</td>\n",
       "      <td>1368350990000000</td>\n",
       "      <td>syhw</td>\n",
       "      <td>syhw</td>\n",
       "      <td>1</td>\n",
       "      <td>-1</td>\n",
       "    </tr>\n",
       "    <tr>\n",
       "      <th>2</th>\n",
       "      <td>10000244</td>\n",
       "      <td>11f46d585bfc263e11b0556566559e6513cca0e4</td>\n",
       "      <td>R</td>\n",
       "      <td>1368360617000000</td>\n",
       "      <td>syhw</td>\n",
       "      <td>syhw</td>\n",
       "      <td>1</td>\n",
       "      <td>-1</td>\n",
       "    </tr>\n",
       "    <tr>\n",
       "      <th>3</th>\n",
       "      <td>10000244</td>\n",
       "      <td>25ffeb626cd9146c483c6144b8208b5bd6cf26c4</td>\n",
       "      <td>merged photo (working) with master, see TODOs...</td>\n",
       "      <td>1368343098000000</td>\n",
       "      <td>syhw</td>\n",
       "      <td>syhw</td>\n",
       "      <td>1</td>\n",
       "      <td>-1</td>\n",
       "    </tr>\n",
       "    <tr>\n",
       "      <th>4</th>\n",
       "      <td>10000244</td>\n",
       "      <td>33ac9b6d9da4234c93ae3d9e0d7b0f41edb99d8a</td>\n",
       "      <td>Request task</td>\n",
       "      <td>1368352917000000</td>\n",
       "      <td>syhw</td>\n",
       "      <td>syhw</td>\n",
       "      <td>1</td>\n",
       "      <td>-1</td>\n",
       "    </tr>\n",
       "  </tbody>\n",
       "</table>\n",
       "</div>"
      ],
      "text/plain": [
       "   project_id                                   commit_id  \\\n",
       "0    10000244   0515c7d89f97bf7f1e488ac39dcc8fe1ee79f605    \n",
       "1    10000244   07abeaf9bd85eb77f0774607161a7ccb3ed8dff3    \n",
       "2    10000244   11f46d585bfc263e11b0556566559e6513cca0e4    \n",
       "3    10000244   25ffeb626cd9146c483c6144b8208b5bd6cf26c4    \n",
       "4    10000244   33ac9b6d9da4234c93ae3d9e0d7b0f41edb99d8a    \n",
       "\n",
       "                                             message         timestamp  \\\n",
       "0                                  photo in progress  1368287540000000   \n",
       "1                                           stashing  1368350990000000   \n",
       "2                                                  R  1368360617000000   \n",
       "3   merged photo (working) with master, see TODOs...  1368343098000000   \n",
       "4                                       Request task  1368352917000000   \n",
       "\n",
       "  author_name committer_name positive_strength negative_strength  \n",
       "0       syhw            syhw                 1                -1  \n",
       "1       syhw            syhw                 1                -1  \n",
       "2       syhw            syhw                 1                -1  \n",
       "3       syhw            syhw                 1                -1  \n",
       "4       syhw            syhw                 1                -1  "
      ]
     },
     "execution_count": 17,
     "metadata": {},
     "output_type": "execute_result"
    }
   ],
   "source": [
    "commit_messages_final.head()"
   ]
  },
  {
   "cell_type": "code",
   "execution_count": 18,
   "metadata": {},
   "outputs": [
    {
     "data": {
      "text/html": [
       "<div>\n",
       "<style scoped>\n",
       "    .dataframe tbody tr th:only-of-type {\n",
       "        vertical-align: middle;\n",
       "    }\n",
       "\n",
       "    .dataframe tbody tr th {\n",
       "        vertical-align: top;\n",
       "    }\n",
       "\n",
       "    .dataframe thead th {\n",
       "        text-align: right;\n",
       "    }\n",
       "</style>\n",
       "<table border=\"1\" class=\"dataframe\">\n",
       "  <thead>\n",
       "    <tr style=\"text-align: right;\">\n",
       "      <th></th>\n",
       "      <th>commit_id</th>\n",
       "      <th>filepath</th>\n",
       "      <th>modification</th>\n",
       "    </tr>\n",
       "  </thead>\n",
       "  <tbody>\n",
       "    <tr>\n",
       "      <th>0</th>\n",
       "      <td>000e3673387b662e32f1037eeaea2aa29b630448</td>\n",
       "      <td>Sources/Internal/Platform/TemplateMacOS/MainW...</td>\n",
       "      <td>Modify</td>\n",
       "    </tr>\n",
       "    <tr>\n",
       "      <th>1</th>\n",
       "      <td>000e3673387b662e32f1037eeaea2aa29b630448</td>\n",
       "      <td>Tools/ResourceEditor/Classes/Qt/Tools/LodCorr...</td>\n",
       "      <td>Delete</td>\n",
       "    </tr>\n",
       "    <tr>\n",
       "      <th>2</th>\n",
       "      <td>000e3673387b662e32f1037eeaea2aa29b630448</td>\n",
       "      <td>Tools/ResourceEditor/Classes/Qt/Tools/LodCorr...</td>\n",
       "      <td>Delete</td>\n",
       "    </tr>\n",
       "    <tr>\n",
       "      <th>3</th>\n",
       "      <td>000e3673387b662e32f1037eeaea2aa29b630448</td>\n",
       "      <td>Tools/ResourceEditor/Classes/Qt/Tools/LodCorr...</td>\n",
       "      <td>Delete</td>\n",
       "    </tr>\n",
       "    <tr>\n",
       "      <th>4</th>\n",
       "      <td>000e3673387b662e32f1037eeaea2aa29b630448</td>\n",
       "      <td>Tools/ResourceEditor/Classes/Qt/Tools/LodCorr...</td>\n",
       "      <td>Delete</td>\n",
       "    </tr>\n",
       "  </tbody>\n",
       "</table>\n",
       "</div>"
      ],
      "text/plain": [
       "                                   commit_id  \\\n",
       "0  000e3673387b662e32f1037eeaea2aa29b630448    \n",
       "1  000e3673387b662e32f1037eeaea2aa29b630448    \n",
       "2  000e3673387b662e32f1037eeaea2aa29b630448    \n",
       "3  000e3673387b662e32f1037eeaea2aa29b630448    \n",
       "4  000e3673387b662e32f1037eeaea2aa29b630448    \n",
       "\n",
       "                                            filepath modification  \n",
       "0   Sources/Internal/Platform/TemplateMacOS/MainW...       Modify  \n",
       "1   Tools/ResourceEditor/Classes/Qt/Tools/LodCorr...       Delete  \n",
       "2   Tools/ResourceEditor/Classes/Qt/Tools/LodCorr...       Delete  \n",
       "3   Tools/ResourceEditor/Classes/Qt/Tools/LodCorr...       Delete  \n",
       "4   Tools/ResourceEditor/Classes/Qt/Tools/LodCorr...       Delete  "
      ]
     },
     "execution_count": 18,
     "metadata": {},
     "output_type": "execute_result"
    }
   ],
   "source": [
    "files_changed_final.head()"
   ]
  }
 ],
 "metadata": {
  "kernelspec": {
   "display_name": "Python 2",
   "language": "python",
   "name": "python2"
  },
  "language_info": {
   "codemirror_mode": {
    "name": "ipython",
    "version": 2
   },
   "file_extension": ".py",
   "mimetype": "text/x-python",
   "name": "python",
   "nbconvert_exporter": "python",
   "pygments_lexer": "ipython2",
   "version": "2.7.16"
  }
 },
 "nbformat": 4,
 "nbformat_minor": 2
}
