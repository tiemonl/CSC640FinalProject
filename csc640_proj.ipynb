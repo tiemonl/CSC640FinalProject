{
 "cells": [
  {
   "cell_type": "markdown",
   "metadata": {},
   "source": [
    "## this gets the data into csv format"
   ]
  },
  {
   "cell_type": "code",
   "execution_count": 1,
   "metadata": {
    "collapsed": true
   },
   "outputs": [],
   "source": [
    "import warnings\n",
    "warnings.simplefilter(action='ignore', category=FutureWarning)\n",
    "warnings.filterwarnings(\"ignore\")\n",
    "import pandas as pd\n",
    "import numpy as np\n",
    "import matplotlib.pyplot as plt\n",
    "from datetime import timedelta"
   ]
  },
  {
   "cell_type": "code",
   "execution_count": 70,
   "metadata": {
    "collapsed": true
   },
   "outputs": [],
   "source": [
    "#this is commented out because it takes forever and I will just provide the filtered files. \n",
    "#however it is good to see how we did this\n",
    "\n",
    "#open('filtered_data\\q1_commit_messages_filtered.txt','w',encoding=\"utf8\").writelines(line.replace('][',' ||| ').replace('] = ', ' ||| ').replace('commit_log[','') for line in open('raw_data\\q1_commit_messages.txt',encoding=\"utf8\") if 'commit_log' in line)\n",
    "#open('filtered_data\\q2_commit_dates_epoch_timestamp_filtered.txt','w',encoding=\"utf8\").writelines(line.replace('][',' ||| ').replace('] = ', ' ||| ').replace('commit_log[','') for line in open('raw_data\\q2_commit_dates_epoch_timestamp.txt',encoding=\"utf8\") if 'commit_log' in line)\n",
    "#open('filtered_data\\q3_author_names_filtered.txt','w',encoding=\"utf8\").writelines(line.replace('][',' ||| ').replace('] = ', ' ||| ').replace('commit_log[','') for line in open('raw_data\\q3_author_names.txt',encoding=\"utf8\") if 'commit_log' in line)\n",
    "#open('filtered_data\\q4_committer_names_filtered.txt','w',encoding=\"utf8\").writelines(line.replace('][',' ||| ').replace('] = ', ' ||| ').replace('commit_log[','') for line in open('raw_data\\q4_committer_names.txt',encoding=\"utf8\") if 'commit_log' in line)\n",
    "#open('filtered_data\\q5_all_changed_files_filtered.txt','w',encoding=\"utf8\").writelines(line.replace('][',' ||| ').replace('] = ', ' ||| ').replace('commit_log[','') for line in open('raw_data\\q5_all_changed_files.txt',encoding=\"utf8\") if 'commit_log' in line)\n",
    "#open('filtered_data\\q6_deleted_files_filtered.txt','w',encoding=\"utf8\").writelines(line.replace('][',' ||| ').replace('] = ', ' ||| ').replace('commit_log[','') for line in open('raw_data\\q6_deleted_files.txt',encoding=\"utf8\") if 'commit_log' in line)\n",
    "#open('filtered_data\\q7_added_files_filtered.txt','w',encoding=\"utf8\").writelines(line.replace('][',' ||| ').replace('] = ', ' ||| ').replace('commit_log[','') for line in open('raw_data\\q7_added_files.txt',encoding=\"utf8\") if 'commit_log' in line)\n",
    "#open('filtered_data\\q8_modified_files_filtered.txt','w',encoding=\"utf8\").writelines(line.replace('][',' ||| ').replace('] = ', ' ||| ').replace('commit_log[','') for line in open('raw_data\\q8_modified_files.txt',encoding=\"utf8\") if 'commit_log' in line)\n",
    "#open('filtered_data\\q10_commit_count_by_project_filtered.txt','w',encoding=\"utf8\").writelines(line.replace('][',' ||| ').replace('] = ', ' ||| ').replace('commit_log[','') for line in open('raw_data\\q10_commit_count_by_project.txt',encoding=\"utf8\") if 'commit_log' in line)\n",
    "#open('filtered_data\\q11_commits_all_langs_filtered.txt','w',encoding=\"utf8\").writelines(line.replace('][',' ||| ').replace('] = ', ' ||| ').replace('commit_log[','') for line in open('raw_data\\q11_commits_all_langs.txt',encoding=\"utf8\") if 'commit_log' in line)"
   ]
  },
  {
   "cell_type": "markdown",
   "metadata": {},
   "source": [
    "## here we bring the filtered files in and merge the first set into one dataframe"
   ]
  },
  {
   "cell_type": "code",
   "execution_count": 3,
   "metadata": {
    "collapsed": true,
    "scrolled": true
   },
   "outputs": [],
   "source": [
    "messages = pd.read_csv('filtered_data/q1_commit_messages_filtered.txt', usecols=[0,1,2], sep='\\|\\|\\|', names=['project_id','commit_id','message'])\n",
    "timestamps = pd.read_csv('filtered_data/q2_commit_dates_epoch_timestamp_filtered.txt', usecols=[0,1,2], sep='\\|\\|\\|', names=['project_id','commit_id','timestamp'])\n",
    "authors = pd.read_csv('filtered_data/q3_author_names_filtered.txt', usecols=[0,1,2], sep='\\|\\|\\|', names=['project_id','author_name','commit_id'])\n",
    "committers = pd.read_csv('filtered_data/q4_committer_names_filtered.txt', usecols=[0,1,2], sep='\\|\\|\\|', names=['project_id','commit_id','committer_name'])"
   ]
  },
  {
   "cell_type": "code",
   "execution_count": 4,
   "metadata": {
    "collapsed": true
   },
   "outputs": [],
   "source": [
    "#merge all the message related files together\n",
    "merge1 = pd.merge(messages,timestamps, on=['project_id','commit_id'])\n",
    "merge2 = pd.merge(merge1, authors, on=['project_id','commit_id'])\n",
    "merged_data = pd.merge(merge2,committers, on=['project_id','commit_id'])"
   ]
  },
  {
   "cell_type": "code",
   "execution_count": 5,
   "metadata": {
    "collapsed": true
   },
   "outputs": [],
   "source": [
    "#drop any rows that dont have a message because we dont need them\n",
    "merged_data.dropna(subset=['message'], inplace=True)"
   ]
  },
  {
   "cell_type": "code",
   "execution_count": 6,
   "metadata": {
    "collapsed": true,
    "scrolled": true
   },
   "outputs": [],
   "source": [
    "#spit out all the messages to a file alone for processing by sentistrength\n",
    "merged_data.message.to_csv('sentistrength_run/messages_only.csv', header=False, index=False)"
   ]
  },
  {
   "cell_type": "markdown",
   "metadata": {},
   "source": [
    "## here, we manually run the sentistrength tool on the messages_only file, which produces the messages_only_results file which we can then merge with the main dataframe"
   ]
  },
  {
   "cell_type": "code",
   "execution_count": 7,
   "metadata": {
    "collapsed": true
   },
   "outputs": [],
   "source": [
    "#bring the strengths data in from the sentistrength results file\n",
    "strengths = pd.read_csv('sentistrength_run/messages_only_results.txt', usecols=[1,2], sep='\\t', dtype=str, names=['positive_strength','negative_strength'])"
   ]
  },
  {
   "cell_type": "code",
   "execution_count": 8,
   "metadata": {
    "collapsed": true
   },
   "outputs": [],
   "source": [
    "#merge the strengths with the main dataframe\n",
    "merged_data.reset_index(drop=True, inplace=True)\n",
    "commit_messages_final = pd.concat([merged_data,strengths],axis=1)"
   ]
  },
  {
   "cell_type": "code",
   "execution_count": 9,
   "metadata": {
    "collapsed": true
   },
   "outputs": [],
   "source": [
    "#convert the timestamp to date and add a day of week field\n",
    "commit_messages_final[\"timestamp\"] = commit_messages_final[\"timestamp\"].astype(str)\n",
    "commit_messages_final[\"timestamp\"] = commit_messages_final[\"timestamp\"].str[:10]\n",
    "commit_messages_final['timestamp'] = pd.to_datetime(commit_messages_final['timestamp'],unit='s',errors='coerce')\n",
    "commit_messages_final['day_of_week'] = commit_messages_final['timestamp'].dt.weekday_name\n",
    "commit_messages_final['year'] = commit_messages_final['timestamp'].dt.year"
   ]
  },
  {
   "cell_type": "code",
   "execution_count": 10,
   "metadata": {
    "collapsed": true
   },
   "outputs": [],
   "source": [
    "#compute final sentiment value from sum of positive and negative\n",
    "commit_messages_final['final_sentiment'] = pd.to_numeric(commit_messages_final['positive_strength']) + pd.to_numeric(commit_messages_final['negative_strength'])"
   ]
  },
  {
   "cell_type": "markdown",
   "metadata": {},
   "source": [
    "## done with commit messages, moving on to changed files"
   ]
  },
  {
   "cell_type": "code",
   "execution_count": 11,
   "metadata": {
    "collapsed": true
   },
   "outputs": [],
   "source": [
    "#Bring in all the file related stuff\n",
    "all_changes = pd.read_csv('filtered_data/q5_all_changed_files_filtered.txt', usecols=[0,1], sep='\\|\\|\\|', names=['commit_id','filepath'])\n",
    "deletes = pd.read_csv('filtered_data/q6_deleted_files_filtered.txt', usecols=[0,1], sep='\\|\\|\\|', names=['commit_id','filepath'])\n",
    "adds = pd.read_csv('filtered_data/q7_added_files_filtered.txt', usecols=[0,1], sep='\\|\\|\\|', names=['commit_id','filepath'])\n",
    "modifies = pd.read_csv('filtered_data/q8_modified_files_filtered.txt', usecols=[0,1], sep='\\|\\|\\|', names=['commit_id','filepath'])"
   ]
  },
  {
   "cell_type": "code",
   "execution_count": 12,
   "metadata": {
    "collapsed": true
   },
   "outputs": [],
   "source": [
    "#tag the deletes\n",
    "merge_deletes = pd.merge(all_changes, deletes, on=['commit_id','filepath'], how='left', indicator='modif')\n",
    "merge_deletes['modif'] = np.where(merge_deletes.modif == 'both', 'Delete', '')"
   ]
  },
  {
   "cell_type": "code",
   "execution_count": 13,
   "metadata": {
    "collapsed": true
   },
   "outputs": [],
   "source": [
    "#tag the adds\n",
    "merge_adds = pd.merge(all_changes, adds, on=['commit_id','filepath'], how='left', indicator='modif')\n",
    "merge_adds['modif'] = np.where(merge_adds.modif == 'both', 'Add', '')"
   ]
  },
  {
   "cell_type": "code",
   "execution_count": 14,
   "metadata": {
    "collapsed": true
   },
   "outputs": [],
   "source": [
    "#tag the modifies\n",
    "merge_modifies = pd.merge(all_changes, modifies, on=['commit_id','filepath'], how='left', indicator='modif')\n",
    "merge_modifies['modif'] = np.where(merge_modifies.modif == 'both', 'Modify', '')"
   ]
  },
  {
   "cell_type": "code",
   "execution_count": 15,
   "metadata": {
    "collapsed": true
   },
   "outputs": [],
   "source": [
    "#merge the deletes and adds tag frames together\n",
    "temp_files_merge = pd.merge(merge_deletes, merge_adds, on=['commit_id','filepath'])"
   ]
  },
  {
   "cell_type": "code",
   "execution_count": 16,
   "metadata": {
    "collapsed": true
   },
   "outputs": [],
   "source": [
    "#squash down the columns in the delete/add frame so the tags are in the same column\n",
    "temp_files_merge['modif'] = temp_files_merge['modif_x'].where(temp_files_merge['modif_x'] != '', temp_files_merge['modif_y'])\n",
    "temp_files_merge = temp_files_merge.drop(['modif_x','modif_y'],axis=1)"
   ]
  },
  {
   "cell_type": "code",
   "execution_count": 17,
   "metadata": {
    "collapsed": true
   },
   "outputs": [],
   "source": [
    "#merge the delete/add frame and the modify frame together\n",
    "temp_files_merge2 = pd.merge(temp_files_merge, merge_modifies, on=['commit_id','filepath'])"
   ]
  },
  {
   "cell_type": "code",
   "execution_count": 18,
   "metadata": {
    "collapsed": true
   },
   "outputs": [],
   "source": [
    "#squash down the columns in the final frame so the all tags are in the same column\n",
    "temp_files_merge2['modification'] = temp_files_merge2['modif_x'].where(temp_files_merge2['modif_x'] != '', temp_files_merge2['modif_y'])\n",
    "files_changed_final = temp_files_merge2.drop(['modif_x','modif_y'],axis=1)"
   ]
  },
  {
   "cell_type": "markdown",
   "metadata": {},
   "source": [
    "##  here are the final pandas dataframes:"
   ]
  },
  {
   "cell_type": "code",
   "execution_count": 19,
   "metadata": {},
   "outputs": [
    {
     "data": {
      "text/html": [
       "<div>\n",
       "<style>\n",
       "    .dataframe thead tr:only-child th {\n",
       "        text-align: right;\n",
       "    }\n",
       "\n",
       "    .dataframe thead th {\n",
       "        text-align: left;\n",
       "    }\n",
       "\n",
       "    .dataframe tbody tr th {\n",
       "        vertical-align: top;\n",
       "    }\n",
       "</style>\n",
       "<table border=\"1\" class=\"dataframe\">\n",
       "  <thead>\n",
       "    <tr style=\"text-align: right;\">\n",
       "      <th></th>\n",
       "      <th>project_id</th>\n",
       "      <th>commit_id</th>\n",
       "      <th>message</th>\n",
       "      <th>timestamp</th>\n",
       "      <th>author_name</th>\n",
       "      <th>committer_name</th>\n",
       "      <th>positive_strength</th>\n",
       "      <th>negative_strength</th>\n",
       "      <th>day_of_week</th>\n",
       "      <th>year</th>\n",
       "      <th>final_sentiment</th>\n",
       "    </tr>\n",
       "  </thead>\n",
       "  <tbody>\n",
       "    <tr>\n",
       "      <th>0</th>\n",
       "      <td>10000244</td>\n",
       "      <td>0515c7d89f97bf7f1e488ac39dcc8fe1ee79f605</td>\n",
       "      <td>photo in progress</td>\n",
       "      <td>2013-05-11 15:52:20</td>\n",
       "      <td>syhw</td>\n",
       "      <td>syhw</td>\n",
       "      <td>1</td>\n",
       "      <td>-1</td>\n",
       "      <td>Saturday</td>\n",
       "      <td>2013.0</td>\n",
       "      <td>0</td>\n",
       "    </tr>\n",
       "    <tr>\n",
       "      <th>1</th>\n",
       "      <td>10000244</td>\n",
       "      <td>07abeaf9bd85eb77f0774607161a7ccb3ed8dff3</td>\n",
       "      <td>stashing</td>\n",
       "      <td>2013-05-12 09:29:50</td>\n",
       "      <td>syhw</td>\n",
       "      <td>syhw</td>\n",
       "      <td>1</td>\n",
       "      <td>-1</td>\n",
       "      <td>Sunday</td>\n",
       "      <td>2013.0</td>\n",
       "      <td>0</td>\n",
       "    </tr>\n",
       "    <tr>\n",
       "      <th>2</th>\n",
       "      <td>10000244</td>\n",
       "      <td>11f46d585bfc263e11b0556566559e6513cca0e4</td>\n",
       "      <td>R</td>\n",
       "      <td>2013-05-12 12:10:17</td>\n",
       "      <td>syhw</td>\n",
       "      <td>syhw</td>\n",
       "      <td>1</td>\n",
       "      <td>-1</td>\n",
       "      <td>Sunday</td>\n",
       "      <td>2013.0</td>\n",
       "      <td>0</td>\n",
       "    </tr>\n",
       "    <tr>\n",
       "      <th>3</th>\n",
       "      <td>10000244</td>\n",
       "      <td>25ffeb626cd9146c483c6144b8208b5bd6cf26c4</td>\n",
       "      <td>merged photo (working) with master, see TODOs...</td>\n",
       "      <td>2013-05-12 07:18:18</td>\n",
       "      <td>syhw</td>\n",
       "      <td>syhw</td>\n",
       "      <td>1</td>\n",
       "      <td>-1</td>\n",
       "      <td>Sunday</td>\n",
       "      <td>2013.0</td>\n",
       "      <td>0</td>\n",
       "    </tr>\n",
       "    <tr>\n",
       "      <th>4</th>\n",
       "      <td>10000244</td>\n",
       "      <td>33ac9b6d9da4234c93ae3d9e0d7b0f41edb99d8a</td>\n",
       "      <td>Request task</td>\n",
       "      <td>2013-05-12 10:01:57</td>\n",
       "      <td>syhw</td>\n",
       "      <td>syhw</td>\n",
       "      <td>1</td>\n",
       "      <td>-1</td>\n",
       "      <td>Sunday</td>\n",
       "      <td>2013.0</td>\n",
       "      <td>0</td>\n",
       "    </tr>\n",
       "  </tbody>\n",
       "</table>\n",
       "</div>"
      ],
      "text/plain": [
       "   project_id                                   commit_id  \\\n",
       "0    10000244   0515c7d89f97bf7f1e488ac39dcc8fe1ee79f605    \n",
       "1    10000244   07abeaf9bd85eb77f0774607161a7ccb3ed8dff3    \n",
       "2    10000244   11f46d585bfc263e11b0556566559e6513cca0e4    \n",
       "3    10000244   25ffeb626cd9146c483c6144b8208b5bd6cf26c4    \n",
       "4    10000244   33ac9b6d9da4234c93ae3d9e0d7b0f41edb99d8a    \n",
       "\n",
       "                                             message           timestamp  \\\n",
       "0                                  photo in progress 2013-05-11 15:52:20   \n",
       "1                                           stashing 2013-05-12 09:29:50   \n",
       "2                                                  R 2013-05-12 12:10:17   \n",
       "3   merged photo (working) with master, see TODOs... 2013-05-12 07:18:18   \n",
       "4                                       Request task 2013-05-12 10:01:57   \n",
       "\n",
       "  author_name committer_name positive_strength negative_strength day_of_week  \\\n",
       "0       syhw            syhw                 1                -1    Saturday   \n",
       "1       syhw            syhw                 1                -1      Sunday   \n",
       "2       syhw            syhw                 1                -1      Sunday   \n",
       "3       syhw            syhw                 1                -1      Sunday   \n",
       "4       syhw            syhw                 1                -1      Sunday   \n",
       "\n",
       "     year  final_sentiment  \n",
       "0  2013.0                0  \n",
       "1  2013.0                0  \n",
       "2  2013.0                0  \n",
       "3  2013.0                0  \n",
       "4  2013.0                0  "
      ]
     },
     "execution_count": 19,
     "metadata": {},
     "output_type": "execute_result"
    }
   ],
   "source": [
    "commit_messages_final.head()"
   ]
  },
  {
   "cell_type": "code",
   "execution_count": 20,
   "metadata": {},
   "outputs": [
    {
     "data": {
      "text/html": [
       "<div>\n",
       "<style>\n",
       "    .dataframe thead tr:only-child th {\n",
       "        text-align: right;\n",
       "    }\n",
       "\n",
       "    .dataframe thead th {\n",
       "        text-align: left;\n",
       "    }\n",
       "\n",
       "    .dataframe tbody tr th {\n",
       "        vertical-align: top;\n",
       "    }\n",
       "</style>\n",
       "<table border=\"1\" class=\"dataframe\">\n",
       "  <thead>\n",
       "    <tr style=\"text-align: right;\">\n",
       "      <th></th>\n",
       "      <th>commit_id</th>\n",
       "      <th>filepath</th>\n",
       "      <th>modification</th>\n",
       "    </tr>\n",
       "  </thead>\n",
       "  <tbody>\n",
       "    <tr>\n",
       "      <th>0</th>\n",
       "      <td>000087431d696a16cd5cb5f96be0f64060e4b13d</td>\n",
       "      <td>src/org/rascalmpl/library/experiments/RascalT...</td>\n",
       "      <td>Modify</td>\n",
       "    </tr>\n",
       "    <tr>\n",
       "      <th>1</th>\n",
       "      <td>0003df884c8c06b9ee51fc403a3487a82fae7a7f</td>\n",
       "      <td>fileio/private/ft_fetch_header.m</td>\n",
       "      <td>Modify</td>\n",
       "    </tr>\n",
       "    <tr>\n",
       "      <th>2</th>\n",
       "      <td>0005eba750a10b9b3eda9f8cfb75bdc65c80a919</td>\n",
       "      <td>src/com/android/exchange/adapter/CalendarSync...</td>\n",
       "      <td>Modify</td>\n",
       "    </tr>\n",
       "    <tr>\n",
       "      <th>3</th>\n",
       "      <td>0005eba750a10b9b3eda9f8cfb75bdc65c80a919</td>\n",
       "      <td>src/com/android/exchange/utility/CalendarUtil...</td>\n",
       "      <td>Modify</td>\n",
       "    </tr>\n",
       "    <tr>\n",
       "      <th>4</th>\n",
       "      <td>00099da1b3b9d91574187e70182e5384debb3731</td>\n",
       "      <td>res/values-th/strings.xml</td>\n",
       "      <td>Modify</td>\n",
       "    </tr>\n",
       "  </tbody>\n",
       "</table>\n",
       "</div>"
      ],
      "text/plain": [
       "                                   commit_id  \\\n",
       "0  000087431d696a16cd5cb5f96be0f64060e4b13d    \n",
       "1  0003df884c8c06b9ee51fc403a3487a82fae7a7f    \n",
       "2  0005eba750a10b9b3eda9f8cfb75bdc65c80a919    \n",
       "3  0005eba750a10b9b3eda9f8cfb75bdc65c80a919    \n",
       "4  00099da1b3b9d91574187e70182e5384debb3731    \n",
       "\n",
       "                                            filepath modification  \n",
       "0   src/org/rascalmpl/library/experiments/RascalT...       Modify  \n",
       "1                   fileio/private/ft_fetch_header.m       Modify  \n",
       "2   src/com/android/exchange/adapter/CalendarSync...       Modify  \n",
       "3   src/com/android/exchange/utility/CalendarUtil...       Modify  \n",
       "4                          res/values-th/strings.xml       Modify  "
      ]
     },
     "execution_count": 20,
     "metadata": {},
     "output_type": "execute_result"
    }
   ],
   "source": [
    "files_changed_final.head()"
   ]
  },
  {
   "cell_type": "markdown",
   "metadata": {},
   "source": [
    "# Analysis"
   ]
  },
  {
   "cell_type": "markdown",
   "metadata": {},
   "source": [
    "### RQ1"
   ]
  },
  {
   "cell_type": "code",
   "execution_count": 21,
   "metadata": {
    "collapsed": true
   },
   "outputs": [],
   "source": [
    "#count the number of commits for each sentiment level\n",
    "commits_by_sentiment = commit_messages_final.groupby(['final_sentiment']).count().reset_index()\n",
    "commits_by_sentiment = commits_by_sentiment[['final_sentiment','project_id']]\n",
    "commits_by_sentiment.rename(columns={'project_id':'count'}, inplace=True)"
   ]
  },
  {
   "cell_type": "code",
   "execution_count": 22,
   "metadata": {},
   "outputs": [
    {
     "data": {
      "text/html": [
       "<div>\n",
       "<style>\n",
       "    .dataframe thead tr:only-child th {\n",
       "        text-align: right;\n",
       "    }\n",
       "\n",
       "    .dataframe thead th {\n",
       "        text-align: left;\n",
       "    }\n",
       "\n",
       "    .dataframe tbody tr th {\n",
       "        vertical-align: top;\n",
       "    }\n",
       "</style>\n",
       "<table border=\"1\" class=\"dataframe\">\n",
       "  <thead>\n",
       "    <tr style=\"text-align: right;\">\n",
       "      <th></th>\n",
       "      <th>final_sentiment</th>\n",
       "      <th>count</th>\n",
       "      <th>percent_of_total</th>\n",
       "      <th>bin</th>\n",
       "    </tr>\n",
       "  </thead>\n",
       "  <tbody>\n",
       "    <tr>\n",
       "      <th>0</th>\n",
       "      <td>-4</td>\n",
       "      <td>47</td>\n",
       "      <td>0.002086</td>\n",
       "      <td>negative</td>\n",
       "    </tr>\n",
       "    <tr>\n",
       "      <th>1</th>\n",
       "      <td>-3</td>\n",
       "      <td>1819</td>\n",
       "      <td>0.080736</td>\n",
       "      <td>negative</td>\n",
       "    </tr>\n",
       "    <tr>\n",
       "      <th>2</th>\n",
       "      <td>-2</td>\n",
       "      <td>31340</td>\n",
       "      <td>1.391018</td>\n",
       "      <td>negative</td>\n",
       "    </tr>\n",
       "    <tr>\n",
       "      <th>3</th>\n",
       "      <td>-1</td>\n",
       "      <td>262278</td>\n",
       "      <td>11.641144</td>\n",
       "      <td>negative</td>\n",
       "    </tr>\n",
       "    <tr>\n",
       "      <th>4</th>\n",
       "      <td>0</td>\n",
       "      <td>1821462</td>\n",
       "      <td>80.845139</td>\n",
       "      <td>neutral</td>\n",
       "    </tr>\n",
       "    <tr>\n",
       "      <th>5</th>\n",
       "      <td>1</td>\n",
       "      <td>125868</td>\n",
       "      <td>5.586620</td>\n",
       "      <td>positive</td>\n",
       "    </tr>\n",
       "    <tr>\n",
       "      <th>6</th>\n",
       "      <td>2</td>\n",
       "      <td>9911</td>\n",
       "      <td>0.439897</td>\n",
       "      <td>positive</td>\n",
       "    </tr>\n",
       "    <tr>\n",
       "      <th>7</th>\n",
       "      <td>3</td>\n",
       "      <td>295</td>\n",
       "      <td>0.013094</td>\n",
       "      <td>positive</td>\n",
       "    </tr>\n",
       "    <tr>\n",
       "      <th>8</th>\n",
       "      <td>4</td>\n",
       "      <td>6</td>\n",
       "      <td>0.000266</td>\n",
       "      <td>positive</td>\n",
       "    </tr>\n",
       "  </tbody>\n",
       "</table>\n",
       "</div>"
      ],
      "text/plain": [
       "   final_sentiment    count  percent_of_total       bin\n",
       "0               -4       47          0.002086  negative\n",
       "1               -3     1819          0.080736  negative\n",
       "2               -2    31340          1.391018  negative\n",
       "3               -1   262278         11.641144  negative\n",
       "4                0  1821462         80.845139   neutral\n",
       "5                1   125868          5.586620  positive\n",
       "6                2     9911          0.439897  positive\n",
       "7                3      295          0.013094  positive\n",
       "8                4        6          0.000266  positive"
      ]
     },
     "execution_count": 22,
     "metadata": {},
     "output_type": "execute_result"
    }
   ],
   "source": [
    "#bin the commits by positive, negative, and neutral sentiment\n",
    "commits_by_sentiment['percent_of_total'] = commits_by_sentiment['count'].divide(len(commit_messages_final)).multiply(100)\n",
    "commits_by_sentiment['bin'] = pd.cut(commits_by_sentiment['final_sentiment'], [-5, -1, 0, 4], labels=['negative', 'neutral', 'positive'])\n",
    "commits_by_sentiment"
   ]
  },
  {
   "cell_type": "code",
   "execution_count": 23,
   "metadata": {},
   "outputs": [
    {
     "data": {
      "text/html": [
       "<div>\n",
       "<style>\n",
       "    .dataframe thead tr:only-child th {\n",
       "        text-align: right;\n",
       "    }\n",
       "\n",
       "    .dataframe thead th {\n",
       "        text-align: left;\n",
       "    }\n",
       "\n",
       "    .dataframe tbody tr th {\n",
       "        vertical-align: top;\n",
       "    }\n",
       "</style>\n",
       "<table border=\"1\" class=\"dataframe\">\n",
       "  <thead>\n",
       "    <tr style=\"text-align: right;\">\n",
       "      <th></th>\n",
       "      <th>bin</th>\n",
       "      <th>count</th>\n",
       "      <th>percent_of_total</th>\n",
       "    </tr>\n",
       "  </thead>\n",
       "  <tbody>\n",
       "    <tr>\n",
       "      <th>0</th>\n",
       "      <td>negative</td>\n",
       "      <td>295484</td>\n",
       "      <td>13.114984</td>\n",
       "    </tr>\n",
       "    <tr>\n",
       "      <th>1</th>\n",
       "      <td>neutral</td>\n",
       "      <td>1821462</td>\n",
       "      <td>80.845139</td>\n",
       "    </tr>\n",
       "    <tr>\n",
       "      <th>2</th>\n",
       "      <td>positive</td>\n",
       "      <td>136080</td>\n",
       "      <td>6.039877</td>\n",
       "    </tr>\n",
       "  </tbody>\n",
       "</table>\n",
       "</div>"
      ],
      "text/plain": [
       "        bin    count  percent_of_total\n",
       "0  negative   295484         13.114984\n",
       "1   neutral  1821462         80.845139\n",
       "2  positive   136080          6.039877"
      ]
     },
     "execution_count": 23,
     "metadata": {},
     "output_type": "execute_result"
    }
   ],
   "source": [
    "#sum up the total percent of each bin\n",
    "commits_by_sentiment_binned = commits_by_sentiment.groupby(['bin']).sum().reset_index()\n",
    "commits_by_sentiment_binned = commits_by_sentiment_binned[['bin','count','percent_of_total']]\n",
    "commits_by_sentiment_binned"
   ]
  },
  {
   "cell_type": "code",
   "execution_count": 24,
   "metadata": {
    "collapsed": true
   },
   "outputs": [],
   "source": [
    "commits_by_project = commit_messages_final.groupby(['project_id']).count().reset_index()"
   ]
  },
  {
   "cell_type": "code",
   "execution_count": 25,
   "metadata": {
    "collapsed": true
   },
   "outputs": [],
   "source": [
    "commits_by_project = commits_by_project[['project_id','commit_id']]\n",
    "commits_by_project.rename(columns={'commit_id':'count'}, inplace=True)\n",
    "commits_by_project.sort_values(['count'], inplace=True)"
   ]
  },
  {
   "cell_type": "code",
   "execution_count": 26,
   "metadata": {
    "collapsed": true
   },
   "outputs": [],
   "source": [
    "commits_by_project.to_csv('commits_by_project_sorted.csv', sep='\\t', encoding='utf-8')"
   ]
  },
  {
   "cell_type": "markdown",
   "metadata": {},
   "source": [
    "### manually obtained large, average and low groups by examining file"
   ]
  },
  {
   "cell_type": "code",
   "execution_count": 27,
   "metadata": {
    "collapsed": true
   },
   "outputs": [],
   "source": [
    "largelist = ['12496978','10613094','5153143','7785050','1968812']\n",
    "avglist = ['2424377','5256179','365893','6719407','13010741']\n",
    "lowlist = ['10453653','10530838','11416657','4067771','1571039']"
   ]
  },
  {
   "cell_type": "code",
   "execution_count": 28,
   "metadata": {
    "collapsed": true
   },
   "outputs": [],
   "source": [
    "large_projects = commit_messages_final.loc[commit_messages_final['project_id'].isin(largelist)]\n",
    "avg_projects = commit_messages_final.loc[commit_messages_final['project_id'].isin(avglist)]\n",
    "low_projects = commit_messages_final.loc[commit_messages_final['project_id'].isin(lowlist)]"
   ]
  },
  {
   "cell_type": "code",
   "execution_count": 29,
   "metadata": {},
   "outputs": [
    {
     "data": {
      "text/html": [
       "<div>\n",
       "<style>\n",
       "    .dataframe thead tr:only-child th {\n",
       "        text-align: right;\n",
       "    }\n",
       "\n",
       "    .dataframe thead th {\n",
       "        text-align: left;\n",
       "    }\n",
       "\n",
       "    .dataframe tbody tr th {\n",
       "        vertical-align: top;\n",
       "    }\n",
       "</style>\n",
       "<table border=\"1\" class=\"dataframe\">\n",
       "  <thead>\n",
       "    <tr style=\"text-align: right;\">\n",
       "      <th></th>\n",
       "      <th>bin</th>\n",
       "      <th>count</th>\n",
       "      <th>percent_of_total</th>\n",
       "    </tr>\n",
       "  </thead>\n",
       "  <tbody>\n",
       "    <tr>\n",
       "      <th>0</th>\n",
       "      <td>negative</td>\n",
       "      <td>8568</td>\n",
       "      <td>15.728604</td>\n",
       "    </tr>\n",
       "    <tr>\n",
       "      <th>1</th>\n",
       "      <td>neutral</td>\n",
       "      <td>42061</td>\n",
       "      <td>77.212982</td>\n",
       "    </tr>\n",
       "    <tr>\n",
       "      <th>2</th>\n",
       "      <td>positive</td>\n",
       "      <td>3845</td>\n",
       "      <td>7.058413</td>\n",
       "    </tr>\n",
       "  </tbody>\n",
       "</table>\n",
       "</div>"
      ],
      "text/plain": [
       "        bin  count  percent_of_total\n",
       "0  negative   8568         15.728604\n",
       "1   neutral  42061         77.212982\n",
       "2  positive   3845          7.058413"
      ]
     },
     "execution_count": 29,
     "metadata": {},
     "output_type": "execute_result"
    }
   ],
   "source": [
    "#get bin percentages for large projects\n",
    "large_by_sentiment = large_projects.groupby(['final_sentiment']).count().reset_index()\n",
    "large_by_sentiment = large_by_sentiment[['final_sentiment','project_id']]\n",
    "large_by_sentiment.rename(columns={'project_id':'count'}, inplace=True)\n",
    "large_by_sentiment['percent_of_total'] = large_by_sentiment['count'].divide(len(large_projects)).multiply(100)\n",
    "large_by_sentiment['bin'] = pd.cut(large_by_sentiment['final_sentiment'], [-5, -1, 0, 4], labels=['negative', 'neutral', 'positive'])\n",
    "large_by_sentiment_binned = large_by_sentiment.groupby(['bin']).sum().reset_index()\n",
    "large_by_sentiment_binned = large_by_sentiment_binned[['bin','count','percent_of_total']]\n",
    "large_by_sentiment_binned"
   ]
  },
  {
   "cell_type": "code",
   "execution_count": 30,
   "metadata": {},
   "outputs": [
    {
     "data": {
      "text/html": [
       "<div>\n",
       "<style>\n",
       "    .dataframe thead tr:only-child th {\n",
       "        text-align: right;\n",
       "    }\n",
       "\n",
       "    .dataframe thead th {\n",
       "        text-align: left;\n",
       "    }\n",
       "\n",
       "    .dataframe tbody tr th {\n",
       "        vertical-align: top;\n",
       "    }\n",
       "</style>\n",
       "<table border=\"1\" class=\"dataframe\">\n",
       "  <thead>\n",
       "    <tr style=\"text-align: right;\">\n",
       "      <th></th>\n",
       "      <th>bin</th>\n",
       "      <th>count</th>\n",
       "      <th>percent_of_total</th>\n",
       "    </tr>\n",
       "  </thead>\n",
       "  <tbody>\n",
       "    <tr>\n",
       "      <th>0</th>\n",
       "      <td>negative</td>\n",
       "      <td>3970</td>\n",
       "      <td>17.082616</td>\n",
       "    </tr>\n",
       "    <tr>\n",
       "      <th>1</th>\n",
       "      <td>neutral</td>\n",
       "      <td>17987</td>\n",
       "      <td>77.396730</td>\n",
       "    </tr>\n",
       "    <tr>\n",
       "      <th>2</th>\n",
       "      <td>positive</td>\n",
       "      <td>1283</td>\n",
       "      <td>5.520654</td>\n",
       "    </tr>\n",
       "  </tbody>\n",
       "</table>\n",
       "</div>"
      ],
      "text/plain": [
       "        bin  count  percent_of_total\n",
       "0  negative   3970         17.082616\n",
       "1   neutral  17987         77.396730\n",
       "2  positive   1283          5.520654"
      ]
     },
     "execution_count": 30,
     "metadata": {},
     "output_type": "execute_result"
    }
   ],
   "source": [
    "#get bin percentages for average projects\n",
    "avg_by_sentiment = avg_projects.groupby(['final_sentiment']).count().reset_index()\n",
    "avg_by_sentiment = avg_by_sentiment[['final_sentiment','project_id']]\n",
    "avg_by_sentiment.rename(columns={'project_id':'count'}, inplace=True)\n",
    "avg_by_sentiment['percent_of_total'] = avg_by_sentiment['count'].divide(len(avg_projects)).multiply(100)\n",
    "avg_by_sentiment['bin'] = pd.cut(avg_by_sentiment['final_sentiment'], [-5, -1, 0, 4], labels=['negative', 'neutral', 'positive'])\n",
    "avg_by_sentiment_binned = avg_by_sentiment.groupby(['bin']).sum().reset_index()\n",
    "avg_by_sentiment_binned = avg_by_sentiment_binned[['bin','count','percent_of_total']]\n",
    "avg_by_sentiment_binned"
   ]
  },
  {
   "cell_type": "code",
   "execution_count": 31,
   "metadata": {},
   "outputs": [
    {
     "data": {
      "text/html": [
       "<div>\n",
       "<style>\n",
       "    .dataframe thead tr:only-child th {\n",
       "        text-align: right;\n",
       "    }\n",
       "\n",
       "    .dataframe thead th {\n",
       "        text-align: left;\n",
       "    }\n",
       "\n",
       "    .dataframe tbody tr th {\n",
       "        vertical-align: top;\n",
       "    }\n",
       "</style>\n",
       "<table border=\"1\" class=\"dataframe\">\n",
       "  <thead>\n",
       "    <tr style=\"text-align: right;\">\n",
       "      <th></th>\n",
       "      <th>bin</th>\n",
       "      <th>count</th>\n",
       "      <th>percent_of_total</th>\n",
       "    </tr>\n",
       "  </thead>\n",
       "  <tbody>\n",
       "    <tr>\n",
       "      <th>0</th>\n",
       "      <td>negative</td>\n",
       "      <td>606</td>\n",
       "      <td>9.724005</td>\n",
       "    </tr>\n",
       "    <tr>\n",
       "      <th>1</th>\n",
       "      <td>neutral</td>\n",
       "      <td>5306</td>\n",
       "      <td>85.141207</td>\n",
       "    </tr>\n",
       "    <tr>\n",
       "      <th>2</th>\n",
       "      <td>positive</td>\n",
       "      <td>320</td>\n",
       "      <td>5.134788</td>\n",
       "    </tr>\n",
       "  </tbody>\n",
       "</table>\n",
       "</div>"
      ],
      "text/plain": [
       "        bin  count  percent_of_total\n",
       "0  negative    606          9.724005\n",
       "1   neutral   5306         85.141207\n",
       "2  positive    320          5.134788"
      ]
     },
     "execution_count": 31,
     "metadata": {},
     "output_type": "execute_result"
    }
   ],
   "source": [
    "#get bin percentages for low projects\n",
    "low_by_sentiment = low_projects.groupby(['final_sentiment']).count().reset_index()\n",
    "low_by_sentiment = low_by_sentiment[['final_sentiment','project_id']]\n",
    "low_by_sentiment.rename(columns={'project_id':'count'}, inplace=True)\n",
    "low_by_sentiment['percent_of_total'] = low_by_sentiment['count'].divide(len(low_projects)).multiply(100)\n",
    "low_by_sentiment['bin'] = pd.cut(low_by_sentiment['final_sentiment'], [-5, -1, 0, 4], labels=['negative', 'neutral', 'positive'])\n",
    "low_by_sentiment_binned = low_by_sentiment.groupby(['bin']).sum().reset_index()\n",
    "low_by_sentiment_binned = low_by_sentiment_binned[['bin','count','percent_of_total']]\n",
    "low_by_sentiment_binned"
   ]
  },
  {
   "cell_type": "markdown",
   "metadata": {},
   "source": [
    "## RQ2"
   ]
  },
  {
   "cell_type": "markdown",
   "metadata": {},
   "source": [
    "### Sort out day of week data for all commits"
   ]
  },
  {
   "cell_type": "code",
   "execution_count": 32,
   "metadata": {},
   "outputs": [
    {
     "data": {
      "text/html": [
       "<div>\n",
       "<style>\n",
       "    .dataframe thead tr:only-child th {\n",
       "        text-align: right;\n",
       "    }\n",
       "\n",
       "    .dataframe thead th {\n",
       "        text-align: left;\n",
       "    }\n",
       "\n",
       "    .dataframe tbody tr th {\n",
       "        vertical-align: top;\n",
       "    }\n",
       "</style>\n",
       "<table border=\"1\" class=\"dataframe\">\n",
       "  <thead>\n",
       "    <tr style=\"text-align: right;\">\n",
       "      <th></th>\n",
       "      <th>day_of_week</th>\n",
       "      <th>negative</th>\n",
       "      <th>neutral</th>\n",
       "      <th>positive</th>\n",
       "      <th>total</th>\n",
       "      <th>negative_pct</th>\n",
       "      <th>neutral_pct</th>\n",
       "      <th>positive_pct</th>\n",
       "    </tr>\n",
       "  </thead>\n",
       "  <tbody>\n",
       "    <tr>\n",
       "      <th>0</th>\n",
       "      <td>Monday</td>\n",
       "      <td>44670</td>\n",
       "      <td>278781</td>\n",
       "      <td>20354</td>\n",
       "      <td>343805</td>\n",
       "      <td>12.992830</td>\n",
       "      <td>81.086953</td>\n",
       "      <td>5.920216</td>\n",
       "    </tr>\n",
       "    <tr>\n",
       "      <th>1</th>\n",
       "      <td>Tuesday</td>\n",
       "      <td>52833</td>\n",
       "      <td>315346</td>\n",
       "      <td>23561</td>\n",
       "      <td>391740</td>\n",
       "      <td>13.486751</td>\n",
       "      <td>80.498800</td>\n",
       "      <td>6.014448</td>\n",
       "    </tr>\n",
       "    <tr>\n",
       "      <th>2</th>\n",
       "      <td>Wednesday</td>\n",
       "      <td>52230</td>\n",
       "      <td>320689</td>\n",
       "      <td>24394</td>\n",
       "      <td>397313</td>\n",
       "      <td>13.145807</td>\n",
       "      <td>80.714449</td>\n",
       "      <td>6.139744</td>\n",
       "    </tr>\n",
       "    <tr>\n",
       "      <th>3</th>\n",
       "      <td>Thursday</td>\n",
       "      <td>50815</td>\n",
       "      <td>305385</td>\n",
       "      <td>22884</td>\n",
       "      <td>379084</td>\n",
       "      <td>13.404681</td>\n",
       "      <td>80.558662</td>\n",
       "      <td>6.036657</td>\n",
       "    </tr>\n",
       "    <tr>\n",
       "      <th>4</th>\n",
       "      <td>Friday</td>\n",
       "      <td>46786</td>\n",
       "      <td>284494</td>\n",
       "      <td>21198</td>\n",
       "      <td>352478</td>\n",
       "      <td>13.273453</td>\n",
       "      <td>80.712555</td>\n",
       "      <td>6.013992</td>\n",
       "    </tr>\n",
       "    <tr>\n",
       "      <th>5</th>\n",
       "      <td>Saturday</td>\n",
       "      <td>23342</td>\n",
       "      <td>151805</td>\n",
       "      <td>11362</td>\n",
       "      <td>186509</td>\n",
       "      <td>12.515214</td>\n",
       "      <td>81.392855</td>\n",
       "      <td>6.091931</td>\n",
       "    </tr>\n",
       "    <tr>\n",
       "      <th>6</th>\n",
       "      <td>Sunday</td>\n",
       "      <td>22738</td>\n",
       "      <td>155188</td>\n",
       "      <td>11491</td>\n",
       "      <td>189417</td>\n",
       "      <td>12.004202</td>\n",
       "      <td>81.929288</td>\n",
       "      <td>6.066509</td>\n",
       "    </tr>\n",
       "  </tbody>\n",
       "</table>\n",
       "</div>"
      ],
      "text/plain": [
       "  day_of_week  negative  neutral  positive   total  negative_pct  neutral_pct  \\\n",
       "0      Monday     44670   278781     20354  343805     12.992830    81.086953   \n",
       "1     Tuesday     52833   315346     23561  391740     13.486751    80.498800   \n",
       "2   Wednesday     52230   320689     24394  397313     13.145807    80.714449   \n",
       "3    Thursday     50815   305385     22884  379084     13.404681    80.558662   \n",
       "4      Friday     46786   284494     21198  352478     13.273453    80.712555   \n",
       "5    Saturday     23342   151805     11362  186509     12.515214    81.392855   \n",
       "6      Sunday     22738   155188     11491  189417     12.004202    81.929288   \n",
       "\n",
       "   positive_pct  \n",
       "0      5.920216  \n",
       "1      6.014448  \n",
       "2      6.139744  \n",
       "3      6.036657  \n",
       "4      6.013992  \n",
       "5      6.091931  \n",
       "6      6.066509  "
      ]
     },
     "execution_count": 32,
     "metadata": {},
     "output_type": "execute_result"
    }
   ],
   "source": [
    "##create the bins per weekday\n",
    "weekdays = commit_messages_final.groupby(['day_of_week',pd.cut(commit_messages_final.final_sentiment, bins = [-5, -1, 0, 4], labels=['negative', 'neutral', 'positive'])])\n",
    "weekdays = weekdays.size().unstack()\n",
    "weekdays.columns = [''.join(col).strip() for col in weekdays.columns.values]\n",
    "weekdays.reset_index(inplace=True)\n",
    "\n",
    "#get the totals again\n",
    "weekdays['total'] = weekdays['negative'] + weekdays['neutral'] + weekdays['positive']\n",
    "weekdays['negative_pct'] = weekdays['negative'].divide(weekdays['total']).multiply(100)\n",
    "weekdays['neutral_pct'] = weekdays['neutral'].divide(weekdays['total']).multiply(100)\n",
    "weekdays['positive_pct'] = weekdays['positive'].divide(weekdays['total']).multiply(100)\n",
    "\n",
    "#a rube goldberg way to sort by day of week... FML\n",
    "days = ['Monday','Tuesday','Wednesday','Thursday','Friday','Saturday', 'Sunday']\n",
    "mapping = {day: i for i, day in enumerate(days)}\n",
    "key = weekdays['day_of_week'].map(mapping)\n",
    "weekdays = weekdays.iloc[key.argsort()].set_index('day_of_week')\n",
    "weekdays.columns = [''.join(col).strip() for col in weekdays.columns.values]\n",
    "weekdays.reset_index(inplace=True)\n",
    "weekdays"
   ]
  },
  {
   "cell_type": "markdown",
   "metadata": {},
   "source": [
    "### Sort out day of week data for large commits"
   ]
  },
  {
   "cell_type": "code",
   "execution_count": 33,
   "metadata": {},
   "outputs": [
    {
     "data": {
      "text/html": [
       "<div>\n",
       "<style>\n",
       "    .dataframe thead tr:only-child th {\n",
       "        text-align: right;\n",
       "    }\n",
       "\n",
       "    .dataframe thead th {\n",
       "        text-align: left;\n",
       "    }\n",
       "\n",
       "    .dataframe tbody tr th {\n",
       "        vertical-align: top;\n",
       "    }\n",
       "</style>\n",
       "<table border=\"1\" class=\"dataframe\">\n",
       "  <thead>\n",
       "    <tr style=\"text-align: right;\">\n",
       "      <th></th>\n",
       "      <th>day_of_week</th>\n",
       "      <th>negative</th>\n",
       "      <th>neutral</th>\n",
       "      <th>positive</th>\n",
       "      <th>total</th>\n",
       "      <th>negative_pct</th>\n",
       "      <th>neutral_pct</th>\n",
       "      <th>positive_pct</th>\n",
       "    </tr>\n",
       "  </thead>\n",
       "  <tbody>\n",
       "    <tr>\n",
       "      <th>0</th>\n",
       "      <td>Monday</td>\n",
       "      <td>1255</td>\n",
       "      <td>6850</td>\n",
       "      <td>626</td>\n",
       "      <td>8731</td>\n",
       "      <td>14.374069</td>\n",
       "      <td>78.456076</td>\n",
       "      <td>7.169855</td>\n",
       "    </tr>\n",
       "    <tr>\n",
       "      <th>1</th>\n",
       "      <td>Tuesday</td>\n",
       "      <td>1684</td>\n",
       "      <td>7967</td>\n",
       "      <td>760</td>\n",
       "      <td>10411</td>\n",
       "      <td>16.175199</td>\n",
       "      <td>76.524830</td>\n",
       "      <td>7.299971</td>\n",
       "    </tr>\n",
       "    <tr>\n",
       "      <th>2</th>\n",
       "      <td>Wednesday</td>\n",
       "      <td>1853</td>\n",
       "      <td>8541</td>\n",
       "      <td>833</td>\n",
       "      <td>11227</td>\n",
       "      <td>16.504854</td>\n",
       "      <td>76.075532</td>\n",
       "      <td>7.419613</td>\n",
       "    </tr>\n",
       "    <tr>\n",
       "      <th>3</th>\n",
       "      <td>Thursday</td>\n",
       "      <td>1656</td>\n",
       "      <td>8052</td>\n",
       "      <td>744</td>\n",
       "      <td>10452</td>\n",
       "      <td>15.843858</td>\n",
       "      <td>77.037887</td>\n",
       "      <td>7.118255</td>\n",
       "    </tr>\n",
       "    <tr>\n",
       "      <th>4</th>\n",
       "      <td>Friday</td>\n",
       "      <td>1434</td>\n",
       "      <td>7371</td>\n",
       "      <td>598</td>\n",
       "      <td>9403</td>\n",
       "      <td>15.250452</td>\n",
       "      <td>78.389876</td>\n",
       "      <td>6.359672</td>\n",
       "    </tr>\n",
       "    <tr>\n",
       "      <th>5</th>\n",
       "      <td>Saturday</td>\n",
       "      <td>376</td>\n",
       "      <td>1779</td>\n",
       "      <td>161</td>\n",
       "      <td>2316</td>\n",
       "      <td>16.234888</td>\n",
       "      <td>76.813472</td>\n",
       "      <td>6.951641</td>\n",
       "    </tr>\n",
       "    <tr>\n",
       "      <th>6</th>\n",
       "      <td>Sunday</td>\n",
       "      <td>310</td>\n",
       "      <td>1501</td>\n",
       "      <td>123</td>\n",
       "      <td>1934</td>\n",
       "      <td>16.028956</td>\n",
       "      <td>77.611169</td>\n",
       "      <td>6.359876</td>\n",
       "    </tr>\n",
       "  </tbody>\n",
       "</table>\n",
       "</div>"
      ],
      "text/plain": [
       "  day_of_week  negative  neutral  positive  total  negative_pct  neutral_pct  \\\n",
       "0      Monday      1255     6850       626   8731     14.374069    78.456076   \n",
       "1     Tuesday      1684     7967       760  10411     16.175199    76.524830   \n",
       "2   Wednesday      1853     8541       833  11227     16.504854    76.075532   \n",
       "3    Thursday      1656     8052       744  10452     15.843858    77.037887   \n",
       "4      Friday      1434     7371       598   9403     15.250452    78.389876   \n",
       "5    Saturday       376     1779       161   2316     16.234888    76.813472   \n",
       "6      Sunday       310     1501       123   1934     16.028956    77.611169   \n",
       "\n",
       "   positive_pct  \n",
       "0      7.169855  \n",
       "1      7.299971  \n",
       "2      7.419613  \n",
       "3      7.118255  \n",
       "4      6.359672  \n",
       "5      6.951641  \n",
       "6      6.359876  "
      ]
     },
     "execution_count": 33,
     "metadata": {},
     "output_type": "execute_result"
    }
   ],
   "source": [
    "##create the bins per weekday\n",
    "weekdays_large = large_projects.groupby(['day_of_week',pd.cut(large_projects.final_sentiment, bins = [-5, -1, 0, 4], labels=['negative', 'neutral', 'positive'])])\n",
    "weekdays_large = weekdays_large.size().unstack()\n",
    "weekdays_large.columns = [''.join(col).strip() for col in weekdays_large.columns.values]\n",
    "weekdays_large.reset_index(inplace=True)\n",
    "\n",
    "#get the totals again\n",
    "weekdays_large['total'] = weekdays_large['negative'] + weekdays_large['neutral'] + weekdays_large['positive']\n",
    "weekdays_large['negative_pct'] = weekdays_large['negative'].divide(weekdays_large['total']).multiply(100)\n",
    "weekdays_large['neutral_pct'] = weekdays_large['neutral'].divide(weekdays_large['total']).multiply(100)\n",
    "weekdays_large['positive_pct'] = weekdays_large['positive'].divide(weekdays_large['total']).multiply(100)\n",
    "\n",
    "#a rube goldberg way to sort by day of week... FML\n",
    "days = ['Monday','Tuesday','Wednesday','Thursday','Friday','Saturday', 'Sunday']\n",
    "mapping = {day: i for i, day in enumerate(days)}\n",
    "key = weekdays_large['day_of_week'].map(mapping)\n",
    "weekdays_large = weekdays_large.iloc[key.argsort()].set_index('day_of_week')\n",
    "weekdays_large.columns = [''.join(col).strip() for col in weekdays_large.columns.values]\n",
    "weekdays_large.reset_index(inplace=True)\n",
    "weekdays_large"
   ]
  },
  {
   "cell_type": "markdown",
   "metadata": {},
   "source": [
    "### Sort out day of week data for average commits"
   ]
  },
  {
   "cell_type": "code",
   "execution_count": 34,
   "metadata": {},
   "outputs": [
    {
     "data": {
      "text/html": [
       "<div>\n",
       "<style>\n",
       "    .dataframe thead tr:only-child th {\n",
       "        text-align: right;\n",
       "    }\n",
       "\n",
       "    .dataframe thead th {\n",
       "        text-align: left;\n",
       "    }\n",
       "\n",
       "    .dataframe tbody tr th {\n",
       "        vertical-align: top;\n",
       "    }\n",
       "</style>\n",
       "<table border=\"1\" class=\"dataframe\">\n",
       "  <thead>\n",
       "    <tr style=\"text-align: right;\">\n",
       "      <th></th>\n",
       "      <th>day_of_week</th>\n",
       "      <th>negative</th>\n",
       "      <th>neutral</th>\n",
       "      <th>positive</th>\n",
       "      <th>total</th>\n",
       "      <th>negative_pct</th>\n",
       "      <th>neutral_pct</th>\n",
       "      <th>positive_pct</th>\n",
       "    </tr>\n",
       "  </thead>\n",
       "  <tbody>\n",
       "    <tr>\n",
       "      <th>0</th>\n",
       "      <td>Monday</td>\n",
       "      <td>622</td>\n",
       "      <td>2813</td>\n",
       "      <td>215</td>\n",
       "      <td>3650</td>\n",
       "      <td>17.041096</td>\n",
       "      <td>77.068493</td>\n",
       "      <td>5.890411</td>\n",
       "    </tr>\n",
       "    <tr>\n",
       "      <th>1</th>\n",
       "      <td>Tuesday</td>\n",
       "      <td>757</td>\n",
       "      <td>3395</td>\n",
       "      <td>258</td>\n",
       "      <td>4410</td>\n",
       "      <td>17.165533</td>\n",
       "      <td>76.984127</td>\n",
       "      <td>5.850340</td>\n",
       "    </tr>\n",
       "    <tr>\n",
       "      <th>2</th>\n",
       "      <td>Wednesday</td>\n",
       "      <td>734</td>\n",
       "      <td>3294</td>\n",
       "      <td>229</td>\n",
       "      <td>4257</td>\n",
       "      <td>17.242189</td>\n",
       "      <td>77.378436</td>\n",
       "      <td>5.379375</td>\n",
       "    </tr>\n",
       "    <tr>\n",
       "      <th>3</th>\n",
       "      <td>Thursday</td>\n",
       "      <td>687</td>\n",
       "      <td>3333</td>\n",
       "      <td>218</td>\n",
       "      <td>4238</td>\n",
       "      <td>16.210477</td>\n",
       "      <td>78.645588</td>\n",
       "      <td>5.143936</td>\n",
       "    </tr>\n",
       "    <tr>\n",
       "      <th>4</th>\n",
       "      <td>Friday</td>\n",
       "      <td>714</td>\n",
       "      <td>3100</td>\n",
       "      <td>231</td>\n",
       "      <td>4045</td>\n",
       "      <td>17.651422</td>\n",
       "      <td>76.637824</td>\n",
       "      <td>5.710754</td>\n",
       "    </tr>\n",
       "    <tr>\n",
       "      <th>5</th>\n",
       "      <td>Saturday</td>\n",
       "      <td>229</td>\n",
       "      <td>1005</td>\n",
       "      <td>66</td>\n",
       "      <td>1300</td>\n",
       "      <td>17.615385</td>\n",
       "      <td>77.307692</td>\n",
       "      <td>5.076923</td>\n",
       "    </tr>\n",
       "    <tr>\n",
       "      <th>6</th>\n",
       "      <td>Sunday</td>\n",
       "      <td>227</td>\n",
       "      <td>1047</td>\n",
       "      <td>66</td>\n",
       "      <td>1340</td>\n",
       "      <td>16.940299</td>\n",
       "      <td>78.134328</td>\n",
       "      <td>4.925373</td>\n",
       "    </tr>\n",
       "  </tbody>\n",
       "</table>\n",
       "</div>"
      ],
      "text/plain": [
       "  day_of_week  negative  neutral  positive  total  negative_pct  neutral_pct  \\\n",
       "0      Monday       622     2813       215   3650     17.041096    77.068493   \n",
       "1     Tuesday       757     3395       258   4410     17.165533    76.984127   \n",
       "2   Wednesday       734     3294       229   4257     17.242189    77.378436   \n",
       "3    Thursday       687     3333       218   4238     16.210477    78.645588   \n",
       "4      Friday       714     3100       231   4045     17.651422    76.637824   \n",
       "5    Saturday       229     1005        66   1300     17.615385    77.307692   \n",
       "6      Sunday       227     1047        66   1340     16.940299    78.134328   \n",
       "\n",
       "   positive_pct  \n",
       "0      5.890411  \n",
       "1      5.850340  \n",
       "2      5.379375  \n",
       "3      5.143936  \n",
       "4      5.710754  \n",
       "5      5.076923  \n",
       "6      4.925373  "
      ]
     },
     "execution_count": 34,
     "metadata": {},
     "output_type": "execute_result"
    }
   ],
   "source": [
    "##create the bins per weekday\n",
    "weekdays_avg = avg_projects.groupby(['day_of_week',pd.cut(avg_projects.final_sentiment, bins = [-5, -1, 0, 4], labels=['negative', 'neutral', 'positive'])])\n",
    "weekdays_avg = weekdays_avg.size().unstack()\n",
    "weekdays_avg.columns = [''.join(col).strip() for col in weekdays_avg.columns.values]\n",
    "weekdays_avg.reset_index(inplace=True)\n",
    "\n",
    "#get the totals again\n",
    "weekdays_avg['total'] = weekdays_avg['negative'] + weekdays_avg['neutral'] + weekdays_avg['positive']\n",
    "weekdays_avg['negative_pct'] = weekdays_avg['negative'].divide(weekdays_avg['total']).multiply(100)\n",
    "weekdays_avg['neutral_pct'] = weekdays_avg['neutral'].divide(weekdays_avg['total']).multiply(100)\n",
    "weekdays_avg['positive_pct'] = weekdays_avg['positive'].divide(weekdays_avg['total']).multiply(100)\n",
    "\n",
    "#a rube goldberg way to sort by day of week... FML\n",
    "days = ['Monday','Tuesday','Wednesday','Thursday','Friday','Saturday', 'Sunday']\n",
    "mapping = {day: i for i, day in enumerate(days)}\n",
    "key = weekdays_avg['day_of_week'].map(mapping)\n",
    "weekdays_avg = weekdays_avg.iloc[key.argsort()].set_index('day_of_week')\n",
    "weekdays_avg.columns = [''.join(col).strip() for col in weekdays_avg.columns.values]\n",
    "weekdays_avg.reset_index(inplace=True)\n",
    "weekdays_avg"
   ]
  },
  {
   "cell_type": "markdown",
   "metadata": {},
   "source": [
    "### Sort out day of week data for low commits"
   ]
  },
  {
   "cell_type": "code",
   "execution_count": 35,
   "metadata": {},
   "outputs": [
    {
     "data": {
      "text/html": [
       "<div>\n",
       "<style>\n",
       "    .dataframe thead tr:only-child th {\n",
       "        text-align: right;\n",
       "    }\n",
       "\n",
       "    .dataframe thead th {\n",
       "        text-align: left;\n",
       "    }\n",
       "\n",
       "    .dataframe tbody tr th {\n",
       "        vertical-align: top;\n",
       "    }\n",
       "</style>\n",
       "<table border=\"1\" class=\"dataframe\">\n",
       "  <thead>\n",
       "    <tr style=\"text-align: right;\">\n",
       "      <th></th>\n",
       "      <th>day_of_week</th>\n",
       "      <th>negative</th>\n",
       "      <th>neutral</th>\n",
       "      <th>positive</th>\n",
       "      <th>total</th>\n",
       "      <th>negative_pct</th>\n",
       "      <th>neutral_pct</th>\n",
       "      <th>positive_pct</th>\n",
       "    </tr>\n",
       "  </thead>\n",
       "  <tbody>\n",
       "    <tr>\n",
       "      <th>0</th>\n",
       "      <td>Monday</td>\n",
       "      <td>115</td>\n",
       "      <td>1024</td>\n",
       "      <td>63</td>\n",
       "      <td>1202</td>\n",
       "      <td>9.567388</td>\n",
       "      <td>85.191348</td>\n",
       "      <td>5.241265</td>\n",
       "    </tr>\n",
       "    <tr>\n",
       "      <th>1</th>\n",
       "      <td>Tuesday</td>\n",
       "      <td>104</td>\n",
       "      <td>933</td>\n",
       "      <td>50</td>\n",
       "      <td>1087</td>\n",
       "      <td>9.567617</td>\n",
       "      <td>85.832567</td>\n",
       "      <td>4.599816</td>\n",
       "    </tr>\n",
       "    <tr>\n",
       "      <th>2</th>\n",
       "      <td>Wednesday</td>\n",
       "      <td>113</td>\n",
       "      <td>899</td>\n",
       "      <td>48</td>\n",
       "      <td>1060</td>\n",
       "      <td>10.660377</td>\n",
       "      <td>84.811321</td>\n",
       "      <td>4.528302</td>\n",
       "    </tr>\n",
       "    <tr>\n",
       "      <th>3</th>\n",
       "      <td>Thursday</td>\n",
       "      <td>102</td>\n",
       "      <td>938</td>\n",
       "      <td>58</td>\n",
       "      <td>1098</td>\n",
       "      <td>9.289617</td>\n",
       "      <td>85.428051</td>\n",
       "      <td>5.282332</td>\n",
       "    </tr>\n",
       "    <tr>\n",
       "      <th>4</th>\n",
       "      <td>Friday</td>\n",
       "      <td>95</td>\n",
       "      <td>848</td>\n",
       "      <td>48</td>\n",
       "      <td>991</td>\n",
       "      <td>9.586276</td>\n",
       "      <td>85.570131</td>\n",
       "      <td>4.843592</td>\n",
       "    </tr>\n",
       "    <tr>\n",
       "      <th>5</th>\n",
       "      <td>Saturday</td>\n",
       "      <td>33</td>\n",
       "      <td>315</td>\n",
       "      <td>27</td>\n",
       "      <td>375</td>\n",
       "      <td>8.800000</td>\n",
       "      <td>84.000000</td>\n",
       "      <td>7.200000</td>\n",
       "    </tr>\n",
       "    <tr>\n",
       "      <th>6</th>\n",
       "      <td>Sunday</td>\n",
       "      <td>44</td>\n",
       "      <td>349</td>\n",
       "      <td>26</td>\n",
       "      <td>419</td>\n",
       "      <td>10.501193</td>\n",
       "      <td>83.293556</td>\n",
       "      <td>6.205251</td>\n",
       "    </tr>\n",
       "  </tbody>\n",
       "</table>\n",
       "</div>"
      ],
      "text/plain": [
       "  day_of_week  negative  neutral  positive  total  negative_pct  neutral_pct  \\\n",
       "0      Monday       115     1024        63   1202      9.567388    85.191348   \n",
       "1     Tuesday       104      933        50   1087      9.567617    85.832567   \n",
       "2   Wednesday       113      899        48   1060     10.660377    84.811321   \n",
       "3    Thursday       102      938        58   1098      9.289617    85.428051   \n",
       "4      Friday        95      848        48    991      9.586276    85.570131   \n",
       "5    Saturday        33      315        27    375      8.800000    84.000000   \n",
       "6      Sunday        44      349        26    419     10.501193    83.293556   \n",
       "\n",
       "   positive_pct  \n",
       "0      5.241265  \n",
       "1      4.599816  \n",
       "2      4.528302  \n",
       "3      5.282332  \n",
       "4      4.843592  \n",
       "5      7.200000  \n",
       "6      6.205251  "
      ]
     },
     "execution_count": 35,
     "metadata": {},
     "output_type": "execute_result"
    }
   ],
   "source": [
    "##create the bins per weekday\n",
    "weekdays_low = low_projects.groupby(['day_of_week',pd.cut(low_projects.final_sentiment, bins = [-5, -1, 0, 4], labels=['negative', 'neutral', 'positive'])])\n",
    "weekdays_low = weekdays_low.size().unstack()\n",
    "weekdays_low.columns = [''.join(col).strip() for col in weekdays_low.columns.values]\n",
    "weekdays_low.reset_index(inplace=True)\n",
    "\n",
    "#get the totals again\n",
    "weekdays_low['total'] = weekdays_low['negative'] + weekdays_low['neutral'] + weekdays_low['positive']\n",
    "weekdays_low['negative_pct'] = weekdays_low['negative'].divide(weekdays_low['total']).multiply(100)\n",
    "weekdays_low['neutral_pct'] = weekdays_low['neutral'].divide(weekdays_low['total']).multiply(100)\n",
    "weekdays_low['positive_pct'] = weekdays_low['positive'].divide(weekdays_low['total']).multiply(100)\n",
    "\n",
    "#a rube goldberg way to sort by day of week... FML\n",
    "days = ['Monday','Tuesday','Wednesday','Thursday','Friday','Saturday', 'Sunday']\n",
    "mapping = {day: i for i, day in enumerate(days)}\n",
    "key = weekdays_low['day_of_week'].map(mapping)\n",
    "weekdays_low = weekdays_low.iloc[key.argsort()].set_index('day_of_week')\n",
    "weekdays_low.columns = [''.join(col).strip() for col in weekdays_low.columns.values]\n",
    "weekdays_low.reset_index(inplace=True)\n",
    "weekdays_low"
   ]
  },
  {
   "cell_type": "markdown",
   "metadata": {},
   "source": [
    "### graphing"
   ]
  },
  {
   "cell_type": "code",
   "execution_count": 36,
   "metadata": {},
   "outputs": [
    {
     "data": {
      "image/png": "[encoded data removed]",
      "text/plain": [
       "<matplotlib.figure.Figure at 0x1e133716c18>"
      ]
     },
     "metadata": {},
     "output_type": "display_data"
    }
   ],
   "source": [
    "#graphing the data for all commits\n",
    "ax = weekdays.plot.bar(x='day_of_week', y='total', color='grey', label='total_commits')\n",
    "ax2 = weekdays['negative_pct'].plot(secondary_y=True, label='percent of commits that are negative')\n",
    "ax3 = weekdays['positive_pct'].plot(secondary_y=True, label='percent of commits that are positive')\n",
    "ax.set_ylabel('num commits')\n",
    "ax2.set_ylabel('sentiment percentage')\n",
    "plt.legend(loc='center left', bbox_to_anchor=(1.2, 0.5))\n",
    "plt.show()"
   ]
  },
  {
   "cell_type": "code",
   "execution_count": 37,
   "metadata": {},
   "outputs": [
    {
     "data": {
      "image/png": "[encoded data removed]",
      "text/plain": [
       "<matplotlib.figure.Figure at 0x1e13a9505c0>"
      ]
     },
     "metadata": {},
     "output_type": "display_data"
    }
   ],
   "source": [
    "#graphing the data for large commits\n",
    "ax = weekdays_large.plot.bar(x='day_of_week', y='total', color='grey', label='total_commits')\n",
    "ax2 = weekdays_large['negative_pct'].plot(secondary_y=True, label='percent of commits that are negative')\n",
    "ax3 = weekdays_large['positive_pct'].plot(secondary_y=True, label='percent of commits that are positive')\n",
    "ax.set_ylabel('num commits')\n",
    "ax2.set_ylabel('sentiment percentage')\n",
    "plt.legend(loc='center left', bbox_to_anchor=(1.2, 0.5))\n",
    "plt.show()\n",
    "#enterprise programmers dont want to work on the weekend?"
   ]
  },
  {
   "cell_type": "code",
   "execution_count": 38,
   "metadata": {},
   "outputs": [
    {
     "data": {
      "image/png": "[encoded data removed]",
      "text/plain": [
       "<matplotlib.figure.Figure at 0x1e13b763828>"
      ]
     },
     "metadata": {},
     "output_type": "display_data"
    }
   ],
   "source": [
    "#graphing the data for average commits\n",
    "ax = weekdays_avg.plot.bar(x='day_of_week', y='total', color='grey', label='total_commits')\n",
    "ax2 = weekdays_avg['negative_pct'].plot(secondary_y=True, label='percent of commits that are negative')\n",
    "ax3 = weekdays_avg['positive_pct'].plot(secondary_y=True, label='percent of commits that are positive')\n",
    "ax.set_ylabel('num commits')\n",
    "ax2.set_ylabel('sentiment percentage')\n",
    "plt.legend(loc='center left', bbox_to_anchor=(1.2, 0.5))\n",
    "plt.show()"
   ]
  },
  {
   "cell_type": "code",
   "execution_count": 39,
   "metadata": {},
   "outputs": [
    {
     "data": {
      "image/png": "[encoded data removed]",
      "text/plain": [
       "<matplotlib.figure.Figure at 0x1e1415cd358>"
      ]
     },
     "metadata": {},
     "output_type": "display_data"
    }
   ],
   "source": [
    "#graphing the data for low commits\n",
    "ax = weekdays_low.plot.bar(x='day_of_week', y='total', color='grey', label='total_commits')\n",
    "ax2 = weekdays_low['negative_pct'].plot(secondary_y=True, label='percent of commits that are negative')\n",
    "ax3 = weekdays_low['positive_pct'].plot(secondary_y=True, label='percent of commits that are positive')\n",
    "ax.set_ylabel('num commits')\n",
    "ax2.set_ylabel('sentiment percentage')\n",
    "plt.legend(loc='center left', bbox_to_anchor=(1.2, 0.5))\n",
    "plt.show()\n",
    "#perhaps hobby programmers who are happy to work on their small projects on the weekend"
   ]
  },
  {
   "cell_type": "markdown",
   "metadata": {},
   "source": [
    "## RQ3\n",
    "Is there a correlation between the number of changed files and developer sentiment? "
   ]
  },
  {
   "cell_type": "code",
   "execution_count": 40,
   "metadata": {
    "collapsed": true
   },
   "outputs": [],
   "source": [
    "#count up all the changed files\n",
    "files_changed_count = files_changed_final.groupby('commit_id').count().reset_index()\n",
    "files_changed_count = files_changed_count[['commit_id', 'modification']]\n",
    "files_changed_count.commit_id = files_changed_count.commit_id.astype(str)\n",
    "files_changed_count.commit_id = files_changed_count.commit_id.str.strip()"
   ]
  },
  {
   "cell_type": "code",
   "execution_count": 41,
   "metadata": {
    "collapsed": true
   },
   "outputs": [],
   "source": [
    "commit_messages_rq3 = commit_messages_final\n",
    "commit_messages_rq3.dropna(inplace=True)\n",
    "commit_messages_rq3.commit_id = commit_messages_rq3.commit_id.astype(str)\n",
    "commit_messages_rq3.commit_id = commit_messages_rq3.commit_id.str.strip()"
   ]
  },
  {
   "cell_type": "markdown",
   "metadata": {},
   "source": [
    "##### Merge Dataframes:"
   ]
  },
  {
   "cell_type": "code",
   "execution_count": 42,
   "metadata": {
    "collapsed": true
   },
   "outputs": [],
   "source": [
    "commit_file_count = files_changed_count.merge(commit_messages_rq3,on='commit_id', how='left')\n",
    "commit_file_count = commit_file_count[(commit_file_count.year >= 2008) & (commit_file_count.year <= 2015) ]"
   ]
  },
  {
   "cell_type": "code",
   "execution_count": 43,
   "metadata": {
    "collapsed": true
   },
   "outputs": [],
   "source": [
    "commit_file_count_large = commit_file_count.loc[commit_file_count['project_id'].isin(largelist)]\n",
    "commit_file_count_avg = commit_file_count.loc[commit_file_count['project_id'].isin(avglist)]\n",
    "commit_file_count_low = commit_file_count.loc[commit_file_count['project_id'].isin(lowlist)]"
   ]
  },
  {
   "cell_type": "code",
   "execution_count": 44,
   "metadata": {},
   "outputs": [
    {
     "data": {
      "text/html": [
       "<div>\n",
       "<style>\n",
       "    .dataframe thead tr:only-child th {\n",
       "        text-align: right;\n",
       "    }\n",
       "\n",
       "    .dataframe thead th {\n",
       "        text-align: left;\n",
       "    }\n",
       "\n",
       "    .dataframe tbody tr th {\n",
       "        vertical-align: top;\n",
       "    }\n",
       "</style>\n",
       "<table border=\"1\" class=\"dataframe\">\n",
       "  <thead>\n",
       "    <tr style=\"text-align: right;\">\n",
       "      <th></th>\n",
       "      <th>year</th>\n",
       "      <th>negative_mod_count</th>\n",
       "      <th>neutral_mod_count</th>\n",
       "      <th>positive_mod_count</th>\n",
       "      <th>avg_files_modified</th>\n",
       "    </tr>\n",
       "  </thead>\n",
       "  <tbody>\n",
       "    <tr>\n",
       "      <th>0</th>\n",
       "      <td>2008.0</td>\n",
       "      <td>2742</td>\n",
       "      <td>9755</td>\n",
       "      <td>139</td>\n",
       "      <td>24.488372</td>\n",
       "    </tr>\n",
       "    <tr>\n",
       "      <th>1</th>\n",
       "      <td>2009.0</td>\n",
       "      <td>14431</td>\n",
       "      <td>82193</td>\n",
       "      <td>5073</td>\n",
       "      <td>19.378239</td>\n",
       "    </tr>\n",
       "    <tr>\n",
       "      <th>2</th>\n",
       "      <td>2010.0</td>\n",
       "      <td>110958</td>\n",
       "      <td>290256</td>\n",
       "      <td>39892</td>\n",
       "      <td>53.603840</td>\n",
       "    </tr>\n",
       "    <tr>\n",
       "      <th>3</th>\n",
       "      <td>2011.0</td>\n",
       "      <td>73217</td>\n",
       "      <td>321998</td>\n",
       "      <td>19801</td>\n",
       "      <td>43.968217</td>\n",
       "    </tr>\n",
       "    <tr>\n",
       "      <th>4</th>\n",
       "      <td>2012.0</td>\n",
       "      <td>24762</td>\n",
       "      <td>223128</td>\n",
       "      <td>11344</td>\n",
       "      <td>25.066138</td>\n",
       "    </tr>\n",
       "    <tr>\n",
       "      <th>5</th>\n",
       "      <td>2013.0</td>\n",
       "      <td>24337</td>\n",
       "      <td>395590</td>\n",
       "      <td>20936</td>\n",
       "      <td>33.474791</td>\n",
       "    </tr>\n",
       "    <tr>\n",
       "      <th>6</th>\n",
       "      <td>2014.0</td>\n",
       "      <td>7367</td>\n",
       "      <td>349117</td>\n",
       "      <td>1275</td>\n",
       "      <td>60.360891</td>\n",
       "    </tr>\n",
       "    <tr>\n",
       "      <th>7</th>\n",
       "      <td>2015.0</td>\n",
       "      <td>271</td>\n",
       "      <td>1083</td>\n",
       "      <td>114</td>\n",
       "      <td>4.194286</td>\n",
       "    </tr>\n",
       "  </tbody>\n",
       "</table>\n",
       "</div>"
      ],
      "text/plain": [
       "     year  negative_mod_count  neutral_mod_count  positive_mod_count  \\\n",
       "0  2008.0                2742               9755                 139   \n",
       "1  2009.0               14431              82193                5073   \n",
       "2  2010.0              110958             290256               39892   \n",
       "3  2011.0               73217             321998               19801   \n",
       "4  2012.0               24762             223128               11344   \n",
       "5  2013.0               24337             395590               20936   \n",
       "6  2014.0                7367             349117                1275   \n",
       "7  2015.0                 271               1083                 114   \n",
       "\n",
       "   avg_files_modified  \n",
       "0           24.488372  \n",
       "1           19.378239  \n",
       "2           53.603840  \n",
       "3           43.968217  \n",
       "4           25.066138  \n",
       "5           33.474791  \n",
       "6           60.360891  \n",
       "7            4.194286  "
      ]
     },
     "execution_count": 44,
     "metadata": {},
     "output_type": "execute_result"
    }
   ],
   "source": [
    "#do some really nasty rearanging of indexes\n",
    "years_large = commit_file_count_large.groupby(['year',pd.cut(commit_file_count_large.final_sentiment, bins = [-5, -1, 0, 4], labels=['negative', 'neutral', 'positive'])]).sum()\n",
    "years_large.columns = ['num_files_modified','garbage','garbage2']\n",
    "years_large = years_large.unstack()\n",
    "years_large.columns = [' '.join(col).strip() for col in years_large.columns.values]\n",
    "years_large.reset_index(inplace=True)\n",
    "years_large = years_large[['year','num_files_modified negative','num_files_modified neutral','num_files_modified positive']]\n",
    "years_large.columns = ['year','negative_mod_count','neutral_mod_count','positive_mod_count']\n",
    "\n",
    "temp=commit_file_count_large.groupby(['year']).mean()\n",
    "temp.reset_index(inplace=True)\n",
    "temp = temp[['year','modification']]\n",
    "temp.columns = ['year','avg_files_modified']\n",
    "\n",
    "years_large = years_large.merge(temp,on='year')\n",
    "years_large"
   ]
  },
  {
   "cell_type": "code",
   "execution_count": 45,
   "metadata": {},
   "outputs": [
    {
     "data": {
      "text/html": [
       "<div>\n",
       "<style>\n",
       "    .dataframe thead tr:only-child th {\n",
       "        text-align: right;\n",
       "    }\n",
       "\n",
       "    .dataframe thead th {\n",
       "        text-align: left;\n",
       "    }\n",
       "\n",
       "    .dataframe tbody tr th {\n",
       "        vertical-align: top;\n",
       "    }\n",
       "</style>\n",
       "<table border=\"1\" class=\"dataframe\">\n",
       "  <thead>\n",
       "    <tr style=\"text-align: right;\">\n",
       "      <th></th>\n",
       "      <th>year</th>\n",
       "      <th>negative_mod_count</th>\n",
       "      <th>neutral_mod_count</th>\n",
       "      <th>positive_mod_count</th>\n",
       "      <th>avg_files_modified</th>\n",
       "    </tr>\n",
       "  </thead>\n",
       "  <tbody>\n",
       "    <tr>\n",
       "      <th>0</th>\n",
       "      <td>2008.0</td>\n",
       "      <td>1996</td>\n",
       "      <td>13240</td>\n",
       "      <td>5862</td>\n",
       "      <td>9.831314</td>\n",
       "    </tr>\n",
       "    <tr>\n",
       "      <th>1</th>\n",
       "      <td>2009.0</td>\n",
       "      <td>10428</td>\n",
       "      <td>60416</td>\n",
       "      <td>2323</td>\n",
       "      <td>11.918391</td>\n",
       "    </tr>\n",
       "    <tr>\n",
       "      <th>2</th>\n",
       "      <td>2010.0</td>\n",
       "      <td>10236</td>\n",
       "      <td>39533</td>\n",
       "      <td>1766</td>\n",
       "      <td>17.218510</td>\n",
       "    </tr>\n",
       "    <tr>\n",
       "      <th>3</th>\n",
       "      <td>2011.0</td>\n",
       "      <td>15812</td>\n",
       "      <td>68231</td>\n",
       "      <td>1925</td>\n",
       "      <td>20.458829</td>\n",
       "    </tr>\n",
       "    <tr>\n",
       "      <th>4</th>\n",
       "      <td>2012.0</td>\n",
       "      <td>3328</td>\n",
       "      <td>48551</td>\n",
       "      <td>2535</td>\n",
       "      <td>16.867328</td>\n",
       "    </tr>\n",
       "    <tr>\n",
       "      <th>5</th>\n",
       "      <td>2013.0</td>\n",
       "      <td>1258</td>\n",
       "      <td>8167</td>\n",
       "      <td>106</td>\n",
       "      <td>15.080696</td>\n",
       "    </tr>\n",
       "    <tr>\n",
       "      <th>6</th>\n",
       "      <td>2014.0</td>\n",
       "      <td>53</td>\n",
       "      <td>1093</td>\n",
       "      <td>59</td>\n",
       "      <td>9.877049</td>\n",
       "    </tr>\n",
       "    <tr>\n",
       "      <th>7</th>\n",
       "      <td>2015.0</td>\n",
       "      <td>28</td>\n",
       "      <td>1078</td>\n",
       "      <td>7</td>\n",
       "      <td>17.123077</td>\n",
       "    </tr>\n",
       "  </tbody>\n",
       "</table>\n",
       "</div>"
      ],
      "text/plain": [
       "     year  negative_mod_count  neutral_mod_count  positive_mod_count  \\\n",
       "0  2008.0                1996              13240                5862   \n",
       "1  2009.0               10428              60416                2323   \n",
       "2  2010.0               10236              39533                1766   \n",
       "3  2011.0               15812              68231                1925   \n",
       "4  2012.0                3328              48551                2535   \n",
       "5  2013.0                1258               8167                 106   \n",
       "6  2014.0                  53               1093                  59   \n",
       "7  2015.0                  28               1078                   7   \n",
       "\n",
       "   avg_files_modified  \n",
       "0            9.831314  \n",
       "1           11.918391  \n",
       "2           17.218510  \n",
       "3           20.458829  \n",
       "4           16.867328  \n",
       "5           15.080696  \n",
       "6            9.877049  \n",
       "7           17.123077  "
      ]
     },
     "execution_count": 45,
     "metadata": {},
     "output_type": "execute_result"
    }
   ],
   "source": [
    "years_avg = commit_file_count_avg.groupby(['year',pd.cut(commit_file_count_avg.final_sentiment, bins = [-5, -1, 0, 4], labels=['negative', 'neutral', 'positive'])]).sum()\n",
    "years_avg.columns = ['num_files_modified','garbage','garbage2']\n",
    "years_avg = years_avg.unstack()\n",
    "years_avg.columns = [' '.join(col).strip() for col in years_avg.columns.values]\n",
    "years_avg.reset_index(inplace=True)\n",
    "years_avg = years_avg[['year','num_files_modified negative','num_files_modified neutral','num_files_modified positive']]\n",
    "years_avg.columns = ['year','negative_mod_count','neutral_mod_count','positive_mod_count']\n",
    "\n",
    "temp=commit_file_count_avg.groupby(['year']).mean()\n",
    "temp.reset_index(inplace=True)\n",
    "temp = temp[['year','modification']]\n",
    "temp.columns = ['year','avg_files_modified']\n",
    "\n",
    "years_avg = years_avg.merge(temp,on='year')\n",
    "years_avg"
   ]
  },
  {
   "cell_type": "code",
   "execution_count": 46,
   "metadata": {},
   "outputs": [
    {
     "data": {
      "text/html": [
       "<div>\n",
       "<style>\n",
       "    .dataframe thead tr:only-child th {\n",
       "        text-align: right;\n",
       "    }\n",
       "\n",
       "    .dataframe thead th {\n",
       "        text-align: left;\n",
       "    }\n",
       "\n",
       "    .dataframe tbody tr th {\n",
       "        vertical-align: top;\n",
       "    }\n",
       "</style>\n",
       "<table border=\"1\" class=\"dataframe\">\n",
       "  <thead>\n",
       "    <tr style=\"text-align: right;\">\n",
       "      <th></th>\n",
       "      <th>year</th>\n",
       "      <th>negative_mod_count</th>\n",
       "      <th>neutral_mod_count</th>\n",
       "      <th>positive_mod_count</th>\n",
       "      <th>avg_files_modified</th>\n",
       "    </tr>\n",
       "  </thead>\n",
       "  <tbody>\n",
       "    <tr>\n",
       "      <th>0</th>\n",
       "      <td>2008.0</td>\n",
       "      <td>392.0</td>\n",
       "      <td>1377.0</td>\n",
       "      <td>58.0</td>\n",
       "      <td>3.155440</td>\n",
       "    </tr>\n",
       "    <tr>\n",
       "      <th>1</th>\n",
       "      <td>2009.0</td>\n",
       "      <td>149.0</td>\n",
       "      <td>979.0</td>\n",
       "      <td>41.0</td>\n",
       "      <td>2.205660</td>\n",
       "    </tr>\n",
       "    <tr>\n",
       "      <th>2</th>\n",
       "      <td>2010.0</td>\n",
       "      <td>41.0</td>\n",
       "      <td>387.0</td>\n",
       "      <td>27.0</td>\n",
       "      <td>1.691450</td>\n",
       "    </tr>\n",
       "    <tr>\n",
       "      <th>3</th>\n",
       "      <td>2011.0</td>\n",
       "      <td>23.0</td>\n",
       "      <td>3229.0</td>\n",
       "      <td>201.0</td>\n",
       "      <td>17.179104</td>\n",
       "    </tr>\n",
       "    <tr>\n",
       "      <th>4</th>\n",
       "      <td>2012.0</td>\n",
       "      <td>668.0</td>\n",
       "      <td>9819.0</td>\n",
       "      <td>645.0</td>\n",
       "      <td>8.319880</td>\n",
       "    </tr>\n",
       "    <tr>\n",
       "      <th>5</th>\n",
       "      <td>2013.0</td>\n",
       "      <td>669.0</td>\n",
       "      <td>21838.0</td>\n",
       "      <td>846.0</td>\n",
       "      <td>9.803946</td>\n",
       "    </tr>\n",
       "    <tr>\n",
       "      <th>6</th>\n",
       "      <td>2014.0</td>\n",
       "      <td>0.0</td>\n",
       "      <td>51.0</td>\n",
       "      <td>11.0</td>\n",
       "      <td>4.428571</td>\n",
       "    </tr>\n",
       "  </tbody>\n",
       "</table>\n",
       "</div>"
      ],
      "text/plain": [
       "     year  negative_mod_count  neutral_mod_count  positive_mod_count  \\\n",
       "0  2008.0               392.0             1377.0                58.0   \n",
       "1  2009.0               149.0              979.0                41.0   \n",
       "2  2010.0                41.0              387.0                27.0   \n",
       "3  2011.0                23.0             3229.0               201.0   \n",
       "4  2012.0               668.0             9819.0               645.0   \n",
       "5  2013.0               669.0            21838.0               846.0   \n",
       "6  2014.0                 0.0               51.0                11.0   \n",
       "\n",
       "   avg_files_modified  \n",
       "0            3.155440  \n",
       "1            2.205660  \n",
       "2            1.691450  \n",
       "3           17.179104  \n",
       "4            8.319880  \n",
       "5            9.803946  \n",
       "6            4.428571  "
      ]
     },
     "execution_count": 46,
     "metadata": {},
     "output_type": "execute_result"
    }
   ],
   "source": [
    "years_low = commit_file_count_low.groupby(['year',pd.cut(commit_file_count_low.final_sentiment, bins = [-5, -1, 0, 4], labels=['negative', 'neutral', 'positive'])]).sum()\n",
    "years_low.columns = ['num_files_modified','garbage','garbage2']\n",
    "years_low = years_low.unstack()\n",
    "years_low.columns = [' '.join(col).strip() for col in years_low.columns.values]\n",
    "years_low.reset_index(inplace=True)\n",
    "years_low = years_low[['year','num_files_modified negative','num_files_modified neutral','num_files_modified positive']]\n",
    "years_low.columns = ['year','negative_mod_count','neutral_mod_count','positive_mod_count']\n",
    "years_low = years_low.fillna(0)\n",
    "\n",
    "temp=commit_file_count_low.groupby(['year']).mean()\n",
    "temp.reset_index(inplace=True)\n",
    "temp = temp[['year','modification']]\n",
    "temp.columns = ['year','avg_files_modified']\n",
    "\n",
    "years_low = years_low.merge(temp,on='year')\n",
    "years_low"
   ]
  },
  {
   "cell_type": "code",
   "execution_count": 47,
   "metadata": {},
   "outputs": [
    {
     "data": {
      "image/png": "[encoded data removed]",
      "text/plain": [
       "<matplotlib.figure.Figure at 0x1e140200828>"
      ]
     },
     "metadata": {},
     "output_type": "display_data"
    }
   ],
   "source": [
    "#graphing the data for large commits\n",
    "ax = years_large.plot.bar(x='year', y='avg_files_modified', color='grey', label='avg changed files/commit')\n",
    "ax2 = years_large['negative_mod_count'].plot(secondary_y=True, label='modifications belonging to negative commit')\n",
    "ax2 = years_large['neutral_mod_count'].plot(secondary_y=True, label='modifications belonging to neutral commit')\n",
    "ax3 = years_large['positive_mod_count'].plot(secondary_y=True, label='modifications belonging to positive commit')\n",
    "ax.set_ylabel('avg changed files/commit')\n",
    "ax2.set_ylabel('number of files modified')\n",
    "plt.legend(loc='center left', bbox_to_anchor=(1.2, 0.5))\n",
    "plt.show()"
   ]
  },
  {
   "cell_type": "code",
   "execution_count": 48,
   "metadata": {},
   "outputs": [
    {
     "data": {
      "image/png": "[encoded data removed]",
      "text/plain": [
       "<matplotlib.figure.Figure at 0x1e140200940>"
      ]
     },
     "metadata": {},
     "output_type": "display_data"
    }
   ],
   "source": [
    "#graphing the data for average commits\n",
    "ax = years_avg.plot.bar(x='year', y='avg_files_modified', color='grey', label='avg changed files/commit')\n",
    "ax2 = years_avg['negative_mod_count'].plot(secondary_y=True, label='modifications belonging to negative commit')\n",
    "ax2 = years_avg['neutral_mod_count'].plot(secondary_y=True, label='modifications belonging to neutral commit')\n",
    "ax3 = years_avg['positive_mod_count'].plot(secondary_y=True, label='modifications belonging to positive commit')\n",
    "ax.set_ylabel('avg changed files/commit')\n",
    "ax2.set_ylabel('number of files modified')\n",
    "plt.legend(loc='center left', bbox_to_anchor=(1.2, 0.5))\n",
    "plt.show()"
   ]
  },
  {
   "cell_type": "code",
   "execution_count": 49,
   "metadata": {},
   "outputs": [
    {
     "data": {
      "image/png": "[encoded data removed]",
      "text/plain": [
       "<matplotlib.figure.Figure at 0x1e13a949d68>"
      ]
     },
     "metadata": {},
     "output_type": "display_data"
    }
   ],
   "source": [
    "#graphing the data for low commits\n",
    "ax = years_low.plot.bar(x='year', y='avg_files_modified', color='grey', label='avg changed files/commit')\n",
    "ax2 = years_low['negative_mod_count'].plot(secondary_y=True, label='modifications belonging to negative commit')\n",
    "ax2 = years_low['neutral_mod_count'].plot(secondary_y=True, label='modifications belonging to neutral commit')\n",
    "ax3 = years_low['positive_mod_count'].plot(secondary_y=True, label='modifications belonging to positive commit')\n",
    "ax.set_ylabel('avg changed files/commit')\n",
    "ax2.set_ylabel('number of files modified')\n",
    "plt.legend(loc='center left', bbox_to_anchor=(1.2, 0.5))\n",
    "plt.show()"
   ]
  },
  {
   "cell_type": "markdown",
   "metadata": {},
   "source": [
    "# RQ4"
   ]
  },
  {
   "cell_type": "markdown",
   "metadata": {},
   "source": [
    "Is there a correlation between type of file modification and sentiment"
   ]
  },
  {
   "cell_type": "code",
   "execution_count": 50,
   "metadata": {
    "collapsed": true
   },
   "outputs": [],
   "source": [
    "#cound the number of each type of modification for each commit\n",
    "files_changed_rq4 = files_changed_final.groupby(['modification','commit_id']).count().reset_index()\n",
    "files_changed_rq4 = files_changed_rq4.pivot(index='commit_id', columns='modification', values='filepath')\n",
    "files_changed_rq4.columns = [''.join(col).strip() for col in files_changed_rq4.columns.values]\n",
    "files_changed_rq4.reset_index(inplace=True)\n",
    "files_changed_rq4.fillna(0, inplace=True)"
   ]
  },
  {
   "cell_type": "code",
   "execution_count": 51,
   "metadata": {
    "collapsed": true
   },
   "outputs": [],
   "source": [
    "#get the totals again and get percentages\n",
    "files_changed_rq4['total'] = files_changed_rq4['Add'] + files_changed_rq4['Delete'] + files_changed_rq4['Modify']\n",
    "files_changed_rq4['add_pct'] = files_changed_rq4['Add'].divide(files_changed_rq4['total']).multiply(100)\n",
    "files_changed_rq4['delete_pct'] = files_changed_rq4['Delete'].divide(files_changed_rq4['total']).multiply(100)\n",
    "files_changed_rq4['modify_pct'] = files_changed_rq4['Modify'].divide(files_changed_rq4['total']).multiply(100)"
   ]
  },
  {
   "cell_type": "code",
   "execution_count": 52,
   "metadata": {
    "collapsed": true
   },
   "outputs": [],
   "source": [
    "#get commit messages and strip any nasty hidden characters\n",
    "commit_messages_rq4 = commit_messages_final\n",
    "commit_messages_rq4.dropna(inplace=True)\n",
    "commit_messages_rq4.commit_id = commit_messages_rq4.commit_id.astype(str)\n",
    "commit_messages_rq4.commit_id = commit_messages_rq4.commit_id.str.strip()\n",
    "\n",
    "files_changed_rq4.commit_id = files_changed_rq4.commit_id.astype(str)\n",
    "files_changed_rq4.commit_id = files_changed_rq4.commit_id.str.strip()"
   ]
  },
  {
   "cell_type": "code",
   "execution_count": 53,
   "metadata": {
    "collapsed": true
   },
   "outputs": [],
   "source": [
    "#break apart the three size groups\n",
    "commit_mod_count = files_changed_rq4.merge(commit_messages_rq4,on='commit_id', how='left')\n",
    "commit_mod_count_large = commit_mod_count.loc[commit_mod_count['project_id'].isin(largelist)]\n",
    "commit_mod_count_avg = commit_mod_count.loc[commit_mod_count['project_id'].isin(avglist)]\n",
    "commit_mod_count_low = commit_mod_count.loc[commit_mod_count['project_id'].isin(lowlist)]"
   ]
  },
  {
   "cell_type": "code",
   "execution_count": 54,
   "metadata": {},
   "outputs": [
    {
     "data": {
      "text/html": [
       "<div>\n",
       "<style>\n",
       "    .dataframe thead tr:only-child th {\n",
       "        text-align: right;\n",
       "    }\n",
       "\n",
       "    .dataframe thead th {\n",
       "        text-align: left;\n",
       "    }\n",
       "\n",
       "    .dataframe tbody tr th {\n",
       "        vertical-align: top;\n",
       "    }\n",
       "</style>\n",
       "<table border=\"1\" class=\"dataframe\">\n",
       "  <thead>\n",
       "    <tr style=\"text-align: right;\">\n",
       "      <th></th>\n",
       "      <th>majority_mod</th>\n",
       "      <th>negative_commit_count</th>\n",
       "      <th>neutral_commit_count</th>\n",
       "      <th>positive_commit_count</th>\n",
       "      <th>total</th>\n",
       "      <th>negative_pct</th>\n",
       "      <th>neutral_pct</th>\n",
       "      <th>positive_pct</th>\n",
       "    </tr>\n",
       "  </thead>\n",
       "  <tbody>\n",
       "    <tr>\n",
       "      <th>0</th>\n",
       "      <td>add</td>\n",
       "      <td>277</td>\n",
       "      <td>1480</td>\n",
       "      <td>104</td>\n",
       "      <td>1861</td>\n",
       "      <td>14.884471</td>\n",
       "      <td>79.527136</td>\n",
       "      <td>5.588393</td>\n",
       "    </tr>\n",
       "    <tr>\n",
       "      <th>1</th>\n",
       "      <td>delete</td>\n",
       "      <td>124</td>\n",
       "      <td>378</td>\n",
       "      <td>17</td>\n",
       "      <td>519</td>\n",
       "      <td>23.892100</td>\n",
       "      <td>72.832370</td>\n",
       "      <td>3.275530</td>\n",
       "    </tr>\n",
       "    <tr>\n",
       "      <th>2</th>\n",
       "      <td>modify</td>\n",
       "      <td>7583</td>\n",
       "      <td>37123</td>\n",
       "      <td>3361</td>\n",
       "      <td>48067</td>\n",
       "      <td>15.775896</td>\n",
       "      <td>77.231781</td>\n",
       "      <td>6.992323</td>\n",
       "    </tr>\n",
       "  </tbody>\n",
       "</table>\n",
       "</div>"
      ],
      "text/plain": [
       "  majority_mod  negative_commit_count  neutral_commit_count  \\\n",
       "0          add                    277                  1480   \n",
       "1       delete                    124                   378   \n",
       "2       modify                   7583                 37123   \n",
       "\n",
       "   positive_commit_count  total  negative_pct  neutral_pct  positive_pct  \n",
       "0                    104   1861     14.884471    79.527136      5.588393  \n",
       "1                     17    519     23.892100    72.832370      3.275530  \n",
       "2                   3361  48067     15.775896    77.231781      6.992323  "
      ]
     },
     "execution_count": 54,
     "metadata": {},
     "output_type": "execute_result"
    }
   ],
   "source": [
    "#group by whichever type of modification is greater than 80% of the modifications in each commit\n",
    "#throw away commits that arent strongly leaning toward one type, as in not greater than 80% adds, modifies, or deletes\n",
    "commit_mod_count_large.loc[(commit_mod_count_large.add_pct >= 80), 'majority_mod'] = 'add'\n",
    "commit_mod_count_large.loc[(commit_mod_count_large.delete_pct >= 80), 'majority_mod'] = 'delete' \n",
    "commit_mod_count_large.loc[(commit_mod_count_large.modify_pct >= 80), 'majority_mod'] = 'modify' \n",
    "commit_mod_count_large.dropna(inplace=True)\n",
    "commit_mod_count_large = commit_mod_count_large.groupby(['majority_mod',pd.cut(commit_mod_count_large.final_sentiment, bins = [-5, -1, 0, 4], labels=['negative', 'neutral', 'positive'])]).count()\n",
    "commit_mod_count_large = commit_mod_count_large.unstack()\n",
    "commit_mod_count_large.columns = [' '.join(col).strip() for col in commit_mod_count_large.columns.values]\n",
    "commit_mod_count_large.reset_index(inplace=True)\n",
    "commit_mod_count_large = commit_mod_count_large[['majority_mod','commit_id negative','commit_id neutral','commit_id positive']]\n",
    "commit_mod_count_large.columns = ['majority_mod','negative_commit_count','neutral_commit_count','positive_commit_count']\n",
    "\n",
    "#get the totals again\n",
    "commit_mod_count_large['total'] = commit_mod_count_large['negative_commit_count'] + commit_mod_count_large['neutral_commit_count'] + commit_mod_count_large['positive_commit_count']\n",
    "commit_mod_count_large['negative_pct'] = commit_mod_count_large['negative_commit_count'].divide(commit_mod_count_large['total']).multiply(100)\n",
    "commit_mod_count_large['neutral_pct'] = commit_mod_count_large['neutral_commit_count'].divide(commit_mod_count_large['total']).multiply(100)\n",
    "commit_mod_count_large['positive_pct'] = commit_mod_count_large['positive_commit_count'].divide(commit_mod_count_large['total']).multiply(100)\n",
    "\n",
    "commit_mod_count_large"
   ]
  },
  {
   "cell_type": "code",
   "execution_count": 55,
   "metadata": {},
   "outputs": [
    {
     "data": {
      "text/html": [
       "<div>\n",
       "<style>\n",
       "    .dataframe thead tr:only-child th {\n",
       "        text-align: right;\n",
       "    }\n",
       "\n",
       "    .dataframe thead th {\n",
       "        text-align: left;\n",
       "    }\n",
       "\n",
       "    .dataframe tbody tr th {\n",
       "        vertical-align: top;\n",
       "    }\n",
       "</style>\n",
       "<table border=\"1\" class=\"dataframe\">\n",
       "  <thead>\n",
       "    <tr style=\"text-align: right;\">\n",
       "      <th></th>\n",
       "      <th>majority_mod</th>\n",
       "      <th>negative_commit_count</th>\n",
       "      <th>neutral_commit_count</th>\n",
       "      <th>positive_commit_count</th>\n",
       "      <th>total</th>\n",
       "      <th>negative_pct</th>\n",
       "      <th>neutral_pct</th>\n",
       "      <th>positive_pct</th>\n",
       "    </tr>\n",
       "  </thead>\n",
       "  <tbody>\n",
       "    <tr>\n",
       "      <th>0</th>\n",
       "      <td>add</td>\n",
       "      <td>84</td>\n",
       "      <td>578</td>\n",
       "      <td>43</td>\n",
       "      <td>705</td>\n",
       "      <td>11.914894</td>\n",
       "      <td>81.985816</td>\n",
       "      <td>6.099291</td>\n",
       "    </tr>\n",
       "    <tr>\n",
       "      <th>1</th>\n",
       "      <td>delete</td>\n",
       "      <td>38</td>\n",
       "      <td>171</td>\n",
       "      <td>4</td>\n",
       "      <td>213</td>\n",
       "      <td>17.840376</td>\n",
       "      <td>80.281690</td>\n",
       "      <td>1.877934</td>\n",
       "    </tr>\n",
       "    <tr>\n",
       "      <th>2</th>\n",
       "      <td>modify</td>\n",
       "      <td>3475</td>\n",
       "      <td>15161</td>\n",
       "      <td>1050</td>\n",
       "      <td>19686</td>\n",
       "      <td>17.652139</td>\n",
       "      <td>77.014122</td>\n",
       "      <td>5.333740</td>\n",
       "    </tr>\n",
       "  </tbody>\n",
       "</table>\n",
       "</div>"
      ],
      "text/plain": [
       "  majority_mod  negative_commit_count  neutral_commit_count  \\\n",
       "0          add                     84                   578   \n",
       "1       delete                     38                   171   \n",
       "2       modify                   3475                 15161   \n",
       "\n",
       "   positive_commit_count  total  negative_pct  neutral_pct  positive_pct  \n",
       "0                     43    705     11.914894    81.985816      6.099291  \n",
       "1                      4    213     17.840376    80.281690      1.877934  \n",
       "2                   1050  19686     17.652139    77.014122      5.333740  "
      ]
     },
     "execution_count": 55,
     "metadata": {},
     "output_type": "execute_result"
    }
   ],
   "source": [
    "#group by whichever type of modification is greater than 80% of the modifications in each commit\n",
    "#throw away commits that arent strongly leaning toward one type, as in not greater than 80% adds, modifies, or deletes\n",
    "commit_mod_count_avg.loc[(commit_mod_count_avg.add_pct >= 80), 'majority_mod'] = 'add'\n",
    "commit_mod_count_avg.loc[(commit_mod_count_avg.delete_pct >= 80), 'majority_mod'] = 'delete' \n",
    "commit_mod_count_avg.loc[(commit_mod_count_avg.modify_pct >= 80), 'majority_mod'] = 'modify' \n",
    "commit_mod_count_avg.dropna(inplace=True)\n",
    "commit_mod_count_avg = commit_mod_count_avg.groupby(['majority_mod',pd.cut(commit_mod_count_avg.final_sentiment, bins = [-5, -1, 0, 4], labels=['negative', 'neutral', 'positive'])]).count()\n",
    "commit_mod_count_avg = commit_mod_count_avg.unstack()\n",
    "commit_mod_count_avg.columns = [' '.join(col).strip() for col in commit_mod_count_avg.columns.values]\n",
    "commit_mod_count_avg.reset_index(inplace=True)\n",
    "commit_mod_count_avg = commit_mod_count_avg[['majority_mod','commit_id negative','commit_id neutral','commit_id positive']]\n",
    "commit_mod_count_avg.columns = ['majority_mod','negative_commit_count','neutral_commit_count','positive_commit_count']\n",
    "\n",
    "#get the totals again\n",
    "commit_mod_count_avg['total'] = commit_mod_count_avg['negative_commit_count'] + commit_mod_count_avg['neutral_commit_count'] + commit_mod_count_avg['positive_commit_count']\n",
    "commit_mod_count_avg['negative_pct'] = commit_mod_count_avg['negative_commit_count'].divide(commit_mod_count_avg['total']).multiply(100)\n",
    "commit_mod_count_avg['neutral_pct'] = commit_mod_count_avg['neutral_commit_count'].divide(commit_mod_count_avg['total']).multiply(100)\n",
    "commit_mod_count_avg['positive_pct'] = commit_mod_count_avg['positive_commit_count'].divide(commit_mod_count_avg['total']).multiply(100)\n",
    "\n",
    "commit_mod_count_avg"
   ]
  },
  {
   "cell_type": "code",
   "execution_count": 56,
   "metadata": {},
   "outputs": [
    {
     "data": {
      "text/html": [
       "<div>\n",
       "<style>\n",
       "    .dataframe thead tr:only-child th {\n",
       "        text-align: right;\n",
       "    }\n",
       "\n",
       "    .dataframe thead th {\n",
       "        text-align: left;\n",
       "    }\n",
       "\n",
       "    .dataframe tbody tr th {\n",
       "        vertical-align: top;\n",
       "    }\n",
       "</style>\n",
       "<table border=\"1\" class=\"dataframe\">\n",
       "  <thead>\n",
       "    <tr style=\"text-align: right;\">\n",
       "      <th></th>\n",
       "      <th>majority_mod</th>\n",
       "      <th>negative_commit_count</th>\n",
       "      <th>neutral_commit_count</th>\n",
       "      <th>positive_commit_count</th>\n",
       "      <th>total</th>\n",
       "      <th>negative_pct</th>\n",
       "      <th>neutral_pct</th>\n",
       "      <th>positive_pct</th>\n",
       "    </tr>\n",
       "  </thead>\n",
       "  <tbody>\n",
       "    <tr>\n",
       "      <th>0</th>\n",
       "      <td>add</td>\n",
       "      <td>10.0</td>\n",
       "      <td>217.0</td>\n",
       "      <td>8.0</td>\n",
       "      <td>235.0</td>\n",
       "      <td>4.255319</td>\n",
       "      <td>92.340426</td>\n",
       "      <td>3.404255</td>\n",
       "    </tr>\n",
       "    <tr>\n",
       "      <th>1</th>\n",
       "      <td>delete</td>\n",
       "      <td>8.0</td>\n",
       "      <td>37.0</td>\n",
       "      <td>0.0</td>\n",
       "      <td>45.0</td>\n",
       "      <td>17.777778</td>\n",
       "      <td>82.222222</td>\n",
       "      <td>0.000000</td>\n",
       "    </tr>\n",
       "    <tr>\n",
       "      <th>2</th>\n",
       "      <td>modify</td>\n",
       "      <td>544.0</td>\n",
       "      <td>4508.0</td>\n",
       "      <td>260.0</td>\n",
       "      <td>5312.0</td>\n",
       "      <td>10.240964</td>\n",
       "      <td>84.864458</td>\n",
       "      <td>4.894578</td>\n",
       "    </tr>\n",
       "  </tbody>\n",
       "</table>\n",
       "</div>"
      ],
      "text/plain": [
       "  majority_mod  negative_commit_count  neutral_commit_count  \\\n",
       "0          add                   10.0                 217.0   \n",
       "1       delete                    8.0                  37.0   \n",
       "2       modify                  544.0                4508.0   \n",
       "\n",
       "   positive_commit_count   total  negative_pct  neutral_pct  positive_pct  \n",
       "0                    8.0   235.0      4.255319    92.340426      3.404255  \n",
       "1                    0.0    45.0     17.777778    82.222222      0.000000  \n",
       "2                  260.0  5312.0     10.240964    84.864458      4.894578  "
      ]
     },
     "execution_count": 56,
     "metadata": {},
     "output_type": "execute_result"
    }
   ],
   "source": [
    "#group by whichever type of modification is greater than 80% of the modifications in each commit\n",
    "#throw away commits that arent strongly leaning toward one type, as in not greater than 80% adds, modifies, or deletes\n",
    "commit_mod_count_low.loc[(commit_mod_count_low.add_pct >= 80), 'majority_mod'] = 'add'\n",
    "commit_mod_count_low.loc[(commit_mod_count_low.delete_pct >= 80), 'majority_mod'] = 'delete' \n",
    "commit_mod_count_low.loc[(commit_mod_count_low.modify_pct >= 80), 'majority_mod'] = 'modify' \n",
    "commit_mod_count_low.dropna(inplace=True)\n",
    "commit_mod_count_low = commit_mod_count_low.groupby(['majority_mod',pd.cut(commit_mod_count_low.final_sentiment, bins = [-5, -1, 0, 4], labels=['negative', 'neutral', 'positive'])]).count()\n",
    "commit_mod_count_low = commit_mod_count_low.unstack()\n",
    "commit_mod_count_low.columns = [' '.join(col).strip() for col in commit_mod_count_low.columns.values]\n",
    "commit_mod_count_low.reset_index(inplace=True)\n",
    "commit_mod_count_low = commit_mod_count_low[['majority_mod','commit_id negative','commit_id neutral','commit_id positive']]\n",
    "commit_mod_count_low.columns = ['majority_mod','negative_commit_count','neutral_commit_count','positive_commit_count']\n",
    "commit_mod_count_low.fillna(0, inplace=True)\n",
    "\n",
    "#get the totals again\n",
    "commit_mod_count_low['total'] = commit_mod_count_low['negative_commit_count'] + commit_mod_count_low['neutral_commit_count'] + commit_mod_count_low['positive_commit_count']\n",
    "commit_mod_count_low['negative_pct'] = commit_mod_count_low['negative_commit_count'].divide(commit_mod_count_low['total']).multiply(100)\n",
    "commit_mod_count_low['neutral_pct'] = commit_mod_count_low['neutral_commit_count'].divide(commit_mod_count_low['total']).multiply(100)\n",
    "commit_mod_count_low['positive_pct'] = commit_mod_count_low['positive_commit_count'].divide(commit_mod_count_low['total']).multiply(100)\n",
    "\n",
    "commit_mod_count_low"
   ]
  },
  {
   "cell_type": "code",
   "execution_count": 57,
   "metadata": {},
   "outputs": [
    {
     "data": {
      "image/png": "[encoded data removed]",
      "text/plain": [
       "<matplotlib.figure.Figure at 0x1e16838d320>"
      ]
     },
     "metadata": {},
     "output_type": "display_data"
    }
   ],
   "source": [
    "#graphing the data for large projects\n",
    "ax = commit_mod_count_large.plot.bar(x='majority_mod', y='total', color='grey', label='total_commits')\n",
    "ax1 = commit_mod_count_large['neutral_pct'].plot(secondary_y=True, label='percent of commits that are neutral')\n",
    "ax2 = commit_mod_count_large['negative_pct'].plot(secondary_y=True, label='percent of commits that are negative')\n",
    "ax3 = commit_mod_count_large['positive_pct'].plot(secondary_y=True, label='percent of commits that are positive')\n",
    "ax.set_ylabel('num commits')\n",
    "ax2.set_ylabel('sentiment percentage')\n",
    "plt.legend(loc='center left', bbox_to_anchor=(1.2, 0.5))\n",
    "plt.show()"
   ]
  },
  {
   "cell_type": "code",
   "execution_count": 58,
   "metadata": {},
   "outputs": [
    {
     "data": {
      "image/png": "[encoded data removed]",
      "text/plain": [
       "<matplotlib.figure.Figure at 0x1e15b913f60>"
      ]
     },
     "metadata": {},
     "output_type": "display_data"
    }
   ],
   "source": [
    "#graphing the data for average projects\n",
    "ax = commit_mod_count_avg.plot.bar(x='majority_mod', y='total', color='grey', label='total_commits')\n",
    "ax1 = commit_mod_count_avg['neutral_pct'].plot(secondary_y=True, label='percent of commits that are neutral')\n",
    "ax2 = commit_mod_count_avg['negative_pct'].plot(secondary_y=True, label='percent of commits that are negative')\n",
    "ax3 = commit_mod_count_avg['positive_pct'].plot(secondary_y=True, label='percent of commits that are positive')\n",
    "ax.set_ylabel('num commits')\n",
    "ax2.set_ylabel('sentiment percentage')\n",
    "plt.legend(loc='center left', bbox_to_anchor=(1.2, 0.5))\n",
    "plt.show()"
   ]
  },
  {
   "cell_type": "code",
   "execution_count": 59,
   "metadata": {},
   "outputs": [
    {
     "data": {
      "image/png": "[encoded data removed]",
      "text/plain": [
       "<matplotlib.figure.Figure at 0x1e168381a20>"
      ]
     },
     "metadata": {},
     "output_type": "display_data"
    }
   ],
   "source": [
    "#graphing the data for low projects\n",
    "ax = commit_mod_count_low.plot.bar(x='majority_mod', y='total', color='grey', label='total_commits')\n",
    "ax1 = commit_mod_count_low['neutral_pct'].plot(secondary_y=True, label='percent of commits that are neutral')\n",
    "ax2 = commit_mod_count_low['negative_pct'].plot(secondary_y=True, label='percent of commits that are negative')\n",
    "ax3 = commit_mod_count_low['positive_pct'].plot(secondary_y=True, label='percent of commits that are positive')\n",
    "ax.set_ylabel('num commits')\n",
    "ax2.set_ylabel('sentiment percentage')\n",
    "plt.legend(loc='center left', bbox_to_anchor=(1.2, 0.5))\n",
    "plt.show()"
   ]
  },
  {
   "cell_type": "markdown",
   "metadata": {},
   "source": [
    "# RQ5"
   ]
  },
  {
   "cell_type": "markdown",
   "metadata": {},
   "source": [
    "How does the project sentiment change over the life of the project? (beginning, middle, and end)"
   ]
  },
  {
   "cell_type": "code",
   "execution_count": 60,
   "metadata": {},
   "outputs": [
    {
     "data": {
      "text/html": [
       "<div>\n",
       "<style>\n",
       "    .dataframe thead tr:only-child th {\n",
       "        text-align: right;\n",
       "    }\n",
       "\n",
       "    .dataframe thead th {\n",
       "        text-align: left;\n",
       "    }\n",
       "\n",
       "    .dataframe tbody tr th {\n",
       "        vertical-align: top;\n",
       "    }\n",
       "</style>\n",
       "<table border=\"1\" class=\"dataframe\">\n",
       "  <thead>\n",
       "    <tr style=\"text-align: right;\">\n",
       "      <th></th>\n",
       "      <th>project_id</th>\n",
       "      <th>max</th>\n",
       "      <th>min</th>\n",
       "      <th>age_days</th>\n",
       "      <th>chunk_size_days</th>\n",
       "      <th>chunk1_end</th>\n",
       "      <th>chunk2_end</th>\n",
       "    </tr>\n",
       "  </thead>\n",
       "  <tbody>\n",
       "    <tr>\n",
       "      <th>0</th>\n",
       "      <td>2019</td>\n",
       "      <td>2014-03-21 03:26:36</td>\n",
       "      <td>2008-01-09 17:41:21</td>\n",
       "      <td>2260.0</td>\n",
       "      <td>750.0</td>\n",
       "      <td>2010-01-28 17:41:21</td>\n",
       "      <td>2012-02-17 17:41:21</td>\n",
       "    </tr>\n",
       "    <tr>\n",
       "      <th>1</th>\n",
       "      <td>15623</td>\n",
       "      <td>2010-11-10 16:46:52</td>\n",
       "      <td>2008-01-26 15:07:24</td>\n",
       "      <td>1020.0</td>\n",
       "      <td>340.0</td>\n",
       "      <td>2008-12-31 15:07:24</td>\n",
       "      <td>2009-12-06 15:07:24</td>\n",
       "    </tr>\n",
       "    <tr>\n",
       "      <th>2</th>\n",
       "      <td>25193</td>\n",
       "      <td>2013-09-11 08:30:38</td>\n",
       "      <td>2008-01-02 08:14:46</td>\n",
       "      <td>2080.0</td>\n",
       "      <td>690.0</td>\n",
       "      <td>2009-11-22 08:14:46</td>\n",
       "      <td>2011-10-13 08:14:46</td>\n",
       "    </tr>\n",
       "    <tr>\n",
       "      <th>3</th>\n",
       "      <td>31107</td>\n",
       "      <td>2009-06-03 22:14:29</td>\n",
       "      <td>2008-05-08 01:40:15</td>\n",
       "      <td>390.0</td>\n",
       "      <td>130.0</td>\n",
       "      <td>2008-09-15 01:40:15</td>\n",
       "      <td>2009-01-23 01:40:15</td>\n",
       "    </tr>\n",
       "    <tr>\n",
       "      <th>4</th>\n",
       "      <td>33468</td>\n",
       "      <td>2009-02-01 14:58:58</td>\n",
       "      <td>2008-07-12 03:19:44</td>\n",
       "      <td>200.0</td>\n",
       "      <td>70.0</td>\n",
       "      <td>2008-09-20 03:19:44</td>\n",
       "      <td>2008-11-29 03:19:44</td>\n",
       "    </tr>\n",
       "  </tbody>\n",
       "</table>\n",
       "</div>"
      ],
      "text/plain": [
       "   project_id                 max                 min  age_days  \\\n",
       "0        2019 2014-03-21 03:26:36 2008-01-09 17:41:21    2260.0   \n",
       "1       15623 2010-11-10 16:46:52 2008-01-26 15:07:24    1020.0   \n",
       "2       25193 2013-09-11 08:30:38 2008-01-02 08:14:46    2080.0   \n",
       "3       31107 2009-06-03 22:14:29 2008-05-08 01:40:15     390.0   \n",
       "4       33468 2009-02-01 14:58:58 2008-07-12 03:19:44     200.0   \n",
       "\n",
       "   chunk_size_days          chunk1_end          chunk2_end  \n",
       "0            750.0 2010-01-28 17:41:21 2012-02-17 17:41:21  \n",
       "1            340.0 2008-12-31 15:07:24 2009-12-06 15:07:24  \n",
       "2            690.0 2009-11-22 08:14:46 2011-10-13 08:14:46  \n",
       "3            130.0 2008-09-15 01:40:15 2009-01-23 01:40:15  \n",
       "4             70.0 2008-09-20 03:19:44 2008-11-29 03:19:44  "
      ]
     },
     "execution_count": 60,
     "metadata": {},
     "output_type": "execute_result"
    }
   ],
   "source": [
    "commit_messages_rq5 = commit_messages_final[(commit_messages_final.year >= 2008) & (commit_messages_final.year <= 2015) ]\n",
    "project_dates = commit_messages_rq5.groupby('project_id')['timestamp'].agg(['max','min'])\n",
    "project_dates['age_days'] = project_dates['max'].sub(project_dates['min'], axis=0)\n",
    "project_dates['age_days'] = project_dates['age_days'] / np.timedelta64(1, 'D')\n",
    "project_dates = project_dates[project_dates.age_days >= 30]\n",
    "\n",
    "project_dates['age_days'] = np.around(project_dates['age_days'], decimals=-1)\n",
    "project_dates['chunk_size_days'] = np.around(project_dates['age_days'] / 3, decimals=-1)\n",
    "days_to_shift = project_dates['chunk_size_days'].apply(lambda x: pd.Timedelta(x, unit='D'))\n",
    "project_dates['chunk1_end'] = project_dates['min'] + days_to_shift\n",
    "project_dates['chunk2_end'] = project_dates['chunk1_end'] + days_to_shift\n",
    "project_dates.reset_index(inplace=True)\n",
    "project_dates.head()"
   ]
  },
  {
   "cell_type": "code",
   "execution_count": 61,
   "metadata": {
    "collapsed": true
   },
   "outputs": [],
   "source": [
    "commit_messages_with_dates = commit_messages_rq5.merge(project_dates,on='project_id', how='left')\n",
    "commit_messages_with_dates = pd.merge(commit_messages_rq5, project_dates, on=['project_id'], how='inner')"
   ]
  },
  {
   "cell_type": "code",
   "execution_count": 62,
   "metadata": {
    "collapsed": true
   },
   "outputs": [],
   "source": [
    "commit_messages_with_dates.loc[(commit_messages_with_dates['timestamp'] >= commit_messages_with_dates['min']) & (commit_messages_with_dates['timestamp'] < commit_messages_with_dates['chunk1_end']), 'time_section'] = 'beginning'\n",
    "commit_messages_with_dates.loc[(commit_messages_with_dates['timestamp'] >= commit_messages_with_dates['chunk1_end']) & (commit_messages_with_dates['timestamp'] < commit_messages_with_dates['chunk2_end']), 'time_section'] = 'middle'\n",
    "commit_messages_with_dates.loc[(commit_messages_with_dates['timestamp'] >= commit_messages_with_dates['chunk2_end']) & (commit_messages_with_dates['timestamp'] <= commit_messages_with_dates['max']), 'time_section'] = 'end'"
   ]
  },
  {
   "cell_type": "code",
   "execution_count": 63,
   "metadata": {},
   "outputs": [
    {
     "data": {
      "text/html": [
       "<div>\n",
       "<style>\n",
       "    .dataframe thead tr:only-child th {\n",
       "        text-align: right;\n",
       "    }\n",
       "\n",
       "    .dataframe thead th {\n",
       "        text-align: left;\n",
       "    }\n",
       "\n",
       "    .dataframe tbody tr th {\n",
       "        vertical-align: top;\n",
       "    }\n",
       "</style>\n",
       "<table border=\"1\" class=\"dataframe\">\n",
       "  <thead>\n",
       "    <tr style=\"text-align: right;\">\n",
       "      <th></th>\n",
       "      <th>time_section</th>\n",
       "      <th>negative_commit_count</th>\n",
       "      <th>neutral_commit_count</th>\n",
       "      <th>positive_commit_count</th>\n",
       "      <th>total</th>\n",
       "      <th>negative_pct</th>\n",
       "      <th>neutral_pct</th>\n",
       "      <th>positive_pct</th>\n",
       "    </tr>\n",
       "  </thead>\n",
       "  <tbody>\n",
       "    <tr>\n",
       "      <th>0</th>\n",
       "      <td>beginning</td>\n",
       "      <td>96120</td>\n",
       "      <td>627840</td>\n",
       "      <td>46052</td>\n",
       "      <td>724003</td>\n",
       "      <td>13.276188</td>\n",
       "      <td>86.717873</td>\n",
       "      <td>6.360747</td>\n",
       "    </tr>\n",
       "    <tr>\n",
       "      <th>1</th>\n",
       "      <td>middle</td>\n",
       "      <td>86687</td>\n",
       "      <td>479786</td>\n",
       "      <td>37867</td>\n",
       "      <td>566477</td>\n",
       "      <td>15.302828</td>\n",
       "      <td>84.696466</td>\n",
       "      <td>6.684649</td>\n",
       "    </tr>\n",
       "    <tr>\n",
       "      <th>2</th>\n",
       "      <td>end</td>\n",
       "      <td>70606</td>\n",
       "      <td>425717</td>\n",
       "      <td>32105</td>\n",
       "      <td>497373</td>\n",
       "      <td>14.195785</td>\n",
       "      <td>85.593106</td>\n",
       "      <td>6.454914</td>\n",
       "    </tr>\n",
       "  </tbody>\n",
       "</table>\n",
       "</div>"
      ],
      "text/plain": [
       "  time_section  negative_commit_count  neutral_commit_count  \\\n",
       "0    beginning                  96120                627840   \n",
       "1       middle                  86687                479786   \n",
       "2          end                  70606                425717   \n",
       "\n",
       "   positive_commit_count   total  negative_pct  neutral_pct  positive_pct  \n",
       "0                  46052  724003     13.276188    86.717873      6.360747  \n",
       "1                  37867  566477     15.302828    84.696466      6.684649  \n",
       "2                  32105  497373     14.195785    85.593106      6.454914  "
      ]
     },
     "execution_count": 63,
     "metadata": {},
     "output_type": "execute_result"
    }
   ],
   "source": [
    "time_sections = commit_messages_with_dates.groupby(['time_section',pd.cut(commit_messages_with_dates.final_sentiment, bins = [-5, -1, 0, 4], labels=['negative', 'neutral', 'positive'])]).count()\n",
    "time_sections = time_sections.unstack()\n",
    "time_sections.columns = [' '.join(col).strip() for col in time_sections.columns.values]\n",
    "time_sections.reset_index(inplace=True)\n",
    "time_sections = time_sections[['time_section','project_id negative','project_id neutral','project_id positive']]\n",
    "time_sections.columns = ['time_section','negative_commit_count','neutral_commit_count','positive_commit_count']\n",
    "\n",
    "sections = ['beginning','middle','end']\n",
    "mapping = {section: i for i, section in enumerate(sections)}\n",
    "key = time_sections['time_section'].map(mapping)\n",
    "time_sections = time_sections.iloc[key.argsort()].set_index('time_section')\n",
    "time_sections.columns = [''.join(col).strip() for col in time_sections.columns.values]\n",
    "time_sections.reset_index(inplace=True)\n",
    "\n",
    "time_sections['total'] = time_sections['negative_commit_count'] + time_sections['neutral_commit_count'] + commit_mod_count_avg['positive_commit_count']\n",
    "time_sections['negative_pct'] = time_sections['negative_commit_count'].divide(time_sections['total']).multiply(100)\n",
    "time_sections['neutral_pct'] = time_sections['neutral_commit_count'].divide(time_sections['total']).multiply(100)\n",
    "time_sections['positive_pct'] = time_sections['positive_commit_count'].divide(time_sections['total']).multiply(100)\n",
    "\n",
    "time_sections.head()"
   ]
  },
  {
   "cell_type": "code",
   "execution_count": 64,
   "metadata": {},
   "outputs": [
    {
     "data": {
      "image/png": "[encoded data removed]",
      "text/plain": [
       "<matplotlib.figure.Figure at 0x1e1336fb780>"
      ]
     },
     "metadata": {},
     "output_type": "display_data"
    }
   ],
   "source": [
    "ax = time_sections.plot.bar(x='time_section', y='total', color='grey', label='total_commits')\n",
    "ax2 = time_sections['negative_pct'].plot(secondary_y=True, label='percent of commits that are negative')\n",
    "ax3 = time_sections['positive_pct'].plot(secondary_y=True, label='percent of commits that are positive')\n",
    "ax.set_ylabel('num commits')\n",
    "ax2.set_ylabel('sentiment percentage')\n",
    "plt.legend(loc='center left', bbox_to_anchor=(1.2, 0.5))\n",
    "plt.show()"
   ]
  },
  {
   "cell_type": "markdown",
   "metadata": {},
   "source": [
    "# RQ6"
   ]
  },
  {
   "cell_type": "markdown",
   "metadata": {},
   "source": [
    "How does sentiment differ accross different languages"
   ]
  },
  {
   "cell_type": "markdown",
   "metadata": {},
   "source": [
    "According to boa, the top 5 project languages are:\n",
    "counts = JavaScript, 147668.0\n",
    "counts = Ruby, 89104.0\n",
    "counts = Shell, 70162.0\n",
    "counts = Python, 62274.0\n",
    "counts = Java, 55831.0"
   ]
  },
  {
   "cell_type": "code",
   "execution_count": 86,
   "metadata": {},
   "outputs": [],
   "source": [
    "all_lang_messages = pd.read_csv('filtered_data/q11_commits_all_langs_filtered.txt', usecols=[0,1,2,3], sep='\\|\\|\\|', names=['project_id','commit_id','language','message'])\n",
    "\n",
    "#drop any rows that dont have a message because we dont need them\n",
    "all_lang_messages.dropna(subset=['message'], inplace=True)\n",
    "\n",
    "#spit out all the messages to a file alone for processing by sentistrength\n",
    "all_lang_messages.message.to_csv('sentistrength_run/messages_only_all_langs.csv', header=False, index=False)"
   ]
  },
  {
   "cell_type": "code",
   "execution_count": 98,
   "metadata": {
    "collapsed": true
   },
   "outputs": [],
   "source": [
    "strengths_all_langs = pd.read_csv('sentistrength_run/messages_only_all_langs_results.txt', usecols=[1,2], sep='\\t', dtype=str, names=['positive_strength','negative_strength'])"
   ]
  },
  {
   "cell_type": "code",
   "execution_count": 106,
   "metadata": {
    "collapsed": true
   },
   "outputs": [],
   "source": [
    "all_lang_messages.reset_index(drop=True, inplace=True)\n",
    "strengths_all_langs.reset_index(drop=True, inplace=True)\n",
    "commit_messages_rq6 = pd.concat([all_lang_messages,strengths_all_langs],axis=1)\n",
    "#commit_messages_rq6.dropna(inplace=True)"
   ]
  },
  {
   "cell_type": "code",
   "execution_count": 116,
   "metadata": {},
   "outputs": [],
   "source": [
    "commit_messages_rq6['final_sentiment'] = pd.to_numeric(commit_messages_rq6['positive_strength']) + pd.to_numeric(commit_messages_rq6['negative_strength'])\n",
    "langs = commit_messages_rq6.groupby(['language',pd.cut(commit_messages_rq6.final_sentiment, bins = [-5, -1, 0, 4], labels=['negative', 'neutral', 'positive'])]).count()"
   ]
  },
  {
   "cell_type": "code",
   "execution_count": 117,
   "metadata": {},
   "outputs": [],
   "source": [
    "langs_unstacked = langs.unstack()\n",
    "langs_unstacked.columns = [' '.join(col).strip() for col in langs_unstacked.columns.values]\n",
    "langs_unstacked.reset_index(inplace=True)"
   ]
  },
  {
   "cell_type": "code",
   "execution_count": 118,
   "metadata": {},
   "outputs": [
    {
     "data": {
      "text/html": [
       "<div>\n",
       "<style>\n",
       "    .dataframe thead tr:only-child th {\n",
       "        text-align: right;\n",
       "    }\n",
       "\n",
       "    .dataframe thead th {\n",
       "        text-align: left;\n",
       "    }\n",
       "\n",
       "    .dataframe tbody tr th {\n",
       "        vertical-align: top;\n",
       "    }\n",
       "</style>\n",
       "<table border=\"1\" class=\"dataframe\">\n",
       "  <thead>\n",
       "    <tr style=\"text-align: right;\">\n",
       "      <th></th>\n",
       "      <th>language</th>\n",
       "      <th>negative_commit_count</th>\n",
       "      <th>neutral_commit_count</th>\n",
       "      <th>positive_commit_count</th>\n",
       "      <th>total</th>\n",
       "      <th>negative_pct</th>\n",
       "      <th>neutral_pct</th>\n",
       "      <th>positive_pct</th>\n",
       "    </tr>\n",
       "  </thead>\n",
       "  <tbody>\n",
       "    <tr>\n",
       "      <th>0</th>\n",
       "      <td>Java</td>\n",
       "      <td>127726</td>\n",
       "      <td>903646</td>\n",
       "      <td>60368</td>\n",
       "      <td>1091740</td>\n",
       "      <td>11.699306</td>\n",
       "      <td>82.771173</td>\n",
       "      <td>5.529522</td>\n",
       "    </tr>\n",
       "    <tr>\n",
       "      <th>1</th>\n",
       "      <td>JavaScript</td>\n",
       "      <td>83376</td>\n",
       "      <td>520195</td>\n",
       "      <td>38811</td>\n",
       "      <td>642382</td>\n",
       "      <td>12.979193</td>\n",
       "      <td>80.979075</td>\n",
       "      <td>6.041732</td>\n",
       "    </tr>\n",
       "    <tr>\n",
       "      <th>2</th>\n",
       "      <td>Python</td>\n",
       "      <td>138898</td>\n",
       "      <td>616676</td>\n",
       "      <td>45806</td>\n",
       "      <td>801380</td>\n",
       "      <td>17.332352</td>\n",
       "      <td>76.951758</td>\n",
       "      <td>5.715890</td>\n",
       "    </tr>\n",
       "    <tr>\n",
       "      <th>3</th>\n",
       "      <td>Ruby</td>\n",
       "      <td>57350</td>\n",
       "      <td>338385</td>\n",
       "      <td>26528</td>\n",
       "      <td>422263</td>\n",
       "      <td>13.581583</td>\n",
       "      <td>80.136076</td>\n",
       "      <td>6.282341</td>\n",
       "    </tr>\n",
       "    <tr>\n",
       "      <th>4</th>\n",
       "      <td>Shell</td>\n",
       "      <td>393626</td>\n",
       "      <td>2132551</td>\n",
       "      <td>184522</td>\n",
       "      <td>2710699</td>\n",
       "      <td>14.521199</td>\n",
       "      <td>78.671627</td>\n",
       "      <td>6.807174</td>\n",
       "    </tr>\n",
       "  </tbody>\n",
       "</table>\n",
       "</div>"
      ],
      "text/plain": [
       "       language  negative_commit_count  neutral_commit_count  \\\n",
       "0         Java                  127726                903646   \n",
       "1   JavaScript                   83376                520195   \n",
       "2       Python                  138898                616676   \n",
       "3         Ruby                   57350                338385   \n",
       "4        Shell                  393626               2132551   \n",
       "\n",
       "   positive_commit_count    total  negative_pct  neutral_pct  positive_pct  \n",
       "0                  60368  1091740     11.699306    82.771173      5.529522  \n",
       "1                  38811   642382     12.979193    80.979075      6.041732  \n",
       "2                  45806   801380     17.332352    76.951758      5.715890  \n",
       "3                  26528   422263     13.581583    80.136076      6.282341  \n",
       "4                 184522  2710699     14.521199    78.671627      6.807174  "
      ]
     },
     "execution_count": 118,
     "metadata": {},
     "output_type": "execute_result"
    }
   ],
   "source": [
    "langs_unstacked = langs_unstacked[['language','commit_id negative','commit_id neutral','commit_id positive']]\n",
    "langs_unstacked.columns = ['language','negative_commit_count','neutral_commit_count','positive_commit_count']\n",
    "\n",
    "#get the totals again\n",
    "langs_unstacked['total'] = langs_unstacked['negative_commit_count'] + langs_unstacked['neutral_commit_count'] + langs_unstacked['positive_commit_count']\n",
    "langs_unstacked['negative_pct'] = langs_unstacked['negative_commit_count'].divide(langs_unstacked['total']).multiply(100)\n",
    "langs_unstacked['neutral_pct'] = langs_unstacked['neutral_commit_count'].divide(langs_unstacked['total']).multiply(100)\n",
    "langs_unstacked['positive_pct'] = langs_unstacked['positive_commit_count'].divide(langs_unstacked['total']).multiply(100)\n",
    "\n",
    "langs_unstacked"
   ]
  },
  {
   "cell_type": "code",
   "execution_count": 119,
   "metadata": {},
   "outputs": [
    {
     "data": {
      "image/png": "[encoded data removed]",
      "text/plain": [
       "<matplotlib.figure.Figure at 0x1e24b797710>"
      ]
     },
     "metadata": {},
     "output_type": "display_data"
    }
   ],
   "source": [
    "ax = langs_unstacked.plot.bar(x='language', y='total', color='grey', label='total_commits')\n",
    "ax2 = langs_unstacked['negative_pct'].plot(secondary_y=True, label='percent of commits that are negative')\n",
    "ax3 = langs_unstacked['positive_pct'].plot(secondary_y=True, label='percent of commits that are positive')\n",
    "ax.set_ylabel('num commits')\n",
    "ax2.set_ylabel('sentiment percentage')\n",
    "plt.legend(loc='center left', bbox_to_anchor=(1.2, 0.5))\n",
    "plt.show()"
   ]
  },
  {
   "cell_type": "code",
   "execution_count": null,
   "metadata": {
    "collapsed": true
   },
   "outputs": [],
   "source": []
  }
 ],
 "metadata": {
  "kernelspec": {
   "display_name": "Python 3",
   "language": "python",
   "name": "python3"
  },
  "language_info": {
   "codemirror_mode": {
    "name": "ipython",
    "version": 3
   },
   "file_extension": ".py",
   "mimetype": "text/x-python",
   "name": "python",
   "nbconvert_exporter": "python",
   "pygments_lexer": "ipython3",
   "version": "3.6.3"
  }
 },
 "nbformat": 4,
 "nbformat_minor": 2
}
