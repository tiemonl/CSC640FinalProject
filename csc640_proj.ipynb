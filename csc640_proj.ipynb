{
 "cells": [
  {
   "cell_type": "markdown",
   "metadata": {},
   "source": [
    "## this gets the data into csv format"
   ]
  },
  {
   "cell_type": "code",
   "execution_count": 1,
   "metadata": {},
   "outputs": [],
   "source": [
    "import warnings\n",
    "warnings.simplefilter(action='ignore', category=FutureWarning)\n",
    "warnings.filterwarnings(\"ignore\")\n",
    "import pandas as pd\n",
    "import numpy as np\n",
    "import matplotlib.pyplot as plt"
   ]
  },
  {
   "cell_type": "code",
   "execution_count": 2,
   "metadata": {},
   "outputs": [],
   "source": [
    "#this is commented out because it takes forever and I will just provide the filtered files. \n",
    "#however it is good to see how we did this\n",
    "\n",
    "#open('filtered_data\\q1_commit_messages_filtered.txt','w',encoding=\"utf8\").writelines(line.replace('][',' ||| ').replace('] = ', ' ||| ').replace('commit_log[','') for line in open('raw_data\\q1_commit_messages.txt',encoding=\"utf8\") if 'commit_log' in line)\n",
    "#open('filtered_data\\q2_commit_dates_epoch_timestamp_filtered.txt','w',encoding=\"utf8\").writelines(line.replace('][',' ||| ').replace('] = ', ' ||| ').replace('commit_log[','') for line in open('raw_data\\q2_commit_dates_epoch_timestamp.txt',encoding=\"utf8\") if 'commit_log' in line)\n",
    "#open('filtered_data\\q3_author_names_filtered.txt','w',encoding=\"utf8\").writelines(line.replace('][',' ||| ').replace('] = ', ' ||| ').replace('commit_log[','') for line in open('raw_data\\q3_author_names.txt',encoding=\"utf8\") if 'commit_log' in line)\n",
    "#open('filtered_data\\q4_committer_names_filtered.txt','w',encoding=\"utf8\").writelines(line.replace('][',' ||| ').replace('] = ', ' ||| ').replace('commit_log[','') for line in open('raw_data\\q4_committer_names.txt',encoding=\"utf8\") if 'commit_log' in line)\n",
    "#open('filtered_data\\q5_all_changed_files_filtered.txt','w',encoding=\"utf8\").writelines(line.replace('][',' ||| ').replace('] = ', ' ||| ').replace('commit_log[','') for line in open('raw_data\\q5_all_changed_files.txt',encoding=\"utf8\") if 'commit_log' in line)\n",
    "#open('filtered_data\\q6_deleted_files_filtered.txt','w',encoding=\"utf8\").writelines(line.replace('][',' ||| ').replace('] = ', ' ||| ').replace('commit_log[','') for line in open('raw_data\\q6_deleted_files.txt',encoding=\"utf8\") if 'commit_log' in line)\n",
    "#open('filtered_data\\q7_added_files_filtered.txt','w',encoding=\"utf8\").writelines(line.replace('][',' ||| ').replace('] = ', ' ||| ').replace('commit_log[','') for line in open('raw_data\\q7_added_files.txt',encoding=\"utf8\") if 'commit_log' in line)\n",
    "#open('filtered_data\\q8_modified_files_filtered.txt','w',encoding=\"utf8\").writelines(line.replace('][',' ||| ').replace('] = ', ' ||| ').replace('commit_log[','') for line in open('raw_data\\q8_modified_files.txt',encoding=\"utf8\") if 'commit_log' in line)\n",
    "#open('filtered_data\\q10_commit_count_by_project_filtered.txt','w',encoding=\"utf8\").writelines(line.replace('][',' ||| ').replace('] = ', ' ||| ').replace('commit_log[','') for line in open('raw_data\\q10_commit_count_by_project.txt',encoding=\"utf8\") if 'commit_log' in line)"
   ]
  },
  {
   "cell_type": "markdown",
   "metadata": {},
   "source": [
    "## here we bring the filtered files in and merge the first set into one dataframe"
   ]
  },
  {
   "cell_type": "code",
   "execution_count": 3,
   "metadata": {
    "scrolled": true
   },
   "outputs": [],
   "source": [
    "messages = pd.read_csv('filtered_data/q1_commit_messages_filtered.txt', usecols=[0,1,2], sep='\\|\\|\\|', names=['project_id','commit_id','message'])\n",
    "timestamps = pd.read_csv('filtered_data/q2_commit_dates_epoch_timestamp_filtered.txt', usecols=[0,1,2], sep='\\|\\|\\|', names=['project_id','commit_id','timestamp'])\n",
    "authors = pd.read_csv('filtered_data/q3_author_names_filtered.txt', usecols=[0,1,2], sep='\\|\\|\\|', names=['project_id','author_name','commit_id'])\n",
    "committers = pd.read_csv('filtered_data/q4_committer_names_filtered.txt', usecols=[0,1,2], sep='\\|\\|\\|', names=['project_id','commit_id','committer_name'])"
   ]
  },
  {
   "cell_type": "code",
   "execution_count": 4,
   "metadata": {},
   "outputs": [],
   "source": [
    "#merge all the message related files together\n",
    "merge1 = pd.merge(messages,timestamps, on=['project_id','commit_id'])\n",
    "merge2 = pd.merge(merge1, authors, on=['project_id','commit_id'])\n",
    "merged_data = pd.merge(merge2,committers, on=['project_id','commit_id'])"
   ]
  },
  {
   "cell_type": "code",
   "execution_count": 5,
   "metadata": {},
   "outputs": [],
   "source": [
    "#drop any rows that dont have a message because we dont need them\n",
    "merged_data.dropna(subset=['message'], inplace=True)"
   ]
  },
  {
   "cell_type": "code",
   "execution_count": 6,
   "metadata": {
    "scrolled": true
   },
   "outputs": [],
   "source": [
    "#spit out all the messages to a file alone for processing by sentistrength\n",
    "merged_data.message.to_csv('sentistrength_run/messages_only.csv', header=False, index=False)"
   ]
  },
  {
   "cell_type": "markdown",
   "metadata": {},
   "source": [
    "## here, we manually run the sentistrength tool on the messages_only file, which produces the messages_only_results file which we can then merge with the main dataframe"
   ]
  },
  {
   "cell_type": "code",
   "execution_count": 7,
   "metadata": {},
   "outputs": [],
   "source": [
    "#bring the strengths data in from the sentistrength results file\n",
    "strengths = pd.read_csv('sentistrength_run/messages_only_results.txt', usecols=[1,2], sep='\\t', dtype=str, names=['positive_strength','negative_strength'])"
   ]
  },
  {
   "cell_type": "code",
   "execution_count": 8,
   "metadata": {},
   "outputs": [],
   "source": [
    "#merge the strengths with the main dataframe\n",
    "merged_data.reset_index(drop=True, inplace=True)\n",
    "commit_messages_final = pd.concat([merged_data,strengths],axis=1)"
   ]
  },
  {
   "cell_type": "code",
   "execution_count": 9,
   "metadata": {},
   "outputs": [],
   "source": [
    "#convert the timestamp to date and add a day of week field\n",
    "commit_messages_final[\"timestamp\"] = commit_messages_final[\"timestamp\"].astype(str)\n",
    "commit_messages_final[\"timestamp\"] = commit_messages_final[\"timestamp\"].str[:10]\n",
    "commit_messages_final['timestamp'] = pd.to_datetime(commit_messages_final['timestamp'],unit='s',errors='coerce')\n",
    "commit_messages_final['day_of_week'] = commit_messages_final['timestamp'].dt.weekday_name"
   ]
  },
  {
   "cell_type": "markdown",
   "metadata": {},
   "source": [
    "## done with commit messages, moving on to changed files"
   ]
  },
  {
   "cell_type": "code",
   "execution_count": 10,
   "metadata": {},
   "outputs": [],
   "source": [
    "#Bring in all the file related stuff\n",
    "all_changes = pd.read_csv('filtered_data/q5_all_changed_files_filtered.txt', usecols=[0,1], sep='\\|\\|\\|', names=['commit_id','filepath'])\n",
    "deletes = pd.read_csv('filtered_data/q6_deleted_files_filtered.txt', usecols=[0,1], sep='\\|\\|\\|', names=['commit_id','filepath'])\n",
    "adds = pd.read_csv('filtered_data/q7_added_files_filtered.txt', usecols=[0,1], sep='\\|\\|\\|', names=['commit_id','filepath'])\n",
    "modifies = pd.read_csv('filtered_data/q8_modified_files_filtered.txt', usecols=[0,1], sep='\\|\\|\\|', names=['commit_id','filepath'])"
   ]
  },
  {
   "cell_type": "code",
   "execution_count": 11,
   "metadata": {},
   "outputs": [],
   "source": [
    "#tag the deletes\n",
    "merge_deletes = pd.merge(all_changes, deletes, on=['commit_id','filepath'], how='left', indicator='modif')\n",
    "merge_deletes['modif'] = np.where(merge_deletes.modif == 'both', 'Delete', '')"
   ]
  },
  {
   "cell_type": "code",
   "execution_count": 12,
   "metadata": {},
   "outputs": [],
   "source": [
    "#tag the adds\n",
    "merge_adds = pd.merge(all_changes, adds, on=['commit_id','filepath'], how='left', indicator='modif')\n",
    "merge_adds['modif'] = np.where(merge_adds.modif == 'both', 'Add', '')"
   ]
  },
  {
   "cell_type": "code",
   "execution_count": 13,
   "metadata": {},
   "outputs": [],
   "source": [
    "#tag the modifies\n",
    "merge_modifies = pd.merge(all_changes, modifies, on=['commit_id','filepath'], how='left', indicator='modif')\n",
    "merge_modifies['modif'] = np.where(merge_modifies.modif == 'both', 'Modify', '')"
   ]
  },
  {
   "cell_type": "code",
   "execution_count": 14,
   "metadata": {},
   "outputs": [],
   "source": [
    "#merge the deletes and adds tag frames together\n",
    "temp_files_merge = pd.merge(merge_deletes, merge_adds, on=['commit_id','filepath'])"
   ]
  },
  {
   "cell_type": "code",
   "execution_count": 15,
   "metadata": {},
   "outputs": [],
   "source": [
    "#squash down the columns in the delete/add frame so the tags are in the same column\n",
    "temp_files_merge['modif'] = temp_files_merge['modif_x'].where(temp_files_merge['modif_x'] != '', temp_files_merge['modif_y'])\n",
    "temp_files_merge = temp_files_merge.drop(['modif_x','modif_y'],axis=1)"
   ]
  },
  {
   "cell_type": "code",
   "execution_count": 16,
   "metadata": {},
   "outputs": [],
   "source": [
    "#merge the delete/add frame and the modify frame together\n",
    "temp_files_merge2 = pd.merge(temp_files_merge, merge_modifies, on=['commit_id','filepath'])"
   ]
  },
  {
   "cell_type": "code",
   "execution_count": 17,
   "metadata": {},
   "outputs": [],
   "source": [
    "#squash down the columns in the final frame so the all tags are in the same column\n",
    "temp_files_merge2['modification'] = temp_files_merge2['modif_x'].where(temp_files_merge2['modif_x'] != '', temp_files_merge2['modif_y'])\n",
    "files_changed_final = temp_files_merge2.drop(['modif_x','modif_y'],axis=1)"
   ]
  },
  {
   "cell_type": "markdown",
   "metadata": {},
   "source": [
    "##  here are the final pandas dataframes:"
   ]
  },
  {
   "cell_type": "code",
   "execution_count": 18,
   "metadata": {},
   "outputs": [
    {
     "data": {
      "text/html": [
       "<div>\n",
       "<style scoped>\n",
       "    .dataframe tbody tr th:only-of-type {\n",
       "        vertical-align: middle;\n",
       "    }\n",
       "\n",
       "    .dataframe tbody tr th {\n",
       "        vertical-align: top;\n",
       "    }\n",
       "\n",
       "    .dataframe thead th {\n",
       "        text-align: right;\n",
       "    }\n",
       "</style>\n",
       "<table border=\"1\" class=\"dataframe\">\n",
       "  <thead>\n",
       "    <tr style=\"text-align: right;\">\n",
       "      <th></th>\n",
       "      <th>project_id</th>\n",
       "      <th>commit_id</th>\n",
       "      <th>message</th>\n",
       "      <th>timestamp</th>\n",
       "      <th>author_name</th>\n",
       "      <th>committer_name</th>\n",
       "      <th>positive_strength</th>\n",
       "      <th>negative_strength</th>\n",
       "      <th>day_of_week</th>\n",
       "    </tr>\n",
       "  </thead>\n",
       "  <tbody>\n",
       "    <tr>\n",
       "      <th>0</th>\n",
       "      <td>10000244</td>\n",
       "      <td>0515c7d89f97bf7f1e488ac39dcc8fe1ee79f605</td>\n",
       "      <td>photo in progress</td>\n",
       "      <td>2013-05-11 15:52:20</td>\n",
       "      <td>syhw</td>\n",
       "      <td>syhw</td>\n",
       "      <td>1</td>\n",
       "      <td>-1</td>\n",
       "      <td>Saturday</td>\n",
       "    </tr>\n",
       "    <tr>\n",
       "      <th>1</th>\n",
       "      <td>10000244</td>\n",
       "      <td>07abeaf9bd85eb77f0774607161a7ccb3ed8dff3</td>\n",
       "      <td>stashing</td>\n",
       "      <td>2013-05-12 09:29:50</td>\n",
       "      <td>syhw</td>\n",
       "      <td>syhw</td>\n",
       "      <td>1</td>\n",
       "      <td>-1</td>\n",
       "      <td>Sunday</td>\n",
       "    </tr>\n",
       "    <tr>\n",
       "      <th>2</th>\n",
       "      <td>10000244</td>\n",
       "      <td>11f46d585bfc263e11b0556566559e6513cca0e4</td>\n",
       "      <td>R</td>\n",
       "      <td>2013-05-12 12:10:17</td>\n",
       "      <td>syhw</td>\n",
       "      <td>syhw</td>\n",
       "      <td>1</td>\n",
       "      <td>-1</td>\n",
       "      <td>Sunday</td>\n",
       "    </tr>\n",
       "    <tr>\n",
       "      <th>3</th>\n",
       "      <td>10000244</td>\n",
       "      <td>25ffeb626cd9146c483c6144b8208b5bd6cf26c4</td>\n",
       "      <td>merged photo (working) with master, see TODOs...</td>\n",
       "      <td>2013-05-12 07:18:18</td>\n",
       "      <td>syhw</td>\n",
       "      <td>syhw</td>\n",
       "      <td>1</td>\n",
       "      <td>-1</td>\n",
       "      <td>Sunday</td>\n",
       "    </tr>\n",
       "    <tr>\n",
       "      <th>4</th>\n",
       "      <td>10000244</td>\n",
       "      <td>33ac9b6d9da4234c93ae3d9e0d7b0f41edb99d8a</td>\n",
       "      <td>Request task</td>\n",
       "      <td>2013-05-12 10:01:57</td>\n",
       "      <td>syhw</td>\n",
       "      <td>syhw</td>\n",
       "      <td>1</td>\n",
       "      <td>-1</td>\n",
       "      <td>Sunday</td>\n",
       "    </tr>\n",
       "  </tbody>\n",
       "</table>\n",
       "</div>"
      ],
      "text/plain": [
       "   project_id                                   commit_id  \\\n",
       "0    10000244   0515c7d89f97bf7f1e488ac39dcc8fe1ee79f605    \n",
       "1    10000244   07abeaf9bd85eb77f0774607161a7ccb3ed8dff3    \n",
       "2    10000244   11f46d585bfc263e11b0556566559e6513cca0e4    \n",
       "3    10000244   25ffeb626cd9146c483c6144b8208b5bd6cf26c4    \n",
       "4    10000244   33ac9b6d9da4234c93ae3d9e0d7b0f41edb99d8a    \n",
       "\n",
       "                                             message           timestamp  \\\n",
       "0                                  photo in progress 2013-05-11 15:52:20   \n",
       "1                                           stashing 2013-05-12 09:29:50   \n",
       "2                                                  R 2013-05-12 12:10:17   \n",
       "3   merged photo (working) with master, see TODOs... 2013-05-12 07:18:18   \n",
       "4                                       Request task 2013-05-12 10:01:57   \n",
       "\n",
       "  author_name committer_name positive_strength negative_strength day_of_week  \n",
       "0       syhw            syhw                 1                -1    Saturday  \n",
       "1       syhw            syhw                 1                -1      Sunday  \n",
       "2       syhw            syhw                 1                -1      Sunday  \n",
       "3       syhw            syhw                 1                -1      Sunday  \n",
       "4       syhw            syhw                 1                -1      Sunday  "
      ]
     },
     "execution_count": 18,
     "metadata": {},
     "output_type": "execute_result"
    }
   ],
   "source": [
    "commit_messages_final.head()"
   ]
  },
  {
   "cell_type": "code",
   "execution_count": 19,
   "metadata": {},
   "outputs": [
    {
     "data": {
      "text/html": [
       "<div>\n",
       "<style scoped>\n",
       "    .dataframe tbody tr th:only-of-type {\n",
       "        vertical-align: middle;\n",
       "    }\n",
       "\n",
       "    .dataframe tbody tr th {\n",
       "        vertical-align: top;\n",
       "    }\n",
       "\n",
       "    .dataframe thead th {\n",
       "        text-align: right;\n",
       "    }\n",
       "</style>\n",
       "<table border=\"1\" class=\"dataframe\">\n",
       "  <thead>\n",
       "    <tr style=\"text-align: right;\">\n",
       "      <th></th>\n",
       "      <th>commit_id</th>\n",
       "      <th>filepath</th>\n",
       "      <th>modification</th>\n",
       "    </tr>\n",
       "  </thead>\n",
       "  <tbody>\n",
       "    <tr>\n",
       "      <th>0</th>\n",
       "      <td>000e3673387b662e32f1037eeaea2aa29b630448</td>\n",
       "      <td>Sources/Internal/Platform/TemplateMacOS/MainW...</td>\n",
       "      <td>Modify</td>\n",
       "    </tr>\n",
       "    <tr>\n",
       "      <th>1</th>\n",
       "      <td>000e3673387b662e32f1037eeaea2aa29b630448</td>\n",
       "      <td>Tools/ResourceEditor/Classes/Qt/Tools/LodCorr...</td>\n",
       "      <td>Delete</td>\n",
       "    </tr>\n",
       "    <tr>\n",
       "      <th>2</th>\n",
       "      <td>000e3673387b662e32f1037eeaea2aa29b630448</td>\n",
       "      <td>Tools/ResourceEditor/Classes/Qt/Tools/LodCorr...</td>\n",
       "      <td>Delete</td>\n",
       "    </tr>\n",
       "    <tr>\n",
       "      <th>3</th>\n",
       "      <td>000e3673387b662e32f1037eeaea2aa29b630448</td>\n",
       "      <td>Tools/ResourceEditor/Classes/Qt/Tools/LodCorr...</td>\n",
       "      <td>Delete</td>\n",
       "    </tr>\n",
       "    <tr>\n",
       "      <th>4</th>\n",
       "      <td>000e3673387b662e32f1037eeaea2aa29b630448</td>\n",
       "      <td>Tools/ResourceEditor/Classes/Qt/Tools/LodCorr...</td>\n",
       "      <td>Delete</td>\n",
       "    </tr>\n",
       "  </tbody>\n",
       "</table>\n",
       "</div>"
      ],
      "text/plain": [
       "                                   commit_id  \\\n",
       "0  000e3673387b662e32f1037eeaea2aa29b630448    \n",
       "1  000e3673387b662e32f1037eeaea2aa29b630448    \n",
       "2  000e3673387b662e32f1037eeaea2aa29b630448    \n",
       "3  000e3673387b662e32f1037eeaea2aa29b630448    \n",
       "4  000e3673387b662e32f1037eeaea2aa29b630448    \n",
       "\n",
       "                                            filepath modification  \n",
       "0   Sources/Internal/Platform/TemplateMacOS/MainW...       Modify  \n",
       "1   Tools/ResourceEditor/Classes/Qt/Tools/LodCorr...       Delete  \n",
       "2   Tools/ResourceEditor/Classes/Qt/Tools/LodCorr...       Delete  \n",
       "3   Tools/ResourceEditor/Classes/Qt/Tools/LodCorr...       Delete  \n",
       "4   Tools/ResourceEditor/Classes/Qt/Tools/LodCorr...       Delete  "
      ]
     },
     "execution_count": 19,
     "metadata": {},
     "output_type": "execute_result"
    }
   ],
   "source": [
    "files_changed_final.head()"
   ]
  },
  {
   "cell_type": "markdown",
   "metadata": {},
   "source": [
    "# Analysis"
   ]
  },
  {
   "cell_type": "markdown",
   "metadata": {},
   "source": [
    "### RQ1"
   ]
  },
  {
   "cell_type": "code",
   "execution_count": 20,
   "metadata": {},
   "outputs": [],
   "source": [
    "#compute final sentiment value from sum of positive and negative\n",
    "commit_messages_final['final_sentiment'] = pd.to_numeric(commit_messages_final['positive_strength']) + pd.to_numeric(commit_messages_final['negative_strength'])"
   ]
  },
  {
   "cell_type": "code",
   "execution_count": 21,
   "metadata": {},
   "outputs": [],
   "source": [
    "#count the number of commits for each sentiment level\n",
    "commits_by_sentiment = commit_messages_final.groupby(['final_sentiment']).count().reset_index()\n",
    "commits_by_sentiment = commits_by_sentiment[['final_sentiment','project_id']]\n",
    "commits_by_sentiment.rename(columns={'project_id':'count'}, inplace=True)"
   ]
  },
  {
   "cell_type": "code",
   "execution_count": 22,
   "metadata": {},
   "outputs": [
    {
     "data": {
      "text/html": [
       "<div>\n",
       "<style scoped>\n",
       "    .dataframe tbody tr th:only-of-type {\n",
       "        vertical-align: middle;\n",
       "    }\n",
       "\n",
       "    .dataframe tbody tr th {\n",
       "        vertical-align: top;\n",
       "    }\n",
       "\n",
       "    .dataframe thead th {\n",
       "        text-align: right;\n",
       "    }\n",
       "</style>\n",
       "<table border=\"1\" class=\"dataframe\">\n",
       "  <thead>\n",
       "    <tr style=\"text-align: right;\">\n",
       "      <th></th>\n",
       "      <th>final_sentiment</th>\n",
       "      <th>count</th>\n",
       "      <th>percent_of_total</th>\n",
       "      <th>bin</th>\n",
       "    </tr>\n",
       "  </thead>\n",
       "  <tbody>\n",
       "    <tr>\n",
       "      <th>0</th>\n",
       "      <td>-4</td>\n",
       "      <td>47</td>\n",
       "      <td>0.002086</td>\n",
       "      <td>negative</td>\n",
       "    </tr>\n",
       "    <tr>\n",
       "      <th>1</th>\n",
       "      <td>-3</td>\n",
       "      <td>1819</td>\n",
       "      <td>0.080736</td>\n",
       "      <td>negative</td>\n",
       "    </tr>\n",
       "    <tr>\n",
       "      <th>2</th>\n",
       "      <td>-2</td>\n",
       "      <td>31340</td>\n",
       "      <td>1.391018</td>\n",
       "      <td>negative</td>\n",
       "    </tr>\n",
       "    <tr>\n",
       "      <th>3</th>\n",
       "      <td>-1</td>\n",
       "      <td>262278</td>\n",
       "      <td>11.641144</td>\n",
       "      <td>negative</td>\n",
       "    </tr>\n",
       "    <tr>\n",
       "      <th>4</th>\n",
       "      <td>0</td>\n",
       "      <td>1821462</td>\n",
       "      <td>80.845139</td>\n",
       "      <td>neutral</td>\n",
       "    </tr>\n",
       "    <tr>\n",
       "      <th>5</th>\n",
       "      <td>1</td>\n",
       "      <td>125868</td>\n",
       "      <td>5.586620</td>\n",
       "      <td>positive</td>\n",
       "    </tr>\n",
       "    <tr>\n",
       "      <th>6</th>\n",
       "      <td>2</td>\n",
       "      <td>9911</td>\n",
       "      <td>0.439897</td>\n",
       "      <td>positive</td>\n",
       "    </tr>\n",
       "    <tr>\n",
       "      <th>7</th>\n",
       "      <td>3</td>\n",
       "      <td>295</td>\n",
       "      <td>0.013094</td>\n",
       "      <td>positive</td>\n",
       "    </tr>\n",
       "    <tr>\n",
       "      <th>8</th>\n",
       "      <td>4</td>\n",
       "      <td>6</td>\n",
       "      <td>0.000266</td>\n",
       "      <td>positive</td>\n",
       "    </tr>\n",
       "  </tbody>\n",
       "</table>\n",
       "</div>"
      ],
      "text/plain": [
       "   final_sentiment    count  percent_of_total       bin\n",
       "0               -4       47          0.002086  negative\n",
       "1               -3     1819          0.080736  negative\n",
       "2               -2    31340          1.391018  negative\n",
       "3               -1   262278         11.641144  negative\n",
       "4                0  1821462         80.845139   neutral\n",
       "5                1   125868          5.586620  positive\n",
       "6                2     9911          0.439897  positive\n",
       "7                3      295          0.013094  positive\n",
       "8                4        6          0.000266  positive"
      ]
     },
     "execution_count": 22,
     "metadata": {},
     "output_type": "execute_result"
    }
   ],
   "source": [
    "#bin the commits by positive, negative, and neutral sentiment\n",
    "commits_by_sentiment['percent_of_total'] = commits_by_sentiment['count'].divide(len(commit_messages_final)).multiply(100)\n",
    "commits_by_sentiment['bin'] = pd.cut(commits_by_sentiment['final_sentiment'], [-5, -1, 0, 4], labels=['negative', 'neutral', 'positive'])\n",
    "commits_by_sentiment"
   ]
  },
  {
   "cell_type": "code",
   "execution_count": 23,
   "metadata": {},
   "outputs": [
    {
     "data": {
      "text/html": [
       "<div>\n",
       "<style scoped>\n",
       "    .dataframe tbody tr th:only-of-type {\n",
       "        vertical-align: middle;\n",
       "    }\n",
       "\n",
       "    .dataframe tbody tr th {\n",
       "        vertical-align: top;\n",
       "    }\n",
       "\n",
       "    .dataframe thead th {\n",
       "        text-align: right;\n",
       "    }\n",
       "</style>\n",
       "<table border=\"1\" class=\"dataframe\">\n",
       "  <thead>\n",
       "    <tr style=\"text-align: right;\">\n",
       "      <th></th>\n",
       "      <th>bin</th>\n",
       "      <th>count</th>\n",
       "      <th>percent_of_total</th>\n",
       "    </tr>\n",
       "  </thead>\n",
       "  <tbody>\n",
       "    <tr>\n",
       "      <th>0</th>\n",
       "      <td>negative</td>\n",
       "      <td>295484</td>\n",
       "      <td>13.114984</td>\n",
       "    </tr>\n",
       "    <tr>\n",
       "      <th>1</th>\n",
       "      <td>neutral</td>\n",
       "      <td>1821462</td>\n",
       "      <td>80.845139</td>\n",
       "    </tr>\n",
       "    <tr>\n",
       "      <th>2</th>\n",
       "      <td>positive</td>\n",
       "      <td>136080</td>\n",
       "      <td>6.039877</td>\n",
       "    </tr>\n",
       "  </tbody>\n",
       "</table>\n",
       "</div>"
      ],
      "text/plain": [
       "        bin    count  percent_of_total\n",
       "0  negative   295484         13.114984\n",
       "1   neutral  1821462         80.845139\n",
       "2  positive   136080          6.039877"
      ]
     },
     "execution_count": 23,
     "metadata": {},
     "output_type": "execute_result"
    }
   ],
   "source": [
    "#sum up the total percent of each bin\n",
    "commits_by_sentiment_binned = commits_by_sentiment.groupby(['bin']).sum().reset_index()\n",
    "commits_by_sentiment_binned = commits_by_sentiment_binned[['bin','count','percent_of_total']]\n",
    "commits_by_sentiment_binned"
   ]
  },
  {
   "cell_type": "code",
   "execution_count": 24,
   "metadata": {},
   "outputs": [],
   "source": [
    "commits_by_project = commit_messages_final.groupby(['project_id']).count().reset_index()"
   ]
  },
  {
   "cell_type": "code",
   "execution_count": 25,
   "metadata": {},
   "outputs": [],
   "source": [
    "commits_by_project = commits_by_project[['project_id','commit_id']]\n",
    "commits_by_project.rename(columns={'commit_id':'count'}, inplace=True)\n",
    "commits_by_project.sort_values(['count'], inplace=True)"
   ]
  },
  {
   "cell_type": "code",
   "execution_count": 26,
   "metadata": {},
   "outputs": [],
   "source": [
    "commits_by_project.to_csv('commits_by_project_sorted.csv', sep='\\t', encoding='utf-8')"
   ]
  },
  {
   "cell_type": "markdown",
   "metadata": {},
   "source": [
    "### manually obtained large, average and low groups by examining file"
   ]
  },
  {
   "cell_type": "code",
   "execution_count": 27,
   "metadata": {},
   "outputs": [],
   "source": [
    "largelist = ['12496978','10613094','5153143','7785050','1968812']\n",
    "avglist = ['2424377','5256179','365893','6719407','13010741']\n",
    "lowlist = ['10453653','10530838','11416657','4067771','1571039']"
   ]
  },
  {
   "cell_type": "code",
   "execution_count": 28,
   "metadata": {},
   "outputs": [],
   "source": [
    "large_projects = commit_messages_final.loc[commit_messages_final['project_id'].isin(largelist)]\n",
    "avg_projects = commit_messages_final.loc[commit_messages_final['project_id'].isin(avglist)]\n",
    "low_projects = commit_messages_final.loc[commit_messages_final['project_id'].isin(lowlist)]"
   ]
  },
  {
   "cell_type": "code",
   "execution_count": 29,
   "metadata": {},
   "outputs": [
    {
     "data": {
      "text/html": [
       "<div>\n",
       "<style scoped>\n",
       "    .dataframe tbody tr th:only-of-type {\n",
       "        vertical-align: middle;\n",
       "    }\n",
       "\n",
       "    .dataframe tbody tr th {\n",
       "        vertical-align: top;\n",
       "    }\n",
       "\n",
       "    .dataframe thead th {\n",
       "        text-align: right;\n",
       "    }\n",
       "</style>\n",
       "<table border=\"1\" class=\"dataframe\">\n",
       "  <thead>\n",
       "    <tr style=\"text-align: right;\">\n",
       "      <th></th>\n",
       "      <th>bin</th>\n",
       "      <th>count</th>\n",
       "      <th>percent_of_total</th>\n",
       "    </tr>\n",
       "  </thead>\n",
       "  <tbody>\n",
       "    <tr>\n",
       "      <th>0</th>\n",
       "      <td>negative</td>\n",
       "      <td>8568</td>\n",
       "      <td>15.728604</td>\n",
       "    </tr>\n",
       "    <tr>\n",
       "      <th>1</th>\n",
       "      <td>neutral</td>\n",
       "      <td>42061</td>\n",
       "      <td>77.212982</td>\n",
       "    </tr>\n",
       "    <tr>\n",
       "      <th>2</th>\n",
       "      <td>positive</td>\n",
       "      <td>3845</td>\n",
       "      <td>7.058413</td>\n",
       "    </tr>\n",
       "  </tbody>\n",
       "</table>\n",
       "</div>"
      ],
      "text/plain": [
       "        bin  count  percent_of_total\n",
       "0  negative   8568         15.728604\n",
       "1   neutral  42061         77.212982\n",
       "2  positive   3845          7.058413"
      ]
     },
     "execution_count": 29,
     "metadata": {},
     "output_type": "execute_result"
    }
   ],
   "source": [
    "#get bin percentages for large projects\n",
    "large_by_sentiment = large_projects.groupby(['final_sentiment']).count().reset_index()\n",
    "large_by_sentiment = large_by_sentiment[['final_sentiment','project_id']]\n",
    "large_by_sentiment.rename(columns={'project_id':'count'}, inplace=True)\n",
    "large_by_sentiment['percent_of_total'] = large_by_sentiment['count'].divide(len(large_projects)).multiply(100)\n",
    "large_by_sentiment['bin'] = pd.cut(large_by_sentiment['final_sentiment'], [-5, -1, 0, 4], labels=['negative', 'neutral', 'positive'])\n",
    "large_by_sentiment_binned = large_by_sentiment.groupby(['bin']).sum().reset_index()\n",
    "large_by_sentiment_binned = large_by_sentiment_binned[['bin','count','percent_of_total']]\n",
    "large_by_sentiment_binned"
   ]
  },
  {
   "cell_type": "code",
   "execution_count": 30,
   "metadata": {},
   "outputs": [
    {
     "data": {
      "text/html": [
       "<div>\n",
       "<style scoped>\n",
       "    .dataframe tbody tr th:only-of-type {\n",
       "        vertical-align: middle;\n",
       "    }\n",
       "\n",
       "    .dataframe tbody tr th {\n",
       "        vertical-align: top;\n",
       "    }\n",
       "\n",
       "    .dataframe thead th {\n",
       "        text-align: right;\n",
       "    }\n",
       "</style>\n",
       "<table border=\"1\" class=\"dataframe\">\n",
       "  <thead>\n",
       "    <tr style=\"text-align: right;\">\n",
       "      <th></th>\n",
       "      <th>bin</th>\n",
       "      <th>count</th>\n",
       "      <th>percent_of_total</th>\n",
       "    </tr>\n",
       "  </thead>\n",
       "  <tbody>\n",
       "    <tr>\n",
       "      <th>0</th>\n",
       "      <td>negative</td>\n",
       "      <td>3970</td>\n",
       "      <td>17.082616</td>\n",
       "    </tr>\n",
       "    <tr>\n",
       "      <th>1</th>\n",
       "      <td>neutral</td>\n",
       "      <td>17987</td>\n",
       "      <td>77.396730</td>\n",
       "    </tr>\n",
       "    <tr>\n",
       "      <th>2</th>\n",
       "      <td>positive</td>\n",
       "      <td>1283</td>\n",
       "      <td>5.520654</td>\n",
       "    </tr>\n",
       "  </tbody>\n",
       "</table>\n",
       "</div>"
      ],
      "text/plain": [
       "        bin  count  percent_of_total\n",
       "0  negative   3970         17.082616\n",
       "1   neutral  17987         77.396730\n",
       "2  positive   1283          5.520654"
      ]
     },
     "execution_count": 30,
     "metadata": {},
     "output_type": "execute_result"
    }
   ],
   "source": [
    "#get bin percentages for average projects\n",
    "avg_by_sentiment = avg_projects.groupby(['final_sentiment']).count().reset_index()\n",
    "avg_by_sentiment = avg_by_sentiment[['final_sentiment','project_id']]\n",
    "avg_by_sentiment.rename(columns={'project_id':'count'}, inplace=True)\n",
    "avg_by_sentiment['percent_of_total'] = avg_by_sentiment['count'].divide(len(avg_projects)).multiply(100)\n",
    "avg_by_sentiment['bin'] = pd.cut(avg_by_sentiment['final_sentiment'], [-5, -1, 0, 4], labels=['negative', 'neutral', 'positive'])\n",
    "avg_by_sentiment_binned = avg_by_sentiment.groupby(['bin']).sum().reset_index()\n",
    "avg_by_sentiment_binned = avg_by_sentiment_binned[['bin','count','percent_of_total']]\n",
    "avg_by_sentiment_binned"
   ]
  },
  {
   "cell_type": "code",
   "execution_count": 31,
   "metadata": {},
   "outputs": [
    {
     "data": {
      "text/html": [
       "<div>\n",
       "<style scoped>\n",
       "    .dataframe tbody tr th:only-of-type {\n",
       "        vertical-align: middle;\n",
       "    }\n",
       "\n",
       "    .dataframe tbody tr th {\n",
       "        vertical-align: top;\n",
       "    }\n",
       "\n",
       "    .dataframe thead th {\n",
       "        text-align: right;\n",
       "    }\n",
       "</style>\n",
       "<table border=\"1\" class=\"dataframe\">\n",
       "  <thead>\n",
       "    <tr style=\"text-align: right;\">\n",
       "      <th></th>\n",
       "      <th>bin</th>\n",
       "      <th>count</th>\n",
       "      <th>percent_of_total</th>\n",
       "    </tr>\n",
       "  </thead>\n",
       "  <tbody>\n",
       "    <tr>\n",
       "      <th>0</th>\n",
       "      <td>negative</td>\n",
       "      <td>606</td>\n",
       "      <td>9.724005</td>\n",
       "    </tr>\n",
       "    <tr>\n",
       "      <th>1</th>\n",
       "      <td>neutral</td>\n",
       "      <td>5306</td>\n",
       "      <td>85.141207</td>\n",
       "    </tr>\n",
       "    <tr>\n",
       "      <th>2</th>\n",
       "      <td>positive</td>\n",
       "      <td>320</td>\n",
       "      <td>5.134788</td>\n",
       "    </tr>\n",
       "  </tbody>\n",
       "</table>\n",
       "</div>"
      ],
      "text/plain": [
       "        bin  count  percent_of_total\n",
       "0  negative    606          9.724005\n",
       "1   neutral   5306         85.141207\n",
       "2  positive    320          5.134788"
      ]
     },
     "execution_count": 31,
     "metadata": {},
     "output_type": "execute_result"
    }
   ],
   "source": [
    "#get bin percentages for low projects\n",
    "low_by_sentiment = low_projects.groupby(['final_sentiment']).count().reset_index()\n",
    "low_by_sentiment = low_by_sentiment[['final_sentiment','project_id']]\n",
    "low_by_sentiment.rename(columns={'project_id':'count'}, inplace=True)\n",
    "low_by_sentiment['percent_of_total'] = low_by_sentiment['count'].divide(len(low_projects)).multiply(100)\n",
    "low_by_sentiment['bin'] = pd.cut(low_by_sentiment['final_sentiment'], [-5, -1, 0, 4], labels=['negative', 'neutral', 'positive'])\n",
    "low_by_sentiment_binned = low_by_sentiment.groupby(['bin']).sum().reset_index()\n",
    "low_by_sentiment_binned = low_by_sentiment_binned[['bin','count','percent_of_total']]\n",
    "low_by_sentiment_binned"
   ]
  },
  {
   "cell_type": "markdown",
   "metadata": {},
   "source": [
    "### RQ2"
   ]
  },
  {
   "cell_type": "code",
   "execution_count": 32,
   "metadata": {},
   "outputs": [],
   "source": [
    "weekdays = commit_messages_final.groupby('day_of_week').mean().reset_index()"
   ]
  },
  {
   "cell_type": "code",
   "execution_count": 33,
   "metadata": {},
   "outputs": [],
   "source": [
    "weekdays = weekdays[['day_of_week','final_sentiment']]"
   ]
  },
  {
   "cell_type": "code",
   "execution_count": 34,
   "metadata": {
    "scrolled": true
   },
   "outputs": [
    {
     "data": {
      "image/png": "[encoded data removed]",
      "text/plain": [
       "<Figure size 432x288 with 1 Axes>"
      ]
     },
     "metadata": {
      "needs_background": "light"
     },
     "output_type": "display_data"
    }
   ],
   "source": [
    "weekdays.plot.bar(x='day_of_week', y='final_sentiment', rot=0)\n",
    "plt.show()"
   ]
  },
  {
   "cell_type": "markdown",
   "metadata": {},
   "source": [
    "### RQ3\n",
    "Is there a correlation between the number of changed files and developer sentiment? "
   ]
  },
  {
   "cell_type": "code",
   "execution_count": 183,
   "metadata": {},
   "outputs": [],
   "source": [
    "files_changed_count = files_changed_final.groupby('commit_id').count().reset_index()\n",
    "files_changed_count = files_changed_count[['commit_id', 'modification']]\n",
    "files_changed_count.commit_id = files_changed_count.commit_id.astype(str)\n",
    "files_changed_count.commit_id = files_changed_count.commit_id.str.strip()"
   ]
  },
  {
   "cell_type": "code",
   "execution_count": 184,
   "metadata": {
    "scrolled": true
   },
   "outputs": [
    {
     "data": {
      "text/html": [
       "<div>\n",
       "<style scoped>\n",
       "    .dataframe tbody tr th:only-of-type {\n",
       "        vertical-align: middle;\n",
       "    }\n",
       "\n",
       "    .dataframe tbody tr th {\n",
       "        vertical-align: top;\n",
       "    }\n",
       "\n",
       "    .dataframe thead th {\n",
       "        text-align: right;\n",
       "    }\n",
       "</style>\n",
       "<table border=\"1\" class=\"dataframe\">\n",
       "  <thead>\n",
       "    <tr style=\"text-align: right;\">\n",
       "      <th></th>\n",
       "      <th>commit_id</th>\n",
       "      <th>modification</th>\n",
       "    </tr>\n",
       "  </thead>\n",
       "  <tbody>\n",
       "    <tr>\n",
       "      <th>0</th>\n",
       "      <td>000e3673387b662e32f1037eeaea2aa29b630448</td>\n",
       "      <td>13</td>\n",
       "    </tr>\n",
       "    <tr>\n",
       "      <th>1</th>\n",
       "      <td>000e722626473ce76fcc2a604b1ef8ba7860ef7e</td>\n",
       "      <td>2</td>\n",
       "    </tr>\n",
       "    <tr>\n",
       "      <th>2</th>\n",
       "      <td>0013e3a3a6ec30cd05d17b1d9597617866254d43</td>\n",
       "      <td>1</td>\n",
       "    </tr>\n",
       "    <tr>\n",
       "      <th>3</th>\n",
       "      <td>00196d38b331102892a87d0c33fa5f7d9f6d3958</td>\n",
       "      <td>1</td>\n",
       "    </tr>\n",
       "    <tr>\n",
       "      <th>4</th>\n",
       "      <td>001a91d48e1cbaaf3f139f73c06e68e95008b160</td>\n",
       "      <td>8</td>\n",
       "    </tr>\n",
       "  </tbody>\n",
       "</table>\n",
       "</div>"
      ],
      "text/plain": [
       "                                  commit_id  modification\n",
       "0  000e3673387b662e32f1037eeaea2aa29b630448            13\n",
       "1  000e722626473ce76fcc2a604b1ef8ba7860ef7e             2\n",
       "2  0013e3a3a6ec30cd05d17b1d9597617866254d43             1\n",
       "3  00196d38b331102892a87d0c33fa5f7d9f6d3958             1\n",
       "4  001a91d48e1cbaaf3f139f73c06e68e95008b160             8"
      ]
     },
     "execution_count": 184,
     "metadata": {},
     "output_type": "execute_result"
    }
   ],
   "source": [
    "files_changed_count.head()"
   ]
  },
  {
   "cell_type": "code",
   "execution_count": 185,
   "metadata": {},
   "outputs": [],
   "source": [
    "df_sentiments_hashes = commit_messages_final[['commit_id','final_sentiment']]\n",
    "df_sentiments_hashes.dropna(inplace=True)\n",
    "df_sentiments_hashes.commit_id = df_sentiments_hashes.commit_id.astype(str)\n",
    "df_sentiments_hashes.commit_id = df_sentiments_hashes.commit_id.str.strip()"
   ]
  },
  {
   "cell_type": "code",
   "execution_count": 187,
   "metadata": {},
   "outputs": [
    {
     "data": {
      "text/html": [
       "<div>\n",
       "<style scoped>\n",
       "    .dataframe tbody tr th:only-of-type {\n",
       "        vertical-align: middle;\n",
       "    }\n",
       "\n",
       "    .dataframe tbody tr th {\n",
       "        vertical-align: top;\n",
       "    }\n",
       "\n",
       "    .dataframe thead th {\n",
       "        text-align: right;\n",
       "    }\n",
       "</style>\n",
       "<table border=\"1\" class=\"dataframe\">\n",
       "  <thead>\n",
       "    <tr style=\"text-align: right;\">\n",
       "      <th></th>\n",
       "      <th>commit_id</th>\n",
       "      <th>final_sentiment</th>\n",
       "    </tr>\n",
       "  </thead>\n",
       "  <tbody>\n",
       "    <tr>\n",
       "      <th>0</th>\n",
       "      <td>0515c7d89f97bf7f1e488ac39dcc8fe1ee79f605</td>\n",
       "      <td>0</td>\n",
       "    </tr>\n",
       "    <tr>\n",
       "      <th>1</th>\n",
       "      <td>07abeaf9bd85eb77f0774607161a7ccb3ed8dff3</td>\n",
       "      <td>0</td>\n",
       "    </tr>\n",
       "    <tr>\n",
       "      <th>2</th>\n",
       "      <td>11f46d585bfc263e11b0556566559e6513cca0e4</td>\n",
       "      <td>0</td>\n",
       "    </tr>\n",
       "    <tr>\n",
       "      <th>3</th>\n",
       "      <td>25ffeb626cd9146c483c6144b8208b5bd6cf26c4</td>\n",
       "      <td>0</td>\n",
       "    </tr>\n",
       "    <tr>\n",
       "      <th>4</th>\n",
       "      <td>33ac9b6d9da4234c93ae3d9e0d7b0f41edb99d8a</td>\n",
       "      <td>0</td>\n",
       "    </tr>\n",
       "  </tbody>\n",
       "</table>\n",
       "</div>"
      ],
      "text/plain": [
       "                                  commit_id  final_sentiment\n",
       "0  0515c7d89f97bf7f1e488ac39dcc8fe1ee79f605                0\n",
       "1  07abeaf9bd85eb77f0774607161a7ccb3ed8dff3                0\n",
       "2  11f46d585bfc263e11b0556566559e6513cca0e4                0\n",
       "3  25ffeb626cd9146c483c6144b8208b5bd6cf26c4                0\n",
       "4  33ac9b6d9da4234c93ae3d9e0d7b0f41edb99d8a                0"
      ]
     },
     "execution_count": 187,
     "metadata": {},
     "output_type": "execute_result"
    }
   ],
   "source": [
    "df_sentiments_hashes.head()"
   ]
  },
  {
   "cell_type": "markdown",
   "metadata": {},
   "source": [
    "##### Merge Dataframes:"
   ]
  },
  {
   "cell_type": "code",
   "execution_count": 190,
   "metadata": {},
   "outputs": [],
   "source": [
    "files_changed_count_merged = files_changed_count.merge(df_sentiments_hashes,on='commit_id', how='left')"
   ]
  },
  {
   "cell_type": "code",
   "execution_count": 195,
   "metadata": {
    "scrolled": true
   },
   "outputs": [
    {
     "data": {
      "text/html": [
       "<div>\n",
       "<style scoped>\n",
       "    .dataframe tbody tr th:only-of-type {\n",
       "        vertical-align: middle;\n",
       "    }\n",
       "\n",
       "    .dataframe tbody tr th {\n",
       "        vertical-align: top;\n",
       "    }\n",
       "\n",
       "    .dataframe thead th {\n",
       "        text-align: right;\n",
       "    }\n",
       "</style>\n",
       "<table border=\"1\" class=\"dataframe\">\n",
       "  <thead>\n",
       "    <tr style=\"text-align: right;\">\n",
       "      <th></th>\n",
       "      <th>commit_id</th>\n",
       "      <th>modification</th>\n",
       "      <th>final_sentiment</th>\n",
       "    </tr>\n",
       "  </thead>\n",
       "  <tbody>\n",
       "    <tr>\n",
       "      <th>4219</th>\n",
       "      <td>48c2b2f6590ecaeb22432332449be22cc3ef7257</td>\n",
       "      <td>7684</td>\n",
       "      <td>0</td>\n",
       "    </tr>\n",
       "    <tr>\n",
       "      <th>12541</th>\n",
       "      <td>d71c50d4458200a37ab2046f744be6da37845179</td>\n",
       "      <td>7494</td>\n",
       "      <td>0</td>\n",
       "    </tr>\n",
       "    <tr>\n",
       "      <th>5272</th>\n",
       "      <td>5a19809e53be3594bbf4a8c5dfa28f329c7d8ea6</td>\n",
       "      <td>7193</td>\n",
       "      <td>0</td>\n",
       "    </tr>\n",
       "    <tr>\n",
       "      <th>10137</th>\n",
       "      <td>adc4a2d8199f121fb23105e1241436f3cf9decf1</td>\n",
       "      <td>7160</td>\n",
       "      <td>0</td>\n",
       "    </tr>\n",
       "    <tr>\n",
       "      <th>6712</th>\n",
       "      <td>736e036389c7d0cee0578e5a7147501cd2fabe5a</td>\n",
       "      <td>6828</td>\n",
       "      <td>-1</td>\n",
       "    </tr>\n",
       "    <tr>\n",
       "      <th>11221</th>\n",
       "      <td>c02b0f0196800942d8399c6dcdeef87d8f857ded</td>\n",
       "      <td>6592</td>\n",
       "      <td>0</td>\n",
       "    </tr>\n",
       "    <tr>\n",
       "      <th>5987</th>\n",
       "      <td>668dcfd78c192cb0372d3f0f2fe2d60507505266</td>\n",
       "      <td>6515</td>\n",
       "      <td>0</td>\n",
       "    </tr>\n",
       "    <tr>\n",
       "      <th>1932</th>\n",
       "      <td>20b61cbcf318bfd4329ec2d995d4878b15549052</td>\n",
       "      <td>6515</td>\n",
       "      <td>0</td>\n",
       "    </tr>\n",
       "    <tr>\n",
       "      <th>2497</th>\n",
       "      <td>2ad52dae330558bd82d9d9616539590b1e7a3bab</td>\n",
       "      <td>6133</td>\n",
       "      <td>0</td>\n",
       "    </tr>\n",
       "    <tr>\n",
       "      <th>13832</th>\n",
       "      <td>ed8f9758ff2461f4467b7e015a0d656b857bf48f</td>\n",
       "      <td>6130</td>\n",
       "      <td>0</td>\n",
       "    </tr>\n",
       "    <tr>\n",
       "      <th>13780</th>\n",
       "      <td>ecc3fcbe170fb10af6948ffc17a20857b9b6e78d</td>\n",
       "      <td>6116</td>\n",
       "      <td>0</td>\n",
       "    </tr>\n",
       "    <tr>\n",
       "      <th>1503</th>\n",
       "      <td>19e1fe3b259b4650115c4d93fe95f0519af819ad</td>\n",
       "      <td>4063</td>\n",
       "      <td>0</td>\n",
       "    </tr>\n",
       "    <tr>\n",
       "      <th>213</th>\n",
       "      <td>03eedccc6d16d926f30d0441b73d4f9d384ee4f3</td>\n",
       "      <td>3621</td>\n",
       "      <td>0</td>\n",
       "    </tr>\n",
       "    <tr>\n",
       "      <th>6389</th>\n",
       "      <td>6dee9850f33db07fbcd168195c1bb1fe1b0513d1</td>\n",
       "      <td>3531</td>\n",
       "      <td>0</td>\n",
       "    </tr>\n",
       "    <tr>\n",
       "      <th>11141</th>\n",
       "      <td>bea5b4a4797058915f64e0d8e439fe546c8c2bca</td>\n",
       "      <td>3529</td>\n",
       "      <td>0</td>\n",
       "    </tr>\n",
       "    <tr>\n",
       "      <th>5562</th>\n",
       "      <td>5ed09d246ae7394c0fee43222eb5172fb68f2f74</td>\n",
       "      <td>3527</td>\n",
       "      <td>0</td>\n",
       "    </tr>\n",
       "    <tr>\n",
       "      <th>13920</th>\n",
       "      <td>ef22df7d8ebb0e9012fdadfb71dcf0f269e36420</td>\n",
       "      <td>3418</td>\n",
       "      <td>0</td>\n",
       "    </tr>\n",
       "    <tr>\n",
       "      <th>3627</th>\n",
       "      <td>3ea4a1ebf7c1a1526dd51615a55fe31aca393b99</td>\n",
       "      <td>3393</td>\n",
       "      <td>0</td>\n",
       "    </tr>\n",
       "    <tr>\n",
       "      <th>2123</th>\n",
       "      <td>23fa11a40b8d1388f1b4f666813fdf7c7771af43</td>\n",
       "      <td>3342</td>\n",
       "      <td>0</td>\n",
       "    </tr>\n",
       "    <tr>\n",
       "      <th>12191</th>\n",
       "      <td>d10a89adf4662780d90fed1ca9e05394f01e214a</td>\n",
       "      <td>3310</td>\n",
       "      <td>0</td>\n",
       "    </tr>\n",
       "  </tbody>\n",
       "</table>\n",
       "</div>"
      ],
      "text/plain": [
       "                                      commit_id  modification  final_sentiment\n",
       "4219   48c2b2f6590ecaeb22432332449be22cc3ef7257          7684                0\n",
       "12541  d71c50d4458200a37ab2046f744be6da37845179          7494                0\n",
       "5272   5a19809e53be3594bbf4a8c5dfa28f329c7d8ea6          7193                0\n",
       "10137  adc4a2d8199f121fb23105e1241436f3cf9decf1          7160                0\n",
       "6712   736e036389c7d0cee0578e5a7147501cd2fabe5a          6828               -1\n",
       "11221  c02b0f0196800942d8399c6dcdeef87d8f857ded          6592                0\n",
       "5987   668dcfd78c192cb0372d3f0f2fe2d60507505266          6515                0\n",
       "1932   20b61cbcf318bfd4329ec2d995d4878b15549052          6515                0\n",
       "2497   2ad52dae330558bd82d9d9616539590b1e7a3bab          6133                0\n",
       "13832  ed8f9758ff2461f4467b7e015a0d656b857bf48f          6130                0\n",
       "13780  ecc3fcbe170fb10af6948ffc17a20857b9b6e78d          6116                0\n",
       "1503   19e1fe3b259b4650115c4d93fe95f0519af819ad          4063                0\n",
       "213    03eedccc6d16d926f30d0441b73d4f9d384ee4f3          3621                0\n",
       "6389   6dee9850f33db07fbcd168195c1bb1fe1b0513d1          3531                0\n",
       "11141  bea5b4a4797058915f64e0d8e439fe546c8c2bca          3529                0\n",
       "5562   5ed09d246ae7394c0fee43222eb5172fb68f2f74          3527                0\n",
       "13920  ef22df7d8ebb0e9012fdadfb71dcf0f269e36420          3418                0\n",
       "3627   3ea4a1ebf7c1a1526dd51615a55fe31aca393b99          3393                0\n",
       "2123   23fa11a40b8d1388f1b4f666813fdf7c7771af43          3342                0\n",
       "12191  d10a89adf4662780d90fed1ca9e05394f01e214a          3310                0"
      ]
     },
     "execution_count": 195,
     "metadata": {},
     "output_type": "execute_result"
    }
   ],
   "source": [
    "files_changed_count_merged.sort_values(['modification'], ascending=False).head(20)"
   ]
  },
  {
   "cell_type": "code",
   "execution_count": null,
   "metadata": {},
   "outputs": [],
   "source": []
  }
 ],
 "metadata": {
  "kernelspec": {
   "display_name": "Python 2",
   "language": "python",
   "name": "python2"
  },
  "language_info": {
   "codemirror_mode": {
    "name": "ipython",
    "version": 2
   },
   "file_extension": ".py",
   "mimetype": "text/x-python",
   "name": "python",
   "nbconvert_exporter": "python",
   "pygments_lexer": "ipython2",
   "version": "2.7.16"
  }
 },
 "nbformat": 4,
 "nbformat_minor": 2
}
