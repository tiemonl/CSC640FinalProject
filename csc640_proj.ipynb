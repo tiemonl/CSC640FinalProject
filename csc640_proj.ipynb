{
 "cells": [
  {
   "cell_type": "markdown",
   "metadata": {},
   "source": [
    "## This gets the data into csv format"
   ]
  },
  {
   "cell_type": "code",
   "execution_count": null,
   "metadata": {
    "collapsed": true
   },
   "outputs": [],
   "source": [
    "import warnings\n",
    "warnings.simplefilter(action='ignore', category=FutureWarning)\n",
    "warnings.filterwarnings(\"ignore\")\n",
    "import pandas as pd\n",
    "import numpy as np\n",
    "import matplotlib.pyplot as plt\n",
    "from datetime import timedelta\n",
    "from io import open"
   ]
  },
  {
   "cell_type": "code",
   "execution_count": null,
   "metadata": {
    "collapsed": true
   },
   "outputs": [],
   "source": [
    "#this is commented out because it takes forever and I will just provide the filtered files. \n",
    "#however it is good to see how we did this\n",
    "\n",
    "#open('../data/filtered_data/q1_commit_messages_filtered.txt','w',encoding=\"utf8\").writelines(line.replace('][',' ||| ').replace('] = ', ' ||| ').replace('commit_log[','') for line in open('../data/raw_data/q1_commit_messages.txt',encoding=\"utf8\") if 'commit_log' in line)\n",
    "#open('../data/filtered_data/q2_commit_dates_epoch_timestamp_filtered.txt','w',encoding=\"utf8\").writelines(line.replace('][',' ||| ').replace('] = ', ' ||| ').replace('commit_log[','') for line in open('../data/raw_data/q2_commit_dates_epoch_timestamp.txt',encoding=\"utf8\") if 'commit_log' in line)\n",
    "#open('../data/filtered_data/q3_author_names_filtered.txt','w',encoding=\"utf8\").writelines(line.replace('][',' ||| ').replace('] = ', ' ||| ').replace('commit_log[','') for line in open('../data/raw_data/q3_author_names.txt',encoding=\"utf8\") if 'commit_log' in line)\n",
    "#open('../data/filtered_data/q4_committer_names_filtered.txt','w',encoding=\"utf8\").writelines(line.replace('][',' ||| ').replace('] = ', ' ||| ').replace('commit_log[','') for line in open('../data/raw_data/q4_committer_names.txt',encoding=\"utf8\") if 'commit_log' in line)\n",
    "#open('../data/filtered_data/q5_all_changed_files_filtered.txt','w',encoding=\"utf8\").writelines(line.replace('][',' ||| ').replace('] = ', ' ||| ').replace('commit_log[','') for line in open('../data/raw_data/q5_all_changed_files.txt',encoding=\"utf8\") if 'commit_log' in line)\n",
    "#open('../data/filtered_data/q6_deleted_files_filtered.txt','w',encoding=\"utf8\").writelines(line.replace('][',' ||| ').replace('] = ', ' ||| ').replace('commit_log[','') for line in open('../data/raw_data/q6_deleted_files.txt',encoding=\"utf8\") if 'commit_log' in line)\n",
    "#open('../data/filtered_data/q7_added_files_filtered.txt','w',encoding=\"utf8\").writelines(line.replace('][',' ||| ').replace('] = ', ' ||| ').replace('commit_log[','') for line in open('../data/raw_data/q7_added_files.txt',encoding=\"utf8\") if 'commit_log' in line)\n",
    "#open('../data/filtered_data/q8_modified_files_filtered.txt','w',encoding=\"utf8\").writelines(line.replace('][',' ||| ').replace('] = ', ' ||| ').replace('commit_log[','') for line in open('../data/raw_data/q8_modified_files.txt',encoding=\"utf8\") if 'commit_log' in line)\n",
    "#open('../data/filtered_data/q10_commit_count_by_project_filtered.txt','w',encoding=\"utf8\").writelines(line.replace('][',' ||| ').replace('] = ', ' ||| ').replace('commit_log[','') for line in open('../data/raw_data/q10_commit_count_by_project.txt',encoding=\"utf8\") if 'commit_log' in line)\n",
    "#open('../data/filtered_data/q11_commits_all_langs_filtered.txt','w',encoding=\"utf8\").writelines(line.replace('][',' ||| ').replace('] = ', ' ||| ').replace('commit_log[','') for line in open('../data/raw_data/q11_commits_all_langs.txt',encoding=\"utf8\") if 'commit_log' in line)"
   ]
  },
  {
   "cell_type": "markdown",
   "metadata": {},
   "source": [
    "## Here we bring the filtered files in and merge the first set into one dataframe"
   ]
  },
  {
   "cell_type": "code",
   "execution_count": null,
   "metadata": {
    "collapsed": true,
    "scrolled": true
   },
   "outputs": [],
   "source": [
    "messages = pd.read_csv('../data/filtered_data/q1_commit_messages_filtered.txt', usecols=[0,1,2], sep='\\|\\|\\|', names=['project_id','commit_id','message'])\n",
    "timestamps = pd.read_csv('../data/filtered_data/q2_commit_dates_epoch_timestamp_filtered.txt', usecols=[0,1,2], sep='\\|\\|\\|', names=['project_id','commit_id','timestamp'])\n",
    "authors = pd.read_csv('../data/filtered_data/q3_author_names_filtered.txt', usecols=[0,1,2], sep='\\|\\|\\|', names=['project_id','author_name','commit_id'])\n",
    "committers = pd.read_csv('../data/filtered_data/q4_committer_names_filtered.txt', usecols=[0,1,2], sep='\\|\\|\\|', names=['project_id','commit_id','committer_name'])"
   ]
  },
  {
   "cell_type": "code",
   "execution_count": null,
   "metadata": {
    "collapsed": true
   },
   "outputs": [],
   "source": [
    "#merge all the message related files together\n",
    "merge1 = pd.merge(messages,timestamps, on=['project_id','commit_id'])\n",
    "merge2 = pd.merge(merge1, authors, on=['project_id','commit_id'])\n",
    "merged_data = pd.merge(merge2,committers, on=['project_id','commit_id'])"
   ]
  },
  {
   "cell_type": "code",
   "execution_count": null,
   "metadata": {
    "collapsed": true
   },
   "outputs": [],
   "source": [
    "#drop any rows that dont have a message because we dont need them\n",
    "merged_data.dropna(subset=['message'], inplace=True)"
   ]
  },
  {
   "cell_type": "code",
   "execution_count": null,
   "metadata": {
    "collapsed": true,
    "scrolled": true
   },
   "outputs": [],
   "source": [
    "#spit out all the messages to a file alone for processing by sentistrength\n",
    "merged_data.message.to_csv('../data/sentistrength_run/messages_only.csv', header=False, index=False)"
   ]
  },
  {
   "cell_type": "markdown",
   "metadata": {},
   "source": [
    "## Here, we manually run the sentistrength tool on the messages_only file, which produces the messages_only_results file which we can then merge with the main dataframe"
   ]
  },
  {
   "cell_type": "code",
   "execution_count": null,
   "metadata": {
    "collapsed": true
   },
   "outputs": [],
   "source": [
    "#bring the strengths data in from the sentistrength results file\n",
    "strengths = pd.read_csv('../data/sentistrength_run/messages_only_results.txt', usecols=[1,2], sep='\\t', dtype=str, names=['positive_strength','negative_strength'])"
   ]
  },
  {
   "cell_type": "code",
   "execution_count": null,
   "metadata": {
    "collapsed": true
   },
   "outputs": [],
   "source": [
    "#merge the strengths with the main dataframe\n",
    "merged_data.reset_index(drop=True, inplace=True)\n",
    "commit_messages_final = pd.concat([merged_data,strengths],axis=1)"
   ]
  },
  {
   "cell_type": "code",
   "execution_count": null,
   "metadata": {
    "collapsed": true
   },
   "outputs": [],
   "source": [
    "#convert the timestamp to date and add a day of week field\n",
    "commit_messages_final[\"timestamp\"] = commit_messages_final[\"timestamp\"].astype(str)\n",
    "commit_messages_final[\"timestamp\"] = commit_messages_final[\"timestamp\"].str[:10]\n",
    "commit_messages_final['timestamp'] = pd.to_datetime(commit_messages_final['timestamp'],unit='s',errors='coerce')\n",
    "commit_messages_final['day_of_week'] = commit_messages_final['timestamp'].dt.weekday_name\n",
    "commit_messages_final['year'] = commit_messages_final['timestamp'].dt.year"
   ]
  },
  {
   "cell_type": "code",
   "execution_count": null,
   "metadata": {
    "collapsed": true
   },
   "outputs": [],
   "source": [
    "#compute final sentiment value from sum of positive and negative\n",
    "commit_messages_final['final_sentiment'] = pd.to_numeric(commit_messages_final['positive_strength']) + pd.to_numeric(commit_messages_final['negative_strength'])"
   ]
  },
  {
   "cell_type": "markdown",
   "metadata": {},
   "source": [
    "## done with commit messages, moving on to changed files"
   ]
  },
  {
   "cell_type": "code",
   "execution_count": null,
   "metadata": {
    "collapsed": true
   },
   "outputs": [],
   "source": [
    "#Bring in all the file related stuff\n",
    "all_changes = pd.read_csv('../data/filtered_data/q5_all_changed_files_filtered.txt', usecols=[0,1], sep='\\|\\|\\|', names=['commit_id','filepath'])\n",
    "deletes = pd.read_csv('../data/filtered_data/q6_deleted_files_filtered.txt', usecols=[0,1], sep='\\|\\|\\|', names=['commit_id','filepath'])\n",
    "adds = pd.read_csv('../data/filtered_data/q7_added_files_filtered.txt', usecols=[0,1], sep='\\|\\|\\|', names=['commit_id','filepath'])\n",
    "modifies = pd.read_csv('../data/filtered_data/q8_modified_files_filtered.txt', usecols=[0,1], sep='\\|\\|\\|', names=['commit_id','filepath'])"
   ]
  },
  {
   "cell_type": "code",
   "execution_count": null,
   "metadata": {
    "collapsed": true
   },
   "outputs": [],
   "source": [
    "#tag the deletes\n",
    "merge_deletes = pd.merge(all_changes, deletes, on=['commit_id','filepath'], how='left', indicator='modif')\n",
    "merge_deletes['modif'] = np.where(merge_deletes.modif == 'both', 'Delete', '')"
   ]
  },
  {
   "cell_type": "code",
   "execution_count": null,
   "metadata": {
    "collapsed": true
   },
   "outputs": [],
   "source": [
    "#tag the adds\n",
    "merge_adds = pd.merge(all_changes, adds, on=['commit_id','filepath'], how='left', indicator='modif')\n",
    "merge_adds['modif'] = np.where(merge_adds.modif == 'both', 'Add', '')"
   ]
  },
  {
   "cell_type": "code",
   "execution_count": null,
   "metadata": {
    "collapsed": true
   },
   "outputs": [],
   "source": [
    "#tag the modifies\n",
    "merge_modifies = pd.merge(all_changes, modifies, on=['commit_id','filepath'], how='left', indicator='modif')\n",
    "merge_modifies['modif'] = np.where(merge_modifies.modif == 'both', 'Modify', '')"
   ]
  },
  {
   "cell_type": "code",
   "execution_count": null,
   "metadata": {
    "collapsed": true
   },
   "outputs": [],
   "source": [
    "#merge the deletes and adds tag frames together\n",
    "temp_files_merge = pd.merge(merge_deletes, merge_adds, on=['commit_id','filepath'])"
   ]
  },
  {
   "cell_type": "code",
   "execution_count": null,
   "metadata": {
    "collapsed": true
   },
   "outputs": [],
   "source": [
    "#squash down the columns in the delete/add frame so the tags are in the same column\n",
    "temp_files_merge['modif'] = temp_files_merge['modif_x'].where(temp_files_merge['modif_x'] != '', temp_files_merge['modif_y'])\n",
    "temp_files_merge = temp_files_merge.drop(['modif_x','modif_y'],axis=1)"
   ]
  },
  {
   "cell_type": "code",
   "execution_count": null,
   "metadata": {
    "collapsed": true
   },
   "outputs": [],
   "source": [
    "#merge the delete/add frame and the modify frame together\n",
    "temp_files_merge2 = pd.merge(temp_files_merge, merge_modifies, on=['commit_id','filepath'])"
   ]
  },
  {
   "cell_type": "code",
   "execution_count": null,
   "metadata": {
    "collapsed": true
   },
   "outputs": [],
   "source": [
    "#squash down the columns in the final frame so the all tags are in the same column\n",
    "temp_files_merge2['modification'] = temp_files_merge2['modif_x'].where(temp_files_merge2['modif_x'] != '', temp_files_merge2['modif_y'])\n",
    "files_changed_final = temp_files_merge2.drop(['modif_x','modif_y'],axis=1)"
   ]
  },
  {
   "cell_type": "markdown",
   "metadata": {},
   "source": [
    "##  here are the final pandas dataframes:"
   ]
  },
  {
   "cell_type": "code",
   "execution_count": null,
   "metadata": {},
   "outputs": [],
   "source": [
    "commit_messages_final.head()"
   ]
  },
  {
   "cell_type": "code",
   "execution_count": null,
   "metadata": {},
   "outputs": [],
   "source": [
    "files_changed_final.head()"
   ]
  },
  {
   "cell_type": "markdown",
   "metadata": {},
   "source": [
    "# Analysis"
   ]
  },
  {
   "cell_type": "markdown",
   "metadata": {},
   "source": [
    "### RQ1"
   ]
  },
  {
   "cell_type": "markdown",
   "metadata": {},
   "source": [
    "### General Sentiment in commit logs"
   ]
  },
  {
   "cell_type": "code",
   "execution_count": null,
   "metadata": {
    "collapsed": true
   },
   "outputs": [],
   "source": [
    "#count the number of commits for each sentiment level\n",
    "commits_by_sentiment = commit_messages_final.groupby(['final_sentiment']).count().reset_index()\n",
    "commits_by_sentiment = commits_by_sentiment[['final_sentiment','project_id']]\n",
    "commits_by_sentiment.rename(columns={'project_id':'count'}, inplace=True)"
   ]
  },
  {
   "cell_type": "code",
   "execution_count": null,
   "metadata": {},
   "outputs": [],
   "source": [
    "#bin the commits by positive, negative, and neutral sentiment\n",
    "commits_by_sentiment['percent_of_total'] = commits_by_sentiment['count'].divide(len(commit_messages_final)).multiply(100)\n",
    "commits_by_sentiment['bin'] = pd.cut(commits_by_sentiment['final_sentiment'], [-5, -1, 0, 4], labels=['negative', 'neutral', 'positive'])\n",
    "commits_by_sentiment"
   ]
  },
  {
   "cell_type": "code",
   "execution_count": null,
   "metadata": {},
   "outputs": [],
   "source": [
    "#sum up the total percent of each bin\n",
    "commits_by_sentiment_binned = commits_by_sentiment.groupby(['bin']).sum().reset_index()\n",
    "commits_by_sentiment_binned = commits_by_sentiment_binned[['bin','count','percent_of_total']]\n",
    "commits_by_sentiment_binned"
   ]
  },
  {
   "cell_type": "code",
   "execution_count": null,
   "metadata": {
    "collapsed": true
   },
   "outputs": [],
   "source": [
    "commits_by_project = commit_messages_final.groupby(['project_id']).count().reset_index()"
   ]
  },
  {
   "cell_type": "code",
   "execution_count": null,
   "metadata": {
    "collapsed": true
   },
   "outputs": [],
   "source": [
    "commits_by_project = commits_by_project[['project_id','commit_id']]\n",
    "commits_by_project.rename(columns={'commit_id':'count'}, inplace=True)\n",
    "commits_by_project.sort_values(['count'], inplace=True)"
   ]
  },
  {
   "cell_type": "code",
   "execution_count": null,
   "metadata": {
    "collapsed": true
   },
   "outputs": [],
   "source": [
    "commits_by_project.to_csv('../data/commits_by_project_sorted.csv', sep='\\t', encoding='utf-8')"
   ]
  },
  {
   "cell_type": "markdown",
   "metadata": {},
   "source": [
    "### manually obtained large, average and low groups by examining file"
   ]
  },
  {
   "cell_type": "code",
   "execution_count": null,
   "metadata": {
    "collapsed": true
   },
   "outputs": [],
   "source": [
    "largelist = ['12496978','10613094','5153143','7785050','1968812']\n",
    "avglist = ['2424377','5256179','365893','6719407','13010741']\n",
    "lowlist = ['10453653','10530838','11416657','4067771','1571039']"
   ]
  },
  {
   "cell_type": "code",
   "execution_count": null,
   "metadata": {
    "collapsed": true
   },
   "outputs": [],
   "source": [
    "large_projects = commit_messages_final.loc[commit_messages_final['project_id'].isin(largelist)]\n",
    "avg_projects = commit_messages_final.loc[commit_messages_final['project_id'].isin(avglist)]\n",
    "low_projects = commit_messages_final.loc[commit_messages_final['project_id'].isin(lowlist)]"
   ]
  },
  {
   "cell_type": "code",
   "execution_count": null,
   "metadata": {},
   "outputs": [],
   "source": [
    "#get bin percentages for large projects\n",
    "large_by_sentiment = large_projects.groupby(['final_sentiment']).count().reset_index()\n",
    "large_by_sentiment = large_by_sentiment[['final_sentiment','project_id']]\n",
    "large_by_sentiment.rename(columns={'project_id':'count'}, inplace=True)\n",
    "large_by_sentiment['percent_of_total'] = large_by_sentiment['count'].divide(len(large_projects)).multiply(100)\n",
    "large_by_sentiment['bin'] = pd.cut(large_by_sentiment['final_sentiment'], [-5, -1, 0, 4], labels=['negative', 'neutral', 'positive'])\n",
    "large_by_sentiment_binned = large_by_sentiment.groupby(['bin']).sum().reset_index()\n",
    "large_by_sentiment_binned = large_by_sentiment_binned[['bin','count','percent_of_total']]\n",
    "large_by_sentiment_binned"
   ]
  },
  {
   "cell_type": "code",
   "execution_count": null,
   "metadata": {},
   "outputs": [],
   "source": [
    "#get bin percentages for average projects\n",
    "avg_by_sentiment = avg_projects.groupby(['final_sentiment']).count().reset_index()\n",
    "avg_by_sentiment = avg_by_sentiment[['final_sentiment','project_id']]\n",
    "avg_by_sentiment.rename(columns={'project_id':'count'}, inplace=True)\n",
    "avg_by_sentiment['percent_of_total'] = avg_by_sentiment['count'].divide(len(avg_projects)).multiply(100)\n",
    "avg_by_sentiment['bin'] = pd.cut(avg_by_sentiment['final_sentiment'], [-5, -1, 0, 4], labels=['negative', 'neutral', 'positive'])\n",
    "avg_by_sentiment_binned = avg_by_sentiment.groupby(['bin']).sum().reset_index()\n",
    "avg_by_sentiment_binned = avg_by_sentiment_binned[['bin','count','percent_of_total']]\n",
    "avg_by_sentiment_binned"
   ]
  },
  {
   "cell_type": "code",
   "execution_count": null,
   "metadata": {},
   "outputs": [],
   "source": [
    "#get bin percentages for low projects\n",
    "low_by_sentiment = low_projects.groupby(['final_sentiment']).count().reset_index()\n",
    "low_by_sentiment = low_by_sentiment[['final_sentiment','project_id']]\n",
    "low_by_sentiment.rename(columns={'project_id':'count'}, inplace=True)\n",
    "low_by_sentiment['percent_of_total'] = low_by_sentiment['count'].divide(len(low_projects)).multiply(100)\n",
    "low_by_sentiment['bin'] = pd.cut(low_by_sentiment['final_sentiment'], [-5, -1, 0, 4], labels=['negative', 'neutral', 'positive'])\n",
    "low_by_sentiment_binned = low_by_sentiment.groupby(['bin']).sum().reset_index()\n",
    "low_by_sentiment_binned = low_by_sentiment_binned[['bin','count','percent_of_total']]\n",
    "low_by_sentiment_binned"
   ]
  },
  {
   "cell_type": "markdown",
   "metadata": {},
   "source": [
    "## RQ2"
   ]
  },
  {
   "cell_type": "markdown",
   "metadata": {},
   "source": [
    "### Sentiment by Day of Week"
   ]
  },
  {
   "cell_type": "code",
   "execution_count": null,
   "metadata": {},
   "outputs": [],
   "source": [
    "##create the bins per weekday\n",
    "weekdays = commit_messages_final.groupby(['day_of_week',pd.cut(commit_messages_final.final_sentiment, bins = [-5, -1, 0, 4], labels=['negative', 'neutral', 'positive'])])\n",
    "weekdays = weekdays.size().unstack()\n",
    "weekdays.columns = [''.join(col).strip() for col in weekdays.columns.values]\n",
    "weekdays.reset_index(inplace=True)\n",
    "\n",
    "#get the totals again\n",
    "weekdays['total'] = weekdays['negative'] + weekdays['neutral'] + weekdays['positive']\n",
    "weekdays['negative_pct'] = weekdays['negative'].divide(weekdays['total']).multiply(100)\n",
    "weekdays['neutral_pct'] = weekdays['neutral'].divide(weekdays['total']).multiply(100)\n",
    "weekdays['positive_pct'] = weekdays['positive'].divide(weekdays['total']).multiply(100)\n",
    "\n",
    "#a rube goldberg way to sort by day of week... FML\n",
    "days = ['Monday','Tuesday','Wednesday','Thursday','Friday','Saturday', 'Sunday']\n",
    "mapping = {day: i for i, day in enumerate(days)}\n",
    "key = weekdays['day_of_week'].map(mapping)\n",
    "weekdays = weekdays.iloc[key.argsort()].set_index('day_of_week')\n",
    "weekdays.columns = [''.join(col).strip() for col in weekdays.columns.values]\n",
    "weekdays.reset_index(inplace=True)\n",
    "weekdays"
   ]
  },
  {
   "cell_type": "markdown",
   "metadata": {},
   "source": [
    "### Sort out day of week data for large commits"
   ]
  },
  {
   "cell_type": "code",
   "execution_count": null,
   "metadata": {},
   "outputs": [],
   "source": [
    "##create the bins per weekday\n",
    "weekdays_large = large_projects.groupby(['day_of_week',pd.cut(large_projects.final_sentiment, bins = [-5, -1, 0, 4], labels=['negative', 'neutral', 'positive'])])\n",
    "weekdays_large = weekdays_large.size().unstack()\n",
    "weekdays_large.columns = [''.join(col).strip() for col in weekdays_large.columns.values]\n",
    "weekdays_large.reset_index(inplace=True)\n",
    "\n",
    "#get the totals again\n",
    "weekdays_large['total'] = weekdays_large['negative'] + weekdays_large['neutral'] + weekdays_large['positive']\n",
    "weekdays_large['negative_pct'] = weekdays_large['negative'].divide(weekdays_large['total']).multiply(100)\n",
    "weekdays_large['neutral_pct'] = weekdays_large['neutral'].divide(weekdays_large['total']).multiply(100)\n",
    "weekdays_large['positive_pct'] = weekdays_large['positive'].divide(weekdays_large['total']).multiply(100)\n",
    "\n",
    "#a rube goldberg way to sort by day of week... FML\n",
    "days = ['Monday','Tuesday','Wednesday','Thursday','Friday','Saturday', 'Sunday']\n",
    "mapping = {day: i for i, day in enumerate(days)}\n",
    "key = weekdays_large['day_of_week'].map(mapping)\n",
    "weekdays_large = weekdays_large.iloc[key.argsort()].set_index('day_of_week')\n",
    "weekdays_large.columns = [''.join(col).strip() for col in weekdays_large.columns.values]\n",
    "weekdays_large.reset_index(inplace=True)\n",
    "weekdays_large"
   ]
  },
  {
   "cell_type": "markdown",
   "metadata": {},
   "source": [
    "### Sort out day of week data for average commits"
   ]
  },
  {
   "cell_type": "code",
   "execution_count": null,
   "metadata": {},
   "outputs": [],
   "source": [
    "##create the bins per weekday\n",
    "weekdays_avg = avg_projects.groupby(['day_of_week',pd.cut(avg_projects.final_sentiment, bins = [-5, -1, 0, 4], labels=['negative', 'neutral', 'positive'])])\n",
    "weekdays_avg = weekdays_avg.size().unstack()\n",
    "weekdays_avg.columns = [''.join(col).strip() for col in weekdays_avg.columns.values]\n",
    "weekdays_avg.reset_index(inplace=True)\n",
    "\n",
    "#get the totals again\n",
    "weekdays_avg['total'] = weekdays_avg['negative'] + weekdays_avg['neutral'] + weekdays_avg['positive']\n",
    "weekdays_avg['negative_pct'] = weekdays_avg['negative'].divide(weekdays_avg['total']).multiply(100)\n",
    "weekdays_avg['neutral_pct'] = weekdays_avg['neutral'].divide(weekdays_avg['total']).multiply(100)\n",
    "weekdays_avg['positive_pct'] = weekdays_avg['positive'].divide(weekdays_avg['total']).multiply(100)\n",
    "\n",
    "#a rube goldberg way to sort by day of week... FML\n",
    "days = ['Monday','Tuesday','Wednesday','Thursday','Friday','Saturday', 'Sunday']\n",
    "mapping = {day: i for i, day in enumerate(days)}\n",
    "key = weekdays_avg['day_of_week'].map(mapping)\n",
    "weekdays_avg = weekdays_avg.iloc[key.argsort()].set_index('day_of_week')\n",
    "weekdays_avg.columns = [''.join(col).strip() for col in weekdays_avg.columns.values]\n",
    "weekdays_avg.reset_index(inplace=True)\n",
    "weekdays_avg"
   ]
  },
  {
   "cell_type": "markdown",
   "metadata": {},
   "source": [
    "### Sort out day of week data for low commits"
   ]
  },
  {
   "cell_type": "code",
   "execution_count": null,
   "metadata": {},
   "outputs": [],
   "source": [
    "##create the bins per weekday\n",
    "weekdays_low = low_projects.groupby(['day_of_week',pd.cut(low_projects.final_sentiment, bins = [-5, -1, 0, 4], labels=['negative', 'neutral', 'positive'])])\n",
    "weekdays_low = weekdays_low.size().unstack()\n",
    "weekdays_low.columns = [''.join(col).strip() for col in weekdays_low.columns.values]\n",
    "weekdays_low.reset_index(inplace=True)\n",
    "\n",
    "#get the totals again\n",
    "weekdays_low['total'] = weekdays_low['negative'] + weekdays_low['neutral'] + weekdays_low['positive']\n",
    "weekdays_low['negative_pct'] = weekdays_low['negative'].divide(weekdays_low['total']).multiply(100)\n",
    "weekdays_low['neutral_pct'] = weekdays_low['neutral'].divide(weekdays_low['total']).multiply(100)\n",
    "weekdays_low['positive_pct'] = weekdays_low['positive'].divide(weekdays_low['total']).multiply(100)\n",
    "\n",
    "#a rube goldberg way to sort by day of week... FML\n",
    "days = ['Monday','Tuesday','Wednesday','Thursday','Friday','Saturday', 'Sunday']\n",
    "mapping = {day: i for i, day in enumerate(days)}\n",
    "key = weekdays_low['day_of_week'].map(mapping)\n",
    "weekdays_low = weekdays_low.iloc[key.argsort()].set_index('day_of_week')\n",
    "weekdays_low.columns = [''.join(col).strip() for col in weekdays_low.columns.values]\n",
    "weekdays_low.reset_index(inplace=True)\n",
    "weekdays_low"
   ]
  },
  {
   "cell_type": "markdown",
   "metadata": {},
   "source": [
    "### Graphing"
   ]
  },
  {
   "cell_type": "code",
   "execution_count": null,
   "metadata": {},
   "outputs": [],
   "source": [
    "#graphing the data for all commits\n",
    "ax = weekdays.plot.bar(x='day_of_week', y='total', color='grey', label='total_commits')\n",
    "ax2 = weekdays['negative_pct'].plot(secondary_y=True, label='percent of commits that are negative')\n",
    "ax3 = weekdays['positive_pct'].plot(secondary_y=True, label='percent of commits that are positive')\n",
    "ax.set_ylabel('num commits')\n",
    "ax2.set_ylabel('sentiment percentage')\n",
    "plt.legend(loc='center left', bbox_to_anchor=(1.2, 0.5))\n",
    "plt.show()"
   ]
  },
  {
   "cell_type": "code",
   "execution_count": null,
   "metadata": {},
   "outputs": [],
   "source": [
    "#graphing the data for large commits\n",
    "ax = weekdays_large.plot.bar(x='day_of_week', y='total', color='grey', label='total_commits')\n",
    "ax2 = weekdays_large['negative_pct'].plot(secondary_y=True, label='percent of commits that are negative')\n",
    "ax3 = weekdays_large['positive_pct'].plot(secondary_y=True, label='percent of commits that are positive')\n",
    "ax.set_ylabel('num commits')\n",
    "ax2.set_ylabel('sentiment percentage')\n",
    "plt.legend(loc='center left', bbox_to_anchor=(1.2, 0.5))\n",
    "plt.show()\n",
    "#enterprise programmers dont want to work on the weekend?"
   ]
  },
  {
   "cell_type": "code",
   "execution_count": null,
   "metadata": {},
   "outputs": [],
   "source": [
    "#graphing the data for average commits\n",
    "ax = weekdays_avg.plot.bar(x='day_of_week', y='total', color='grey', label='total_commits')\n",
    "ax2 = weekdays_avg['negative_pct'].plot(secondary_y=True, label='percent of commits that are negative')\n",
    "ax3 = weekdays_avg['positive_pct'].plot(secondary_y=True, label='percent of commits that are positive')\n",
    "ax.set_ylabel('num commits')\n",
    "ax2.set_ylabel('sentiment percentage')\n",
    "plt.legend(loc='center left', bbox_to_anchor=(1.2, 0.5))\n",
    "plt.show()"
   ]
  },
  {
   "cell_type": "code",
   "execution_count": null,
   "metadata": {},
   "outputs": [],
   "source": [
    "#graphing the data for low commits\n",
    "ax = weekdays_low.plot.bar(x='day_of_week', y='total', color='grey', label='total_commits')\n",
    "ax2 = weekdays_low['negative_pct'].plot(secondary_y=True, label='percent of commits that are negative')\n",
    "ax3 = weekdays_low['positive_pct'].plot(secondary_y=True, label='percent of commits that are positive')\n",
    "ax.set_ylabel('num commits')\n",
    "ax2.set_ylabel('sentiment percentage')\n",
    "plt.legend(loc='center left', bbox_to_anchor=(1.2, 0.5))\n",
    "plt.show()\n",
    "#perhaps hobby programmers who are happy to work on their small projects on the weekend"
   ]
  },
  {
   "cell_type": "markdown",
   "metadata": {},
   "source": [
    "## RQ3\n",
    "### Sentiment and Number of Files Changed"
   ]
  },
  {
   "cell_type": "code",
   "execution_count": null,
   "metadata": {
    "collapsed": true
   },
   "outputs": [],
   "source": [
    "#count up all the changed files\n",
    "files_changed_count = files_changed_final.groupby('commit_id').count().reset_index()\n",
    "files_changed_count = files_changed_count[['commit_id', 'modification']]\n",
    "files_changed_count.commit_id = files_changed_count.commit_id.astype(str)\n",
    "files_changed_count.commit_id = files_changed_count.commit_id.str.strip()"
   ]
  },
  {
   "cell_type": "code",
   "execution_count": null,
   "metadata": {
    "collapsed": true
   },
   "outputs": [],
   "source": [
    "commit_messages_rq3 = commit_messages_final\n",
    "commit_messages_rq3.dropna(inplace=True)\n",
    "commit_messages_rq3.commit_id = commit_messages_rq3.commit_id.astype(str)\n",
    "commit_messages_rq3.commit_id = commit_messages_rq3.commit_id.str.strip()"
   ]
  },
  {
   "cell_type": "markdown",
   "metadata": {},
   "source": [
    "##### Merge Dataframes:"
   ]
  },
  {
   "cell_type": "code",
   "execution_count": null,
   "metadata": {
    "collapsed": true
   },
   "outputs": [],
   "source": [
    "commit_file_count = files_changed_count.merge(commit_messages_rq3,on='commit_id', how='left')\n",
    "commit_file_count = commit_file_count[(commit_file_count.year >= 2008) & (commit_file_count.year <= 2015) ]"
   ]
  },
  {
   "cell_type": "code",
   "execution_count": null,
   "metadata": {
    "collapsed": true
   },
   "outputs": [],
   "source": [
    "commit_file_count_large = commit_file_count.loc[commit_file_count['project_id'].isin(largelist)]\n",
    "commit_file_count_avg = commit_file_count.loc[commit_file_count['project_id'].isin(avglist)]\n",
    "commit_file_count_low = commit_file_count.loc[commit_file_count['project_id'].isin(lowlist)]"
   ]
  },
  {
   "cell_type": "code",
   "execution_count": null,
   "metadata": {},
   "outputs": [],
   "source": [
    "#Did some really nasty rearanging of indexes\n",
    "years_large = commit_file_count_large.groupby(['year',pd.cut(commit_file_count_large.final_sentiment, bins = [-5, -1, 0, 4], labels=['negative', 'neutral', 'positive'])]).sum()\n",
    "years_large.columns = ['num_files_modified','garbage','garbage2']\n",
    "years_large = years_large.unstack()\n",
    "years_large.columns = [' '.join(col).strip() for col in years_large.columns.values]\n",
    "years_large.reset_index(inplace=True)\n",
    "years_large = years_large[['year','num_files_modified negative','num_files_modified neutral','num_files_modified positive']]\n",
    "years_large.columns = ['year','negative_mod_count','neutral_mod_count','positive_mod_count']\n",
    "\n",
    "temp=commit_file_count_large.groupby(['year']).mean()\n",
    "temp.reset_index(inplace=True)\n",
    "temp = temp[['year','modification']]\n",
    "temp.columns = ['year','avg_files_modified']\n",
    "\n",
    "years_large = years_large.merge(temp,on='year')\n",
    "years_large"
   ]
  },
  {
   "cell_type": "code",
   "execution_count": null,
   "metadata": {},
   "outputs": [],
   "source": [
    "years_avg = commit_file_count_avg.groupby(['year',pd.cut(commit_file_count_avg.final_sentiment, bins = [-5, -1, 0, 4], labels=['negative', 'neutral', 'positive'])]).sum()\n",
    "years_avg.columns = ['num_files_modified','garbage','garbage2']\n",
    "years_avg = years_avg.unstack()\n",
    "years_avg.columns = [' '.join(col).strip() for col in years_avg.columns.values]\n",
    "years_avg.reset_index(inplace=True)\n",
    "years_avg = years_avg[['year','num_files_modified negative','num_files_modified neutral','num_files_modified positive']]\n",
    "years_avg.columns = ['year','negative_mod_count','neutral_mod_count','positive_mod_count']\n",
    "\n",
    "temp=commit_file_count_avg.groupby(['year']).mean()\n",
    "temp.reset_index(inplace=True)\n",
    "temp = temp[['year','modification']]\n",
    "temp.columns = ['year','avg_files_modified']\n",
    "\n",
    "years_avg = years_avg.merge(temp,on='year')\n",
    "years_avg"
   ]
  },
  {
   "cell_type": "code",
   "execution_count": null,
   "metadata": {},
   "outputs": [],
   "source": [
    "years_low = commit_file_count_low.groupby(['year',pd.cut(commit_file_count_low.final_sentiment, bins = [-5, -1, 0, 4], labels=['negative', 'neutral', 'positive'])]).sum()\n",
    "years_low.columns = ['num_files_modified','garbage','garbage2']\n",
    "years_low = years_low.unstack()\n",
    "years_low.columns = [' '.join(col).strip() for col in years_low.columns.values]\n",
    "years_low.reset_index(inplace=True)\n",
    "years_low = years_low[['year','num_files_modified negative','num_files_modified neutral','num_files_modified positive']]\n",
    "years_low.columns = ['year','negative_mod_count','neutral_mod_count','positive_mod_count']\n",
    "years_low = years_low.fillna(0)\n",
    "\n",
    "temp=commit_file_count_low.groupby(['year']).mean()\n",
    "temp.reset_index(inplace=True)\n",
    "temp = temp[['year','modification']]\n",
    "temp.columns = ['year','avg_files_modified']\n",
    "\n",
    "years_low = years_low.merge(temp,on='year')\n",
    "years_low"
   ]
  },
  {
   "cell_type": "code",
   "execution_count": null,
   "metadata": {},
   "outputs": [],
   "source": [
    "#graphing the data for large commits\n",
    "ax = years_large.plot.bar(x='year', y='avg_files_modified', color='grey', label='avg changed files/commit')\n",
    "ax2 = years_large['negative_mod_count'].plot(secondary_y=True, label='modifications belonging to negative commit')\n",
    "ax2 = years_large['neutral_mod_count'].plot(secondary_y=True, label='modifications belonging to neutral commit')\n",
    "ax3 = years_large['positive_mod_count'].plot(secondary_y=True, label='modifications belonging to positive commit')\n",
    "ax.set_ylabel('avg changed files/commit')\n",
    "ax2.set_ylabel('number of files modified')\n",
    "plt.legend(loc='center left', bbox_to_anchor=(1.2, 0.5))\n",
    "plt.show()"
   ]
  },
  {
   "cell_type": "code",
   "execution_count": null,
   "metadata": {},
   "outputs": [],
   "source": [
    "#graphing the data for average commits\n",
    "ax = years_avg.plot.bar(x='year', y='avg_files_modified', color='grey', label='avg changed files/commit')\n",
    "ax2 = years_avg['negative_mod_count'].plot(secondary_y=True, label='modifications belonging to negative commit')\n",
    "ax2 = years_avg['neutral_mod_count'].plot(secondary_y=True, label='modifications belonging to neutral commit')\n",
    "ax3 = years_avg['positive_mod_count'].plot(secondary_y=True, label='modifications belonging to positive commit')\n",
    "ax.set_ylabel('avg changed files/commit')\n",
    "ax2.set_ylabel('number of files modified')\n",
    "plt.legend(loc='center left', bbox_to_anchor=(1.2, 0.5))\n",
    "plt.show()"
   ]
  },
  {
   "cell_type": "code",
   "execution_count": null,
   "metadata": {},
   "outputs": [],
   "source": [
    "#graphing the data for low commits\n",
    "ax = years_low.plot.bar(x='year', y='avg_files_modified', color='grey', label='avg changed files/commit')\n",
    "ax2 = years_low['negative_mod_count'].plot(secondary_y=True, label='modifications belonging to negative commit')\n",
    "ax2 = years_low['neutral_mod_count'].plot(secondary_y=True, label='modifications belonging to neutral commit')\n",
    "ax3 = years_low['positive_mod_count'].plot(secondary_y=True, label='modifications belonging to positive commit')\n",
    "ax.set_ylabel('avg changed files/commit')\n",
    "ax2.set_ylabel('number of files modified')\n",
    "plt.legend(loc='center left', bbox_to_anchor=(1.2, 0.5))\n",
    "plt.show()"
   ]
  },
  {
   "cell_type": "markdown",
   "metadata": {},
   "source": [
    "# RQ4"
   ]
  },
  {
   "cell_type": "markdown",
   "metadata": {},
   "source": [
    "### Is there a correlation between type of file modification and sentiment?"
   ]
  },
  {
   "cell_type": "code",
   "execution_count": null,
   "metadata": {
    "collapsed": true
   },
   "outputs": [],
   "source": [
    "#count the number of each type of modification for each commit\n",
    "files_changed_rq4 = files_changed_final.groupby(['modification','commit_id']).count().reset_index()\n",
    "files_changed_rq4 = files_changed_rq4.pivot(index='commit_id', columns='modification', values='filepath')\n",
    "files_changed_rq4.columns = [''.join(col).strip() for col in files_changed_rq4.columns.values]\n",
    "files_changed_rq4.reset_index(inplace=True)\n",
    "files_changed_rq4.fillna(0, inplace=True)"
   ]
  },
  {
   "cell_type": "code",
   "execution_count": null,
   "metadata": {
    "collapsed": true
   },
   "outputs": [],
   "source": [
    "#get the totals again and get percentages\n",
    "files_changed_rq4['total'] = files_changed_rq4['Add'] + files_changed_rq4['Delete'] + files_changed_rq4['Modify']\n",
    "files_changed_rq4['add_pct'] = files_changed_rq4['Add'].divide(files_changed_rq4['total']).multiply(100)\n",
    "files_changed_rq4['delete_pct'] = files_changed_rq4['Delete'].divide(files_changed_rq4['total']).multiply(100)\n",
    "files_changed_rq4['modify_pct'] = files_changed_rq4['Modify'].divide(files_changed_rq4['total']).multiply(100)"
   ]
  },
  {
   "cell_type": "code",
   "execution_count": null,
   "metadata": {
    "collapsed": true
   },
   "outputs": [],
   "source": [
    "#get commit messages and strip any nasty hidden characters\n",
    "commit_messages_rq4 = commit_messages_final\n",
    "commit_messages_rq4.dropna(inplace=True)\n",
    "commit_messages_rq4.commit_id = commit_messages_rq4.commit_id.astype(str)\n",
    "commit_messages_rq4.commit_id = commit_messages_rq4.commit_id.str.strip()\n",
    "\n",
    "files_changed_rq4.commit_id = files_changed_rq4.commit_id.astype(str)\n",
    "files_changed_rq4.commit_id = files_changed_rq4.commit_id.str.strip()"
   ]
  },
  {
   "cell_type": "code",
   "execution_count": null,
   "metadata": {
    "collapsed": true
   },
   "outputs": [],
   "source": [
    "#break apart the three size groups\n",
    "commit_mod_count = files_changed_rq4.merge(commit_messages_rq4,on='commit_id', how='left')\n",
    "commit_mod_count_large = commit_mod_count.loc[commit_mod_count['project_id'].isin(largelist)]\n",
    "commit_mod_count_avg = commit_mod_count.loc[commit_mod_count['project_id'].isin(avglist)]\n",
    "commit_mod_count_low = commit_mod_count.loc[commit_mod_count['project_id'].isin(lowlist)]"
   ]
  },
  {
   "cell_type": "code",
   "execution_count": null,
   "metadata": {},
   "outputs": [],
   "source": [
    "#group by whichever type of modification is greater than 80% of the modifications in each commit\n",
    "#throw away commits that arent strongly leaning toward one type, as in not greater than 80% adds, modifies, or deletes\n",
    "#Large\n",
    "commit_mod_count_large.loc[(commit_mod_count_large.add_pct >= 80), 'majority_mod'] = 'add'\n",
    "commit_mod_count_large.loc[(commit_mod_count_large.delete_pct >= 80), 'majority_mod'] = 'delete' \n",
    "commit_mod_count_large.loc[(commit_mod_count_large.modify_pct >= 80), 'majority_mod'] = 'modify' \n",
    "commit_mod_count_large.dropna(inplace=True)\n",
    "commit_mod_count_large = commit_mod_count_large.groupby(['majority_mod',pd.cut(commit_mod_count_large.final_sentiment, bins = [-5, -1, 0, 4], labels=['negative', 'neutral', 'positive'])]).count()\n",
    "commit_mod_count_large = commit_mod_count_large.unstack()\n",
    "commit_mod_count_large.columns = [' '.join(col).strip() for col in commit_mod_count_large.columns.values]\n",
    "commit_mod_count_large.reset_index(inplace=True)\n",
    "commit_mod_count_large = commit_mod_count_large[['majority_mod','commit_id negative','commit_id neutral','commit_id positive']]\n",
    "commit_mod_count_large.columns = ['majority_mod','negative_commit_count','neutral_commit_count','positive_commit_count']\n",
    "\n",
    "#get the totals again\n",
    "commit_mod_count_large['total'] = commit_mod_count_large['negative_commit_count'] + commit_mod_count_large['neutral_commit_count'] + commit_mod_count_large['positive_commit_count']\n",
    "commit_mod_count_large['negative_pct'] = commit_mod_count_large['negative_commit_count'].divide(commit_mod_count_large['total']).multiply(100)\n",
    "commit_mod_count_large['neutral_pct'] = commit_mod_count_large['neutral_commit_count'].divide(commit_mod_count_large['total']).multiply(100)\n",
    "commit_mod_count_large['positive_pct'] = commit_mod_count_large['positive_commit_count'].divide(commit_mod_count_large['total']).multiply(100)\n",
    "\n",
    "commit_mod_count_large"
   ]
  },
  {
   "cell_type": "code",
   "execution_count": null,
   "metadata": {},
   "outputs": [],
   "source": [
    "#group by whichever type of modification is greater than 80% of the modifications in each commit\n",
    "#throw away commits that arent strongly leaning toward one type, as in not greater than 80% adds, modifies, or deletes\n",
    "#Average\n",
    "commit_mod_count_avg.loc[(commit_mod_count_avg.add_pct >= 80), 'majority_mod'] = 'add'\n",
    "commit_mod_count_avg.loc[(commit_mod_count_avg.delete_pct >= 80), 'majority_mod'] = 'delete' \n",
    "commit_mod_count_avg.loc[(commit_mod_count_avg.modify_pct >= 80), 'majority_mod'] = 'modify' \n",
    "commit_mod_count_avg.dropna(inplace=True)\n",
    "commit_mod_count_avg = commit_mod_count_avg.groupby(['majority_mod',pd.cut(commit_mod_count_avg.final_sentiment, bins = [-5, -1, 0, 4], labels=['negative', 'neutral', 'positive'])]).count()\n",
    "commit_mod_count_avg = commit_mod_count_avg.unstack()\n",
    "commit_mod_count_avg.columns = [' '.join(col).strip() for col in commit_mod_count_avg.columns.values]\n",
    "commit_mod_count_avg.reset_index(inplace=True)\n",
    "commit_mod_count_avg = commit_mod_count_avg[['majority_mod','commit_id negative','commit_id neutral','commit_id positive']]\n",
    "commit_mod_count_avg.columns = ['majority_mod','negative_commit_count','neutral_commit_count','positive_commit_count']\n",
    "\n",
    "#get the totals again\n",
    "commit_mod_count_avg['total'] = commit_mod_count_avg['negative_commit_count'] + commit_mod_count_avg['neutral_commit_count'] + commit_mod_count_avg['positive_commit_count']\n",
    "commit_mod_count_avg['negative_pct'] = commit_mod_count_avg['negative_commit_count'].divide(commit_mod_count_avg['total']).multiply(100)\n",
    "commit_mod_count_avg['neutral_pct'] = commit_mod_count_avg['neutral_commit_count'].divide(commit_mod_count_avg['total']).multiply(100)\n",
    "commit_mod_count_avg['positive_pct'] = commit_mod_count_avg['positive_commit_count'].divide(commit_mod_count_avg['total']).multiply(100)\n",
    "\n",
    "commit_mod_count_avg"
   ]
  },
  {
   "cell_type": "code",
   "execution_count": null,
   "metadata": {},
   "outputs": [],
   "source": [
    "#group by whichever type of modification is greater than 80% of the modifications in each commit\n",
    "#throw away commits that arent strongly leaning toward one type, as in not greater than 80% adds, modifies, or deletes\n",
    "#Low\n",
    "commit_mod_count_low.loc[(commit_mod_count_low.add_pct >= 80), 'majority_mod'] = 'add'\n",
    "commit_mod_count_low.loc[(commit_mod_count_low.delete_pct >= 80), 'majority_mod'] = 'delete' \n",
    "commit_mod_count_low.loc[(commit_mod_count_low.modify_pct >= 80), 'majority_mod'] = 'modify' \n",
    "commit_mod_count_low.dropna(inplace=True)\n",
    "commit_mod_count_low = commit_mod_count_low.groupby(['majority_mod',pd.cut(commit_mod_count_low.final_sentiment, bins = [-5, -1, 0, 4], labels=['negative', 'neutral', 'positive'])]).count()\n",
    "commit_mod_count_low = commit_mod_count_low.unstack()\n",
    "commit_mod_count_low.columns = [' '.join(col).strip() for col in commit_mod_count_low.columns.values]\n",
    "commit_mod_count_low.reset_index(inplace=True)\n",
    "commit_mod_count_low = commit_mod_count_low[['majority_mod','commit_id negative','commit_id neutral','commit_id positive']]\n",
    "commit_mod_count_low.columns = ['majority_mod','negative_commit_count','neutral_commit_count','positive_commit_count']\n",
    "commit_mod_count_low.fillna(0, inplace=True)\n",
    "\n",
    "#get the totals again\n",
    "commit_mod_count_low['total'] = commit_mod_count_low['negative_commit_count'] + commit_mod_count_low['neutral_commit_count'] + commit_mod_count_low['positive_commit_count']\n",
    "commit_mod_count_low['negative_pct'] = commit_mod_count_low['negative_commit_count'].divide(commit_mod_count_low['total']).multiply(100)\n",
    "commit_mod_count_low['neutral_pct'] = commit_mod_count_low['neutral_commit_count'].divide(commit_mod_count_low['total']).multiply(100)\n",
    "commit_mod_count_low['positive_pct'] = commit_mod_count_low['positive_commit_count'].divide(commit_mod_count_low['total']).multiply(100)\n",
    "\n",
    "commit_mod_count_low"
   ]
  },
  {
   "cell_type": "code",
   "execution_count": null,
   "metadata": {},
   "outputs": [],
   "source": [
    "#graphing the data for large projects\n",
    "ax = commit_mod_count_large.plot.bar(x='majority_mod', y='total', color='grey', label='total_commits')\n",
    "ax1 = commit_mod_count_large['neutral_pct'].plot(secondary_y=True, label='percent of commits that are neutral')\n",
    "ax2 = commit_mod_count_large['negative_pct'].plot(secondary_y=True, label='percent of commits that are negative')\n",
    "ax3 = commit_mod_count_large['positive_pct'].plot(secondary_y=True, label='percent of commits that are positive')\n",
    "ax.set_ylabel('num commits')\n",
    "ax2.set_ylabel('sentiment percentage')\n",
    "plt.legend(loc='center left', bbox_to_anchor=(1.2, 0.5))\n",
    "plt.show()"
   ]
  },
  {
   "cell_type": "code",
   "execution_count": null,
   "metadata": {},
   "outputs": [],
   "source": [
    "#graphing the data for average projects\n",
    "ax = commit_mod_count_avg.plot.bar(x='majority_mod', y='total', color='grey', label='total_commits')\n",
    "ax1 = commit_mod_count_avg['neutral_pct'].plot(secondary_y=True, label='percent of commits that are neutral')\n",
    "ax2 = commit_mod_count_avg['negative_pct'].plot(secondary_y=True, label='percent of commits that are negative')\n",
    "ax3 = commit_mod_count_avg['positive_pct'].plot(secondary_y=True, label='percent of commits that are positive')\n",
    "ax.set_ylabel('num commits')\n",
    "ax2.set_ylabel('sentiment percentage')\n",
    "plt.legend(loc='center left', bbox_to_anchor=(1.2, 0.5))\n",
    "plt.show()"
   ]
  },
  {
   "cell_type": "code",
   "execution_count": null,
   "metadata": {},
   "outputs": [],
   "source": [
    "#graphing the data for low projects\n",
    "ax = commit_mod_count_low.plot.bar(x='majority_mod', y='total', color='grey', label='total_commits')\n",
    "ax1 = commit_mod_count_low['neutral_pct'].plot(secondary_y=True, label='percent of commits that are neutral')\n",
    "ax2 = commit_mod_count_low['negative_pct'].plot(secondary_y=True, label='percent of commits that are negative')\n",
    "ax3 = commit_mod_count_low['positive_pct'].plot(secondary_y=True, label='percent of commits that are positive')\n",
    "ax.set_ylabel('num commits')\n",
    "ax2.set_ylabel('sentiment percentage')\n",
    "plt.legend(loc='center left', bbox_to_anchor=(1.2, 0.5))\n",
    "plt.show()"
   ]
  },
  {
   "cell_type": "markdown",
   "metadata": {},
   "source": [
    "# RQ5"
   ]
  },
  {
   "cell_type": "markdown",
   "metadata": {},
   "source": [
    "### How does the project sentiment change over the life of the project? (beginning, middle, and end)"
   ]
  },
  {
   "cell_type": "code",
   "execution_count": null,
   "metadata": {},
   "outputs": [],
   "source": [
    "#compute the age of each project, and drop all those that are shorter than 30 days from beginning to end\n",
    "commit_messages_rq5 = commit_messages_final[(commit_messages_final.year >= 2008) & (commit_messages_final.year <= 2015) ]\n",
    "project_dates = commit_messages_rq5.groupby('project_id')['timestamp'].agg(['max','min'])\n",
    "project_dates['age_days'] = project_dates['max'].sub(project_dates['min'], axis=0)\n",
    "project_dates['age_days'] = project_dates['age_days'] / np.timedelta64(1, 'D')\n",
    "project_dates = project_dates[project_dates.age_days >= 30]\n",
    "\n",
    "#create the cutoff dates for beginning, middle and end. \n",
    "project_dates['age_days'] = np.around(project_dates['age_days'], decimals=-1)\n",
    "project_dates['chunk_size_days'] = np.around(project_dates['age_days'] / 3, decimals=-1)\n",
    "days_to_shift = project_dates['chunk_size_days'].apply(lambda x: pd.Timedelta(x, unit='D'))\n",
    "project_dates['chunk1_end'] = project_dates['min'] + days_to_shift\n",
    "project_dates['chunk2_end'] = project_dates['chunk1_end'] + days_to_shift\n",
    "project_dates.reset_index(inplace=True)\n",
    "project_dates.head()"
   ]
  },
  {
   "cell_type": "code",
   "execution_count": null,
   "metadata": {
    "collapsed": true
   },
   "outputs": [],
   "source": [
    "#join the project dates frame with the commit messages\n",
    "commit_messages_with_dates = commit_messages_rq5.merge(project_dates,on='project_id', how='left')\n",
    "commit_messages_with_dates = pd.merge(commit_messages_rq5, project_dates, on=['project_id'], how='inner')"
   ]
  },
  {
   "cell_type": "code",
   "execution_count": null,
   "metadata": {
    "collapsed": true
   },
   "outputs": [],
   "source": [
    "#add a time section tag for each commit based on the cutoff dates\n",
    "commit_messages_with_dates.loc[(commit_messages_with_dates['timestamp'] >= commit_messages_with_dates['min']) & (commit_messages_with_dates['timestamp'] < commit_messages_with_dates['chunk1_end']), 'time_section'] = 'beginning'\n",
    "commit_messages_with_dates.loc[(commit_messages_with_dates['timestamp'] >= commit_messages_with_dates['chunk1_end']) & (commit_messages_with_dates['timestamp'] < commit_messages_with_dates['chunk2_end']), 'time_section'] = 'middle'\n",
    "commit_messages_with_dates.loc[(commit_messages_with_dates['timestamp'] >= commit_messages_with_dates['chunk2_end']) & (commit_messages_with_dates['timestamp'] <= commit_messages_with_dates['max']), 'time_section'] = 'end'"
   ]
  },
  {
   "cell_type": "code",
   "execution_count": null,
   "metadata": {},
   "outputs": [],
   "source": [
    "#group everything by time section beginning middle and end\n",
    "time_sections = commit_messages_with_dates.groupby(['time_section',pd.cut(commit_messages_with_dates.final_sentiment, bins = [-5, -1, 0, 4], labels=['negative', 'neutral', 'positive'])]).count()\n",
    "time_sections = time_sections.unstack()\n",
    "time_sections.columns = [' '.join(col).strip() for col in time_sections.columns.values]\n",
    "time_sections.reset_index(inplace=True)\n",
    "time_sections = time_sections[['time_section','project_id negative','project_id neutral','project_id positive']]\n",
    "time_sections.columns = ['time_section','negative_commit_count','neutral_commit_count','positive_commit_count']\n",
    "\n",
    "#sort by the time section\n",
    "sections = ['beginning','middle','end']\n",
    "mapping = {section: i for i, section in enumerate(sections)}\n",
    "key = time_sections['time_section'].map(mapping)\n",
    "time_sections = time_sections.iloc[key.argsort()].set_index('time_section')\n",
    "time_sections.columns = [''.join(col).strip() for col in time_sections.columns.values]\n",
    "time_sections.reset_index(inplace=True)\n",
    "\n",
    "#get the total and percentages\n",
    "time_sections['total'] = time_sections['negative_commit_count'] + time_sections['neutral_commit_count'] + commit_mod_count_avg['positive_commit_count']\n",
    "time_sections['negative_pct'] = time_sections['negative_commit_count'].divide(time_sections['total']).multiply(100)\n",
    "time_sections['neutral_pct'] = time_sections['neutral_commit_count'].divide(time_sections['total']).multiply(100)\n",
    "time_sections['positive_pct'] = time_sections['positive_commit_count'].divide(time_sections['total']).multiply(100)\n",
    "\n",
    "time_sections.head()"
   ]
  },
  {
   "cell_type": "code",
   "execution_count": null,
   "metadata": {},
   "outputs": [],
   "source": [
    "#plot the graph for negative and positive commits vs time section\n",
    "ax = time_sections.plot.bar(x='time_section', y='total', color='grey', label='total_commits')\n",
    "ax2 = time_sections['negative_pct'].plot(secondary_y=True, label='percent of commits that are negative')\n",
    "ax3 = time_sections['positive_pct'].plot(secondary_y=True, label='percent of commits that are positive')\n",
    "ax.set_ylabel('num commits')\n",
    "ax2.set_ylabel('sentiment percentage')\n",
    "plt.legend(loc='center left', bbox_to_anchor=(1.2, 0.5))\n",
    "plt.show()"
   ]
  },
  {
   "cell_type": "markdown",
   "metadata": {},
   "source": [
    "# RQ6"
   ]
  },
  {
   "cell_type": "markdown",
   "metadata": {},
   "source": [
    "### How does sentiment differ across different languages?"
   ]
  },
  {
   "cell_type": "markdown",
   "metadata": {},
   "source": [
    "According to boa, the top 5 project languages are:\n",
    "counts = JavaScript, 147668.0\n",
    "counts = Ruby, 89104.0\n",
    "counts = Shell, 70162.0\n",
    "counts = Python, 62274.0\n",
    "counts = Java, 55831.0"
   ]
  },
  {
   "cell_type": "code",
   "execution_count": null,
   "metadata": {},
   "outputs": [],
   "source": [
    "#read in the file that contains the commits for each of the top 5 languages\n",
    "all_lang_messages = pd.read_csv('../data/filtered_data/q11_commits_all_langs_filtered.txt', usecols=[0,1,2,3], sep='\\|\\|\\|', names=['project_id','commit_id','language','message'])\n",
    "\n",
    "#drop any rows that dont have a message because we dont need them\n",
    "all_lang_messages.dropna(subset=['message'], inplace=True)\n",
    "\n",
    "#spit out all the messages to a file alone for processing by sentistrength\n",
    "all_lang_messages.message.to_csv('../data/sentistrength_run/messages_only_all_langs.csv', header=False, index=False)"
   ]
  },
  {
   "cell_type": "code",
   "execution_count": null,
   "metadata": {
    "collapsed": true
   },
   "outputs": [],
   "source": [
    "#read in the strength results from running the sentistrength tool manually\n",
    "strengths_all_langs = pd.read_csv('../data/sentistrength_run/messages_only_all_langs_results.txt', usecols=[1,2], sep='\\t', dtype=str, names=['positive_strength','negative_strength'])"
   ]
  },
  {
   "cell_type": "code",
   "execution_count": null,
   "metadata": {
    "collapsed": true
   },
   "outputs": [],
   "source": [
    "#fix the indexes and attach the strength scores back to the dataframe\n",
    "all_lang_messages.reset_index(drop=True, inplace=True)\n",
    "strengths_all_langs.reset_index(drop=True, inplace=True)\n",
    "commit_messages_rq6 = pd.concat([all_lang_messages,strengths_all_langs],axis=1)"
   ]
  },
  {
   "cell_type": "code",
   "execution_count": null,
   "metadata": {
    "collapsed": true
   },
   "outputs": [],
   "source": [
    "#compute final sentiment and group by language\n",
    "commit_messages_rq6['final_sentiment'] = pd.to_numeric(commit_messages_rq6['positive_strength']) + pd.to_numeric(commit_messages_rq6['negative_strength'])\n",
    "langs = commit_messages_rq6.groupby(['language',pd.cut(commit_messages_rq6.final_sentiment, bins = [-5, -1, 0, 4], labels=['negative', 'neutral', 'positive'])]).count()"
   ]
  },
  {
   "cell_type": "code",
   "execution_count": null,
   "metadata": {
    "collapsed": true
   },
   "outputs": [],
   "source": [
    "#unstack the multi-index\n",
    "langs_unstacked = langs.unstack()\n",
    "langs_unstacked.columns = [' '.join(col).strip() for col in langs_unstacked.columns.values]\n",
    "langs_unstacked.reset_index(inplace=True)"
   ]
  },
  {
   "cell_type": "code",
   "execution_count": null,
   "metadata": {},
   "outputs": [],
   "source": [
    "#select and rename columns\n",
    "langs_unstacked = langs_unstacked[['language','commit_id negative','commit_id neutral','commit_id positive']]\n",
    "langs_unstacked.columns = ['language','negative_commit_count','neutral_commit_count','positive_commit_count']\n",
    "\n",
    "#get the totals again, and get percentages\n",
    "langs_unstacked['total'] = langs_unstacked['negative_commit_count'] + langs_unstacked['neutral_commit_count'] + langs_unstacked['positive_commit_count']\n",
    "langs_unstacked['negative_pct'] = langs_unstacked['negative_commit_count'].divide(langs_unstacked['total']).multiply(100)\n",
    "langs_unstacked['neutral_pct'] = langs_unstacked['neutral_commit_count'].divide(langs_unstacked['total']).multiply(100)\n",
    "langs_unstacked['positive_pct'] = langs_unstacked['positive_commit_count'].divide(langs_unstacked['total']).multiply(100)\n",
    "\n",
    "langs_unstacked"
   ]
  },
  {
   "cell_type": "code",
   "execution_count": null,
   "metadata": {},
   "outputs": [],
   "source": [
    "ax = langs_unstacked.plot.bar(x='language', y='total', color='grey', label='total_commits')\n",
    "ax2 = langs_unstacked['negative_pct'].plot(secondary_y=True, label='percent of commits that are negative')\n",
    "ax3 = langs_unstacked['positive_pct'].plot(secondary_y=True, label='percent of commits that are positive')\n",
    "ax.set_ylabel('num commits')\n",
    "ax2.set_ylabel('sentiment percentage')\n",
    "plt.legend(loc='center left', bbox_to_anchor=(1.2, 0.5))\n",
    "plt.show()"
   ]
  },
  {
   "cell_type": "code",
   "execution_count": null,
   "metadata": {
    "collapsed": true
   },
   "outputs": [],
   "source": []
  }
 ],
 "metadata": {
  "kernelspec": {
   "display_name": "Python 3",
   "language": "python",
   "name": "python3"
  },
  "language_info": {
   "codemirror_mode": {
    "name": "ipython",
    "version": 3
   },
   "file_extension": ".py",
   "mimetype": "text/x-python",
   "name": "python",
   "nbconvert_exporter": "python",
   "pygments_lexer": "ipython3",
   "version": "3.6.3"
  }
 },
 "nbformat": 4,
 "nbformat_minor": 2
}
