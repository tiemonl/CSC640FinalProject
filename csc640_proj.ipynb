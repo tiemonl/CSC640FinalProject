{
 "cells": [
  {
   "cell_type": "markdown",
   "metadata": {},
   "source": [
    "## this gets the data into csv format"
   ]
  },
  {
   "cell_type": "code",
   "execution_count": 43,
   "metadata": {
    "collapsed": true
   },
   "outputs": [],
   "source": [
    "import warnings\n",
    "warnings.simplefilter(action='ignore', category=FutureWarning)\n",
    "warnings.filterwarnings(\"ignore\")\n",
    "import pandas as pd\n",
    "import numpy as np"
   ]
  },
  {
   "cell_type": "code",
   "execution_count": 44,
   "metadata": {
    "collapsed": true
   },
   "outputs": [],
   "source": [
    "#this is commented out because it takes forever and I will just provide the filtered files. \n",
    "#however it is good to see how we did this\n",
    "\n",
    "#open('filtered_data\\q1_commit_messages_filtered.txt','w',encoding=\"utf8\").writelines(line.replace('][',' ||| ').replace('] = ', ' ||| ').replace('commit_log[','') for line in open('raw_data\\q1_commit_messages.txt',encoding=\"utf8\") if 'commit_log' in line)\n",
    "#open('filtered_data\\q2_commit_dates_epoch_timestamp_filtered.txt','w',encoding=\"utf8\").writelines(line.replace('][',' ||| ').replace('] = ', ' ||| ').replace('commit_log[','') for line in open('raw_data\\q2_commit_dates_epoch_timestamp.txt',encoding=\"utf8\") if 'commit_log' in line)\n",
    "#open('filtered_data\\q3_author_names_filtered.txt','w',encoding=\"utf8\").writelines(line.replace('][',' ||| ').replace('] = ', ' ||| ').replace('commit_log[','') for line in open('raw_data\\q3_author_names.txt',encoding=\"utf8\") if 'commit_log' in line)\n",
    "#open('filtered_data\\q4_committer_names_filtered.txt','w',encoding=\"utf8\").writelines(line.replace('][',' ||| ').replace('] = ', ' ||| ').replace('commit_log[','') for line in open('raw_data\\q4_committer_names.txt',encoding=\"utf8\") if 'commit_log' in line)\n",
    "#open('filtered_data\\q5_all_changed_files_filtered.txt','w',encoding=\"utf8\").writelines(line.replace('][',' ||| ').replace('] = ', ' ||| ').replace('commit_log[','') for line in open('raw_data\\q5_all_changed_files.txt',encoding=\"utf8\") if 'commit_log' in line)\n",
    "#open('filtered_data\\q6_deleted_files_filtered.txt','w',encoding=\"utf8\").writelines(line.replace('][',' ||| ').replace('] = ', ' ||| ').replace('commit_log[','') for line in open('raw_data\\q6_deleted_files.txt',encoding=\"utf8\") if 'commit_log' in line)\n",
    "#open('filtered_data\\q7_added_files_filtered.txt','w',encoding=\"utf8\").writelines(line.replace('][',' ||| ').replace('] = ', ' ||| ').replace('commit_log[','') for line in open('raw_data\\q7_added_files.txt',encoding=\"utf8\") if 'commit_log' in line)\n",
    "#open('filtered_data\\q8_modified_files_filtered.txt','w',encoding=\"utf8\").writelines(line.replace('][',' ||| ').replace('] = ', ' ||| ').replace('commit_log[','') for line in open('raw_data\\q8_modified_files.txt',encoding=\"utf8\") if 'commit_log' in line)\n",
    "#open('filtered_data\\q10_commit_count_by_project_filtered.txt','w',encoding=\"utf8\").writelines(line.replace('][',' ||| ').replace('] = ', ' ||| ').replace('commit_log[','') for line in open('raw_data\\q10_commit_count_by_project.txt',encoding=\"utf8\") if 'commit_log' in line)"
   ]
  },
  {
   "cell_type": "markdown",
   "metadata": {},
   "source": [
    "## here we bring the filtered files in and merge the first set into one dataframe"
   ]
  },
  {
   "cell_type": "code",
   "execution_count": 45,
   "metadata": {
    "collapsed": true,
    "scrolled": true
   },
   "outputs": [],
   "source": [
    "messages = pd.read_csv('filtered_data/q1_commit_messages_filtered.txt', usecols=[0,1,2], sep='\\|\\|\\|', names=['project_id','commit_id','message'])\n",
    "timestamps = pd.read_csv('filtered_data/q2_commit_dates_epoch_timestamp_filtered.txt', usecols=[0,1,2], sep='\\|\\|\\|', names=['project_id','commit_id','timestamp'])\n",
    "authors = pd.read_csv('filtered_data/q3_author_names_filtered.txt', usecols=[0,1,2], sep='\\|\\|\\|', names=['project_id','author_name','commit_id'])\n",
    "committers = pd.read_csv('filtered_data/q4_committer_names_filtered.txt', usecols=[0,1,2], sep='\\|\\|\\|', names=['project_id','commit_id','committer_name'])"
   ]
  },
  {
   "cell_type": "code",
   "execution_count": 46,
   "metadata": {
    "collapsed": true
   },
   "outputs": [],
   "source": [
    "#merge all the message related files together\n",
    "merge1 = pd.merge(messages,timestamps, on=['project_id','commit_id'])\n",
    "merge2 = pd.merge(merge1, authors, on=['project_id','commit_id'])\n",
    "merged_data = pd.merge(merge2,committers, on=['project_id','commit_id'])"
   ]
  },
  {
   "cell_type": "code",
   "execution_count": 47,
   "metadata": {
    "collapsed": true
   },
   "outputs": [],
   "source": [
    "#drop any rows that dont have a message because we dont need them\n",
    "merged_data.dropna(subset=['message'], inplace=True)"
   ]
  },
  {
   "cell_type": "code",
   "execution_count": 48,
   "metadata": {
    "collapsed": true,
    "scrolled": true
   },
   "outputs": [],
   "source": [
    "#spit out all the messages to a file alone for processing by sentistrength\n",
    "merged_data.message.to_csv('sentistrength_run/messages_only.csv', header=False, index=False)"
   ]
  },
  {
   "cell_type": "markdown",
   "metadata": {},
   "source": [
    "## here, we manually run the sentistrength tool on the messages_only file, which produces the messages_only_results file which we can then merge with the main dataframe"
   ]
  },
  {
   "cell_type": "code",
   "execution_count": 49,
   "metadata": {
    "collapsed": true
   },
   "outputs": [],
   "source": [
    "#bring the strengths data in from the sentistrength results file\n",
    "strengths = pd.read_csv('sentistrength_run/messages_only_results.txt', usecols=[1,2], sep='\\t', dtype=str, names=['positive_strength','negative_strength'])"
   ]
  },
  {
   "cell_type": "code",
   "execution_count": 50,
   "metadata": {
    "collapsed": true
   },
   "outputs": [],
   "source": [
    "#merge the strengths with the main dataframe\n",
    "merged_data.reset_index(drop=True, inplace=True)\n",
    "commit_messages_final = pd.concat([merged_data,strengths],axis=1)"
   ]
  },
  {
   "cell_type": "code",
   "execution_count": 51,
   "metadata": {
    "collapsed": true
   },
   "outputs": [],
   "source": [
    "#convert the timestamp to date and add a day of week field\n",
    "commit_messages_final[\"timestamp\"] = commit_messages_final[\"timestamp\"].astype(str)\n",
    "commit_messages_final[\"timestamp\"] = commit_messages_final[\"timestamp\"].str[:10]\n",
    "commit_messages_final['timestamp'] = pd.to_datetime(commit_messages_final['timestamp'],unit='s',errors='coerce')\n",
    "commit_messages_final['day_of_week'] = commit_messages_final['timestamp'].dt.weekday_name"
   ]
  },
  {
   "cell_type": "markdown",
   "metadata": {},
   "source": [
    "## done with commit messages, moving on to changed files"
   ]
  },
  {
   "cell_type": "code",
   "execution_count": 52,
   "metadata": {
    "collapsed": true
   },
   "outputs": [],
   "source": [
    "#Bring in all the file related stuff\n",
    "all_changes = pd.read_csv('filtered_data/q5_all_changed_files_filtered.txt', usecols=[0,1], sep='\\|\\|\\|', names=['commit_id','filepath'])\n",
    "deletes = pd.read_csv('filtered_data/q6_deleted_files_filtered.txt', usecols=[0,1], sep='\\|\\|\\|', names=['commit_id','filepath'])\n",
    "adds = pd.read_csv('filtered_data/q7_added_files_filtered.txt', usecols=[0,1], sep='\\|\\|\\|', names=['commit_id','filepath'])\n",
    "modifies = pd.read_csv('filtered_data/q8_modified_files_filtered.txt', usecols=[0,1], sep='\\|\\|\\|', names=['commit_id','filepath'])"
   ]
  },
  {
   "cell_type": "code",
   "execution_count": 53,
   "metadata": {
    "collapsed": true
   },
   "outputs": [],
   "source": [
    "#tag the deletes\n",
    "merge_deletes = pd.merge(all_changes, deletes, on=['commit_id','filepath'], how='left', indicator='modif')\n",
    "merge_deletes['modif'] = np.where(merge_deletes.modif == 'both', 'Delete', '')"
   ]
  },
  {
   "cell_type": "code",
   "execution_count": 54,
   "metadata": {
    "collapsed": true
   },
   "outputs": [],
   "source": [
    "#tag the adds\n",
    "merge_adds = pd.merge(all_changes, adds, on=['commit_id','filepath'], how='left', indicator='modif')\n",
    "merge_adds['modif'] = np.where(merge_adds.modif == 'both', 'Add', '')"
   ]
  },
  {
   "cell_type": "code",
   "execution_count": 55,
   "metadata": {
    "collapsed": true
   },
   "outputs": [],
   "source": [
    "#tag the modifies\n",
    "merge_modifies = pd.merge(all_changes, modifies, on=['commit_id','filepath'], how='left', indicator='modif')\n",
    "merge_modifies['modif'] = np.where(merge_modifies.modif == 'both', 'Modify', '')"
   ]
  },
  {
   "cell_type": "code",
   "execution_count": 56,
   "metadata": {
    "collapsed": true
   },
   "outputs": [],
   "source": [
    "#merge the deletes and adds tag frames together\n",
    "temp_files_merge = pd.merge(merge_deletes, merge_adds, on=['commit_id','filepath'])"
   ]
  },
  {
   "cell_type": "code",
   "execution_count": 57,
   "metadata": {
    "collapsed": true
   },
   "outputs": [],
   "source": [
    "#squash down the columns in the delete/add frame so the tags are in the same column\n",
    "temp_files_merge['modif'] = temp_files_merge['modif_x'].where(temp_files_merge['modif_x'] != '', temp_files_merge['modif_y'])\n",
    "temp_files_merge = temp_files_merge.drop(['modif_x','modif_y'],axis=1)"
   ]
  },
  {
   "cell_type": "code",
   "execution_count": 58,
   "metadata": {
    "collapsed": true
   },
   "outputs": [],
   "source": [
    "#merge the delete/add frame and the modify frame together\n",
    "temp_files_merge2 = pd.merge(temp_files_merge, merge_modifies, on=['commit_id','filepath'])"
   ]
  },
  {
   "cell_type": "code",
   "execution_count": 59,
   "metadata": {
    "collapsed": true
   },
   "outputs": [],
   "source": [
    "#squash down the columns in the final frame so the all tags are in the same column\n",
    "temp_files_merge2['modification'] = temp_files_merge2['modif_x'].where(temp_files_merge2['modif_x'] != '', temp_files_merge2['modif_y'])\n",
    "files_changed_final = temp_files_merge2.drop(['modif_x','modif_y'],axis=1)"
   ]
  },
  {
   "cell_type": "markdown",
   "metadata": {},
   "source": [
    "##  here are the final pandas dataframes:"
   ]
  },
  {
   "cell_type": "code",
   "execution_count": 60,
   "metadata": {},
   "outputs": [
    {
     "data": {
      "text/html": [
       "<div>\n",
       "<style>\n",
       "    .dataframe thead tr:only-child th {\n",
       "        text-align: right;\n",
       "    }\n",
       "\n",
       "    .dataframe thead th {\n",
       "        text-align: left;\n",
       "    }\n",
       "\n",
       "    .dataframe tbody tr th {\n",
       "        vertical-align: top;\n",
       "    }\n",
       "</style>\n",
       "<table border=\"1\" class=\"dataframe\">\n",
       "  <thead>\n",
       "    <tr style=\"text-align: right;\">\n",
       "      <th></th>\n",
       "      <th>project_id</th>\n",
       "      <th>commit_id</th>\n",
       "      <th>message</th>\n",
       "      <th>timestamp</th>\n",
       "      <th>author_name</th>\n",
       "      <th>committer_name</th>\n",
       "      <th>positive_strength</th>\n",
       "      <th>negative_strength</th>\n",
       "      <th>day_of_week</th>\n",
       "    </tr>\n",
       "  </thead>\n",
       "  <tbody>\n",
       "    <tr>\n",
       "      <th>0</th>\n",
       "      <td>10000244</td>\n",
       "      <td>0515c7d89f97bf7f1e488ac39dcc8fe1ee79f605</td>\n",
       "      <td>photo in progress</td>\n",
       "      <td>2013-05-11 15:52:20</td>\n",
       "      <td>syhw</td>\n",
       "      <td>syhw</td>\n",
       "      <td>1</td>\n",
       "      <td>-1</td>\n",
       "      <td>Saturday</td>\n",
       "    </tr>\n",
       "    <tr>\n",
       "      <th>1</th>\n",
       "      <td>10000244</td>\n",
       "      <td>07abeaf9bd85eb77f0774607161a7ccb3ed8dff3</td>\n",
       "      <td>stashing</td>\n",
       "      <td>2013-05-12 09:29:50</td>\n",
       "      <td>syhw</td>\n",
       "      <td>syhw</td>\n",
       "      <td>1</td>\n",
       "      <td>-1</td>\n",
       "      <td>Sunday</td>\n",
       "    </tr>\n",
       "    <tr>\n",
       "      <th>2</th>\n",
       "      <td>10000244</td>\n",
       "      <td>11f46d585bfc263e11b0556566559e6513cca0e4</td>\n",
       "      <td>R</td>\n",
       "      <td>2013-05-12 12:10:17</td>\n",
       "      <td>syhw</td>\n",
       "      <td>syhw</td>\n",
       "      <td>1</td>\n",
       "      <td>-1</td>\n",
       "      <td>Sunday</td>\n",
       "    </tr>\n",
       "    <tr>\n",
       "      <th>3</th>\n",
       "      <td>10000244</td>\n",
       "      <td>25ffeb626cd9146c483c6144b8208b5bd6cf26c4</td>\n",
       "      <td>merged photo (working) with master, see TODOs...</td>\n",
       "      <td>2013-05-12 07:18:18</td>\n",
       "      <td>syhw</td>\n",
       "      <td>syhw</td>\n",
       "      <td>1</td>\n",
       "      <td>-1</td>\n",
       "      <td>Sunday</td>\n",
       "    </tr>\n",
       "    <tr>\n",
       "      <th>4</th>\n",
       "      <td>10000244</td>\n",
       "      <td>33ac9b6d9da4234c93ae3d9e0d7b0f41edb99d8a</td>\n",
       "      <td>Request task</td>\n",
       "      <td>2013-05-12 10:01:57</td>\n",
       "      <td>syhw</td>\n",
       "      <td>syhw</td>\n",
       "      <td>1</td>\n",
       "      <td>-1</td>\n",
       "      <td>Sunday</td>\n",
       "    </tr>\n",
       "  </tbody>\n",
       "</table>\n",
       "</div>"
      ],
      "text/plain": [
       "   project_id                                   commit_id  \\\n",
       "0    10000244   0515c7d89f97bf7f1e488ac39dcc8fe1ee79f605    \n",
       "1    10000244   07abeaf9bd85eb77f0774607161a7ccb3ed8dff3    \n",
       "2    10000244   11f46d585bfc263e11b0556566559e6513cca0e4    \n",
       "3    10000244   25ffeb626cd9146c483c6144b8208b5bd6cf26c4    \n",
       "4    10000244   33ac9b6d9da4234c93ae3d9e0d7b0f41edb99d8a    \n",
       "\n",
       "                                             message           timestamp  \\\n",
       "0                                  photo in progress 2013-05-11 15:52:20   \n",
       "1                                           stashing 2013-05-12 09:29:50   \n",
       "2                                                  R 2013-05-12 12:10:17   \n",
       "3   merged photo (working) with master, see TODOs... 2013-05-12 07:18:18   \n",
       "4                                       Request task 2013-05-12 10:01:57   \n",
       "\n",
       "  author_name committer_name positive_strength negative_strength day_of_week  \n",
       "0       syhw            syhw                 1                -1    Saturday  \n",
       "1       syhw            syhw                 1                -1      Sunday  \n",
       "2       syhw            syhw                 1                -1      Sunday  \n",
       "3       syhw            syhw                 1                -1      Sunday  \n",
       "4       syhw            syhw                 1                -1      Sunday  "
      ]
     },
     "execution_count": 60,
     "metadata": {},
     "output_type": "execute_result"
    }
   ],
   "source": [
    "commit_messages_final.head()"
   ]
  },
  {
   "cell_type": "code",
   "execution_count": 61,
   "metadata": {},
   "outputs": [
    {
     "data": {
      "text/html": [
       "<div>\n",
       "<style>\n",
       "    .dataframe thead tr:only-child th {\n",
       "        text-align: right;\n",
       "    }\n",
       "\n",
       "    .dataframe thead th {\n",
       "        text-align: left;\n",
       "    }\n",
       "\n",
       "    .dataframe tbody tr th {\n",
       "        vertical-align: top;\n",
       "    }\n",
       "</style>\n",
       "<table border=\"1\" class=\"dataframe\">\n",
       "  <thead>\n",
       "    <tr style=\"text-align: right;\">\n",
       "      <th></th>\n",
       "      <th>commit_id</th>\n",
       "      <th>filepath</th>\n",
       "      <th>modification</th>\n",
       "    </tr>\n",
       "  </thead>\n",
       "  <tbody>\n",
       "    <tr>\n",
       "      <th>0</th>\n",
       "      <td>000e3673387b662e32f1037eeaea2aa29b630448</td>\n",
       "      <td>Sources/Internal/Platform/TemplateMacOS/MainW...</td>\n",
       "      <td>Modify</td>\n",
       "    </tr>\n",
       "    <tr>\n",
       "      <th>1</th>\n",
       "      <td>000e3673387b662e32f1037eeaea2aa29b630448</td>\n",
       "      <td>Tools/ResourceEditor/Classes/Qt/Tools/LodCorr...</td>\n",
       "      <td>Delete</td>\n",
       "    </tr>\n",
       "    <tr>\n",
       "      <th>2</th>\n",
       "      <td>000e3673387b662e32f1037eeaea2aa29b630448</td>\n",
       "      <td>Tools/ResourceEditor/Classes/Qt/Tools/LodCorr...</td>\n",
       "      <td>Delete</td>\n",
       "    </tr>\n",
       "    <tr>\n",
       "      <th>3</th>\n",
       "      <td>000e3673387b662e32f1037eeaea2aa29b630448</td>\n",
       "      <td>Tools/ResourceEditor/Classes/Qt/Tools/LodCorr...</td>\n",
       "      <td>Delete</td>\n",
       "    </tr>\n",
       "    <tr>\n",
       "      <th>4</th>\n",
       "      <td>000e3673387b662e32f1037eeaea2aa29b630448</td>\n",
       "      <td>Tools/ResourceEditor/Classes/Qt/Tools/LodCorr...</td>\n",
       "      <td>Delete</td>\n",
       "    </tr>\n",
       "  </tbody>\n",
       "</table>\n",
       "</div>"
      ],
      "text/plain": [
       "                                   commit_id  \\\n",
       "0  000e3673387b662e32f1037eeaea2aa29b630448    \n",
       "1  000e3673387b662e32f1037eeaea2aa29b630448    \n",
       "2  000e3673387b662e32f1037eeaea2aa29b630448    \n",
       "3  000e3673387b662e32f1037eeaea2aa29b630448    \n",
       "4  000e3673387b662e32f1037eeaea2aa29b630448    \n",
       "\n",
       "                                            filepath modification  \n",
       "0   Sources/Internal/Platform/TemplateMacOS/MainW...       Modify  \n",
       "1   Tools/ResourceEditor/Classes/Qt/Tools/LodCorr...       Delete  \n",
       "2   Tools/ResourceEditor/Classes/Qt/Tools/LodCorr...       Delete  \n",
       "3   Tools/ResourceEditor/Classes/Qt/Tools/LodCorr...       Delete  \n",
       "4   Tools/ResourceEditor/Classes/Qt/Tools/LodCorr...       Delete  "
      ]
     },
     "execution_count": 61,
     "metadata": {},
     "output_type": "execute_result"
    }
   ],
   "source": [
    "files_changed_final.head()"
   ]
  },
  {
   "cell_type": "markdown",
   "metadata": {},
   "source": [
    "# Analysis"
   ]
  },
  {
   "cell_type": "markdown",
   "metadata": {},
   "source": [
    "### RQ1"
   ]
  },
  {
   "cell_type": "code",
   "execution_count": 62,
   "metadata": {
    "collapsed": true
   },
   "outputs": [],
   "source": [
    "#compute final sentiment value from sum of positive and negative\n",
    "commit_messages_final['final_sentiment'] = pd.to_numeric(commit_messages_final['positive_strength']) + pd.to_numeric(commit_messages_final['negative_strength'])"
   ]
  },
  {
   "cell_type": "code",
   "execution_count": 85,
   "metadata": {},
   "outputs": [],
   "source": [
    "#count the number of commits for each sentiment level\n",
    "commits_by_sentiment = commit_messages_final.groupby(['final_sentiment']).count().reset_index()\n",
    "commits_by_sentiment = commits_by_sentiment[['final_sentiment','project_id']]\n",
    "commits_by_sentiment.rename(columns={'project_id':'count'}, inplace=True)"
   ]
  },
  {
   "cell_type": "code",
   "execution_count": 86,
   "metadata": {},
   "outputs": [
    {
     "data": {
      "text/html": [
       "<div>\n",
       "<style>\n",
       "    .dataframe thead tr:only-child th {\n",
       "        text-align: right;\n",
       "    }\n",
       "\n",
       "    .dataframe thead th {\n",
       "        text-align: left;\n",
       "    }\n",
       "\n",
       "    .dataframe tbody tr th {\n",
       "        vertical-align: top;\n",
       "    }\n",
       "</style>\n",
       "<table border=\"1\" class=\"dataframe\">\n",
       "  <thead>\n",
       "    <tr style=\"text-align: right;\">\n",
       "      <th></th>\n",
       "      <th>final_sentiment</th>\n",
       "      <th>count</th>\n",
       "    </tr>\n",
       "  </thead>\n",
       "  <tbody>\n",
       "    <tr>\n",
       "      <th>0</th>\n",
       "      <td>-4</td>\n",
       "      <td>47</td>\n",
       "    </tr>\n",
       "    <tr>\n",
       "      <th>1</th>\n",
       "      <td>-3</td>\n",
       "      <td>1819</td>\n",
       "    </tr>\n",
       "    <tr>\n",
       "      <th>2</th>\n",
       "      <td>-2</td>\n",
       "      <td>31340</td>\n",
       "    </tr>\n",
       "    <tr>\n",
       "      <th>3</th>\n",
       "      <td>-1</td>\n",
       "      <td>262278</td>\n",
       "    </tr>\n",
       "    <tr>\n",
       "      <th>4</th>\n",
       "      <td>0</td>\n",
       "      <td>1821462</td>\n",
       "    </tr>\n",
       "    <tr>\n",
       "      <th>5</th>\n",
       "      <td>1</td>\n",
       "      <td>125868</td>\n",
       "    </tr>\n",
       "    <tr>\n",
       "      <th>6</th>\n",
       "      <td>2</td>\n",
       "      <td>9911</td>\n",
       "    </tr>\n",
       "    <tr>\n",
       "      <th>7</th>\n",
       "      <td>3</td>\n",
       "      <td>295</td>\n",
       "    </tr>\n",
       "    <tr>\n",
       "      <th>8</th>\n",
       "      <td>4</td>\n",
       "      <td>6</td>\n",
       "    </tr>\n",
       "  </tbody>\n",
       "</table>\n",
       "</div>"
      ],
      "text/plain": [
       "   final_sentiment    count\n",
       "0               -4       47\n",
       "1               -3     1819\n",
       "2               -2    31340\n",
       "3               -1   262278\n",
       "4                0  1821462\n",
       "5                1   125868\n",
       "6                2     9911\n",
       "7                3      295\n",
       "8                4        6"
      ]
     },
     "execution_count": 86,
     "metadata": {},
     "output_type": "execute_result"
    }
   ],
   "source": [
    "commits_by_sentiment"
   ]
  },
  {
   "cell_type": "code",
   "execution_count": 81,
   "metadata": {},
   "outputs": [],
   "source": [
    "commits_by_project = commit_messages_final.groupby(['project_id']).count().reset_index()"
   ]
  },
  {
   "cell_type": "code",
   "execution_count": 82,
   "metadata": {},
   "outputs": [],
   "source": [
    "commits_by_project = commits_by_project[['project_id','commit_id']]\n",
    "commits_by_project.rename(columns={'commit_id':'count'}, inplace=True)\n",
    "commits_by_project.sort_values(['count'], inplace=True)"
   ]
  },
  {
   "cell_type": "code",
   "execution_count": 83,
   "metadata": {},
   "outputs": [],
   "source": [
    "commits_by_project.to_csv('commits_by_project_sorted.csv', sep='\\t', encoding='utf-8')"
   ]
  },
  {
   "cell_type": "markdown",
   "metadata": {},
   "source": [
    "### manually obtained large, average and low groups by examining file"
   ]
  },
  {
   "cell_type": "code",
   "execution_count": 87,
   "metadata": {
    "collapsed": true
   },
   "outputs": [],
   "source": [
    "largelist = ['12496978','10613094','5153143','7785050','1968812']\n",
    "avglist = ['2424377','5256179','365893','6719407','13010741']\n",
    "lowlist = ['10453653','10530838','11416657','4067771','1571039']"
   ]
  },
  {
   "cell_type": "code",
   "execution_count": 88,
   "metadata": {
    "collapsed": true
   },
   "outputs": [],
   "source": [
    "large_projects = commit_messages_final.loc[commit_messages_final['project_id'].isin(largelist)]\n",
    "avg_projects = commit_messages_final.loc[commit_messages_final['project_id'].isin(avglist)]\n",
    "low_projects = commit_messages_final.loc[commit_messages_final['project_id'].isin(lowlist)]"
   ]
  },
  {
   "cell_type": "markdown",
   "metadata": {},
   "source": [
    "### RQ2"
   ]
  },
  {
   "cell_type": "code",
   "execution_count": null,
   "metadata": {
    "collapsed": true
   },
   "outputs": [],
   "source": []
  }
 ],
 "metadata": {
  "kernelspec": {
   "display_name": "Python 3",
   "language": "python",
   "name": "python3"
  },
  "language_info": {
   "codemirror_mode": {
    "name": "ipython",
    "version": 3
   },
   "file_extension": ".py",
   "mimetype": "text/x-python",
   "name": "python",
   "nbconvert_exporter": "python",
   "pygments_lexer": "ipython3",
   "version": "3.6.3"
  }
 },
 "nbformat": 4,
 "nbformat_minor": 2
}
